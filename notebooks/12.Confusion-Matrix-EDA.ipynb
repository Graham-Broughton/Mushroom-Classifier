{
 "cells": [
  {
   "cell_type": "code",
   "execution_count": 2,
   "metadata": {},
   "outputs": [],
   "source": [
    "import pandas as pd\n",
    "import numpy as np\n",
    "import matplotlib.pyplot as plt\n",
    "import seaborn as sns\n",
    "from pathlib import Path\n",
    "from sklearn.metrics import ConfusionMatrixDisplay, classification_report\n",
    "import pickle\n",
    "\n",
    "pd.options.display.max_columns = 150"
   ]
  },
  {
   "cell_type": "code",
   "execution_count": 3,
   "metadata": {},
   "outputs": [],
   "source": [
    "root = Path().cwd().parent\n",
    "data = root / 'data' / 'MO'\n",
    "train_data = root / 'training' / 'data'"
   ]
  },
  {
   "cell_type": "code",
   "execution_count": 3,
   "metadata": {},
   "outputs": [],
   "source": [
    "class_dict = pickle.load(open(train_data / 'class_dict_NEW2.pkl', 'rb'))\n",
    "testdf = pd.read_csv(train_data / 'test_df.csv')\n",
    "valdf = pd.read_csv(train_data / 'val_df.csv')\n",
    "traindf = pd.read_csv(train_data / 'train_df.csv')\n",
    "\n",
    "traindf['dataset'] = 'train'\n",
    "valdf['dataset'] = 'val'\n",
    "testdf['dataset'] = 'test'\n",
    "\n",
    "df = pd.concat([traindf, valdf, testdf], axis=0).reset_index(drop=True)\n",
    "df['ids'] = df['ids'].replace(r\"b'\", '', regex=True).replace(r\"'\", '', regex=True)\n",
    "\n",
    "cd = {v:k for k, v in class_dict.items()}"
   ]
  },
  {
   "cell_type": "code",
   "execution_count": 10,
   "metadata": {},
   "outputs": [],
   "source": [
    "df['correct'] = df['Species Pred'] == df['Species']\n",
    "df['correct'] = df['correct'].astype(int)\n",
    "group = df.groupby(['Species']).agg(total=('correct', 'count'), correct=('correct', 'sum'))"
   ]
  },
  {
   "cell_type": "code",
   "execution_count": null,
   "metadata": {},
   "outputs": [],
   "source": [
    "ddf = df.groupby(\"Species\")['Species Pred'].value_counts()#.reset_index()\n",
    "dfs = ddf.groupby(\"Species\").std()\n",
    "dfs.sort_values()"
   ]
  },
  {
   "cell_type": "code",
   "execution_count": 189,
   "metadata": {},
   "outputs": [
    {
     "data": {
      "text/plain": [
       "Species Pred\n",
       "Agaricus californicus         146\n",
       "Agaricus xanthodermus          69\n",
       "Non-Diagnostic                 17\n",
       "Agaricus campestris            10\n",
       "Agaricus moelleri              10\n",
       "Agaricus bitorquis              8\n",
       "Agaricus hondensis              6\n",
       "Coprinopsis atramentaria        5\n",
       "Leucoagaricus leucothites       4\n",
       "Agaricus arvensis               2\n",
       "Agaricus augustus               2\n",
       "Agaricus bernardi               2\n",
       "Chlorophyllum molybdites        2\n",
       "Chlorophyllum brunneum          2\n",
       "Agaricus sylvicola              2\n",
       "Psilocybe caerulescens          2\n",
       "Agaricus placomyces             1\n",
       "Amanita porphyria               1\n",
       "Amanita bisporigera             1\n",
       "Agrocybe praecox                1\n",
       "Agaricus albolutescens          1\n",
       "Volvopluteus gloiocephalus      1\n",
       "Gyromitra esculenta             1\n",
       "Lactarius argillaceifolius      1\n",
       "Clitocybe glacialis             1\n",
       "Panaeolus cinctulus             1\n",
       "Stropharia coronilla            1\n",
       "Pluteus petasatus               1\n",
       "Leucoagaricus barssii           1\n",
       "Name: count, dtype: int64"
      ]
     },
     "execution_count": 189,
     "metadata": {},
     "output_type": "execute_result"
    }
   ],
   "source": [
    "ddf['Agaricus californicus']"
   ]
  },
  {
   "cell_type": "code",
   "execution_count": null,
   "metadata": {},
   "outputs": [],
   "source": [
    "[(\"Agaricus bisporus\", \"Agaricus campestris\", \"Agaricus bitorquis\"), (\"Agaricus californicus\", \"Agaricus xanthoderma\"), (\"Auricularia americana\", \"Auricularia angiospermarum\"),\n",
    " (\"Cantherellus cascadensis\", \"Cantherellus formosus\"), (\"Cerioporus various\", \"Cerioporus leptocephalus\"), (\"Clavulina cinerea\", \"Clavulina corraloides\"),\n",
    " ('Clitocybe tarda', 'Lepista sordida'), ('Coprinopsis atramentaria', 'Coprinopsis romagnesiana'), (\"Craterellus cornucopioides\", \"Craterellus fallax\", 'Craterellus calicornucopioides'),\n",
    " (\"Exidia crenata\", \"Exidia recisa\"), ('Ganoderma australe', 'Ganoderma applanatum'), ('Ganoderma megaloma', 'Ganoderma applanatum'), (\"Ganoderma brownii\", \"Ganoderma applanatum\"), \n",
    " (\"Ganoderma lobatum\", \"Ganoderma applanatum\"), (\"Gymnopilus aeruginosus\", \"Gymnopilus luteofolius\"), ('Hygrocybe chlorophana', 'Hygrocybe flavescens'),\n",
    " (\"Hydnellum scabrosum\", \"Sarcodon imbricatus\"), ('Inonotus dryadeus', 'Pseudoinonotus dryadeus'),  (\"Inosperma bongardii\", \"Entoloma sericeum\", \"Hypholoma lateritium\", \"Inocybe assimilata\"),\n",
    " (\"Laccaria bicolor\", \"Laccaria laccata\"), (\"Lactarius rufulus\", \"Lactarius rubidus\"), (\"Lactifluus glaucescens\", \"Lactifluus piperatus\"), (\"Lepista sordida\", \"Clitocybe nuda\"), \n",
    " (\"Leratiomyces riparius\", \"Leratiomyces percevalii\"), (\"Lycoperdon molle\", \"Lycoperdon pyridorme\", \"Lycoperdon perlatum\"), (\"Melanoleuca cognata\", \"Melanoleuca alboflavida\"),\n",
    " (\"Mycena amicta\", \"Mycena subcaerulea\"), (\"Pleurotus populinus\", \"Pleurotus pulmonarius\"), ('Pluteus brunneidiscus', 'Pluteus petasatus'), ('Pluteus primus', 'Pluteus cervinus'), \n",
    " (\"Psilocybe subaeruginosa\", \"Psilocybe cyanescens\"), (\"Russula cyanoxantha\", \"Russula variata\"), (\"Russula dissimulans\", \"Russula densifolia\"), \n",
    " (\"Russula fragrantissima\", \"Russula grata\"), (\"Suillus ponderosus\", \"Suillus caerulescens\"), (\"Trametes aesculi\", \"Trametes gibbosa\"), ('Trametes ochracea', 'Trametes versicolor'),\n",
    " (\"Tricholoma ustale\", \"Tricholoma fulvum\"),  ]"
   ]
  },
  {
   "cell_type": "code",
   "execution_count": 14,
   "metadata": {},
   "outputs": [],
   "source": [
    "ddf = pd.read_csv(train_data / 'train_with_MO2.csv')\n",
    "ddf['name'] = ddf['name'].replace({\n",
    "    'Lepista nuda': 'Clitocybe nuda', \n",
    "    'Tremella foliacea': \"Phaeotremella foliacea\", \n",
    "    'Panaeolina foenisecii': 'Panaeolus foenisecii',\n",
    "    'Panellus serotinus': 'Sarcomyxa serotina',\n",
    "    'Fomitopsis cajanderi': 'Rhodofomes cajanderi',\n",
    "    # 'Amanita amerirubescens': 'Amanita rubescens',\n",
    "    'Trametes sanguinea': 'Pycnoporus sanguineus',\n",
    "    'Polyporus alveolaris': 'Neofavolus alveolaris',\n",
    "    'Trametes conchifer': 'Poronidulus conchifer',\n",
    "    'Usnea longissima': 'Dolichousnea longissima',\n",
    "    'Pisolithus arrhizus': 'Pisolithus arhizus',\n",
    "    'Ricasolia quercizans': 'Lobaria quercizans',\n",
    "    })"
   ]
  },
  {
   "cell_type": "code",
   "execution_count": 21,
   "metadata": {},
   "outputs": [],
   "source": [
    "ddf['class_id'] = ddf.groupby('name')['name'].ngroup()\n",
    "ddf.to_csv(train_data / 'train_with_MO3.csv', index=False)\n",
    "class_d = ddf.groupby(['class_id'])['name'].first().to_dict()\n",
    "pickle.dump(class_d, open(train_data / 'class_dict_NEW3.pkl', 'wb'))"
   ]
  },
  {
   "cell_type": "code",
   "execution_count": null,
   "metadata": {},
   "outputs": [],
   "source": [
    "group['percent'] = group['correct'] / group['total']\n",
    "group['percent'] = group['percent'].round(2)\n",
    "group.sort_values('percent').iloc[50:100]"
   ]
  },
  {
   "cell_type": "code",
   "execution_count": null,
   "metadata": {},
   "outputs": [],
   "source": [
    "dfs.sort_values().head(50)"
   ]
  },
  {
   "cell_type": "code",
   "execution_count": 19,
   "metadata": {},
   "outputs": [
    {
     "name": "stderr",
     "output_type": "stream",
     "text": [
      "c:\\Users\\broug\\miniforge3\\envs\\ds2\\lib\\site-packages\\sklearn\\metrics\\_classification.py:1471: UndefinedMetricWarning: Precision and F-score are ill-defined and being set to 0.0 in labels with no predicted samples. Use `zero_division` parameter to control this behavior.\n",
      "  _warn_prf(average, modifier, msg_start, len(result))\n",
      "c:\\Users\\broug\\miniforge3\\envs\\ds2\\lib\\site-packages\\sklearn\\metrics\\_classification.py:1471: UndefinedMetricWarning: Recall and F-score are ill-defined and being set to 0.0 in labels with no true samples. Use `zero_division` parameter to control this behavior.\n",
      "  _warn_prf(average, modifier, msg_start, len(result))\n",
      "c:\\Users\\broug\\miniforge3\\envs\\ds2\\lib\\site-packages\\sklearn\\metrics\\_classification.py:1471: UndefinedMetricWarning: Precision and F-score are ill-defined and being set to 0.0 in labels with no predicted samples. Use `zero_division` parameter to control this behavior.\n",
      "  _warn_prf(average, modifier, msg_start, len(result))\n",
      "c:\\Users\\broug\\miniforge3\\envs\\ds2\\lib\\site-packages\\sklearn\\metrics\\_classification.py:1471: UndefinedMetricWarning: Recall and F-score are ill-defined and being set to 0.0 in labels with no true samples. Use `zero_division` parameter to control this behavior.\n",
      "  _warn_prf(average, modifier, msg_start, len(result))\n",
      "c:\\Users\\broug\\miniforge3\\envs\\ds2\\lib\\site-packages\\sklearn\\metrics\\_classification.py:1471: UndefinedMetricWarning: Precision and F-score are ill-defined and being set to 0.0 in labels with no predicted samples. Use `zero_division` parameter to control this behavior.\n",
      "  _warn_prf(average, modifier, msg_start, len(result))\n",
      "c:\\Users\\broug\\miniforge3\\envs\\ds2\\lib\\site-packages\\sklearn\\metrics\\_classification.py:1471: UndefinedMetricWarning: Recall and F-score are ill-defined and being set to 0.0 in labels with no true samples. Use `zero_division` parameter to control this behavior.\n",
      "  _warn_prf(average, modifier, msg_start, len(result))\n"
     ]
    }
   ],
   "source": [
    "cr = classification_report(preddf['Actual Label'], preddf['Prediction'], output_dict=True)\n",
    "cr = pd.DataFrame(cr).transpose()\n",
    "df = cr.iloc[:-3, :-1]\n",
    "\n",
    "test = df.loc[df['dataset'] == 'test']\n",
    "val = df.loc[df['dataset'] == 'val']\n",
    "train = df.loc[df['dataset'] == 'train']\n",
    "conf_train = pd.crosstab(train['Actual Label'], train['Prediction'], rownames=['Actual Label'], colnames=['Predicted'], margins=True)\n",
    "conf_val = pd.crosstab(val['Actual Label'], val['Prediction'], rownames=['Actual Label'], colnames=['Predicted'], margins=True)\n",
    "conf_test = pd.crosstab(test['Actual Label'], test['Prediction'], rownames=['Actual Label'], colnames=['Predicted'], margins=True)\n",
    "conf_train.iloc[:-1, :-1].div(conf_train.iloc[:-1, :-1].sum(axis=1), axis=\"index\").head(50)"
   ]
  },
  {
   "cell_type": "code",
   "execution_count": 4,
   "metadata": {},
   "outputs": [],
   "source": [
    "ddf = pd.read_csv(train_data / 'train_with_MO3.csv')"
   ]
  },
  {
   "cell_type": "code",
   "execution_count": 5,
   "metadata": {},
   "outputs": [],
   "source": [
    "from sklearn.utils.class_weight import compute_class_weight"
   ]
  },
  {
   "cell_type": "code",
   "execution_count": 6,
   "metadata": {},
   "outputs": [
    {
     "data": {
      "text/plain": [
       "(1277,)"
      ]
     },
     "execution_count": 6,
     "metadata": {},
     "output_type": "execute_result"
    }
   ],
   "source": [
    "compute_class_weight('balanced', classes=np.unique(ddf['class_id']), y=ddf['class_id']).shape"
   ]
  },
  {
   "cell_type": "code",
   "execution_count": null,
   "metadata": {},
   "outputs": [],
   "source": []
  }
 ],
 "metadata": {
  "kernelspec": {
   "display_name": "ds2",
   "language": "python",
   "name": "python3"
  },
  "language_info": {
   "codemirror_mode": {
    "name": "ipython",
    "version": 3
   },
   "file_extension": ".py",
   "mimetype": "text/x-python",
   "name": "python",
   "nbconvert_exporter": "python",
   "pygments_lexer": "ipython3",
   "version": "3.10.13"
  }
 },
 "nbformat": 4,
 "nbformat_minor": 2
}
