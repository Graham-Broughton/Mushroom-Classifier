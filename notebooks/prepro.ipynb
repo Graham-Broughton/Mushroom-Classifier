{
 "cells": [
  {
   "cell_type": "code",
   "execution_count": 22,
   "metadata": {},
   "outputs": [],
   "source": [
    "import json\n",
    "import numpy as np\n",
    "import pandas as pd\n",
    "from loguru import logger\n",
    "from tqdm import tqdm\n",
    "from sklearn.model_selection import KFold, StratifiedKFold, train_test_split\n",
    "from training.train_config import CFG\n",
    "pd.set_option('display.max_columns', None)\n",
    "pd.set_option('display.max_rows', 500)"
   ]
  },
  {
   "cell_type": "code",
   "execution_count": 23,
   "metadata": {},
   "outputs": [],
   "source": [
    "from os import environ\n",
    "from pathlib import Path\n",
    "root = Path(environ['PYTHONPATH'].split(\":\")[0])\n",
    "raw_data_root = root / 'training' / 'data' / \"raw\""
   ]
  },
  {
   "cell_type": "code",
   "execution_count": 24,
   "metadata": {},
   "outputs": [],
   "source": [
    "def stratified_sample(df: pd.DataFrame, groupby_column: str, sampling_rate: float = 0.01) -> pd.DataFrame:\n",
    "    assert 0.0 < sampling_rate <= 1.0\n",
    "    assert groupby_column in df.columns\n",
    "\n",
    "    num_rows = int((df.shape[0] * sampling_rate) // 1)\n",
    "    num_classes = len(df[groupby_column].unique())\n",
    "    num_rows_per_class = int(max(1, ((num_rows / num_classes) // 1)))\n",
    "    df_sample = df.groupby(groupby_column, group_keys=False).apply(lambda x: x.sample(min(len(x), num_rows_per_class)))\n",
    "\n",
    "    return df_sample\n",
    "\n",
    "\n",
    "# @task\n",
    "def load_dataframe(root_path):\n",
    "    \"\"\"This function loads a dataframe from the given root path.\n",
    "\n",
    "    Parameters:\n",
    "        root_path (pathlib.Path): The root path where the dataframe is located.\n",
    "\n",
    "    Returns:\n",
    "        DataFrame: The loaded dataframe.\n",
    "    \"\"\"\n",
    "    df = pd.read_csv(root_path.parent / \"train.csv\")\n",
    "    if CFG.COMBINE_TRAIN_VAL:\n",
    "        df = stratified_sample(df, \"class_id\", sampling_rate=1.0)\n",
    "    else:\n",
    "        val = stratified_sample(df[df[\"dset\"] == \"val\"], \"class_id\", sampling_rate=1.0)\n",
    "        train = stratified_sample(df[df[\"dset\"] == \"train\"], \"class_id\", sampling_rate=1.0)\n",
    "        \n",
    "    del df\n",
    "    logger.info(\"Loaded train and val dataframes\")\n",
    "    logger.debug(f\"Train shape: {train.shape}  :  val shape: {val.shape}\")\n",
    "    return train, val"
   ]
  },
  {
   "cell_type": "code",
   "execution_count": 25,
   "metadata": {},
   "outputs": [
    {
     "name": "stderr",
     "output_type": "stream",
     "text": [
      "/tmp/ipykernel_2445/3685234450.py:1: DtypeWarning: Columns (15) have mixed types. Specify dtype option on import or set low_memory=False.\n",
      "  df = pd.read_csv(raw_data_root.parent / \"train.csv\")\n"
     ]
    }
   ],
   "source": [
    "df = pd.read_csv(raw_data_root.parent / \"train.csv\")"
   ]
  },
  {
   "cell_type": "code",
   "execution_count": 26,
   "metadata": {},
   "outputs": [],
   "source": [
    "df = df[['class_id', 'file_name']]"
   ]
  },
  {
   "cell_type": "code",
   "execution_count": 31,
   "metadata": {},
   "outputs": [],
   "source": [
    "kf = KFold(n_splits=5, shuffle=True, random_state=42)\n",
    "skf = StratifiedKFold(n_splits=50, shuffle=True, random_state=42)"
   ]
  },
  {
   "cell_type": "code",
   "execution_count": 32,
   "metadata": {},
   "outputs": [
    {
     "name": "stderr",
     "output_type": "stream",
     "text": [
      "/home/broug/mambaforge/envs/py311/lib/python3.11/site-packages/sklearn/model_selection/_split.py:737: UserWarning: The least populated class in y has only 10 members, which is less than n_splits=50.\n",
      "  warnings.warn(\n"
     ]
    }
   ],
   "source": [
    "for fold, (train_idx, val_idx) in enumerate(skf.split(df, df[\"class_id\"])):\n",
    "    df_train = df.iloc[train_idx]\n",
    "    df_val = df.iloc[val_idx]"
   ]
  },
  {
   "cell_type": "code",
   "execution_count": 34,
   "metadata": {},
   "outputs": [
    {
     "data": {
      "text/html": [
       "<div>\n",
       "<style scoped>\n",
       "    .dataframe tbody tr th:only-of-type {\n",
       "        vertical-align: middle;\n",
       "    }\n",
       "\n",
       "    .dataframe tbody tr th {\n",
       "        vertical-align: top;\n",
       "    }\n",
       "\n",
       "    .dataframe thead th {\n",
       "        text-align: right;\n",
       "    }\n",
       "</style>\n",
       "<table border=\"1\" class=\"dataframe\">\n",
       "  <thead>\n",
       "    <tr style=\"text-align: right;\">\n",
       "      <th></th>\n",
       "      <th>class_id</th>\n",
       "      <th>file_name</th>\n",
       "    </tr>\n",
       "  </thead>\n",
       "  <tbody>\n",
       "    <tr>\n",
       "      <th>0</th>\n",
       "      <td>316</td>\n",
       "      <td>8d841f576d05e05f0b4b5513d549630a.jpg</td>\n",
       "    </tr>\n",
       "    <tr>\n",
       "      <th>1</th>\n",
       "      <td>316</td>\n",
       "      <td>f84f23fe93f3fde53f7193e3cc08d473.jpg</td>\n",
       "    </tr>\n",
       "    <tr>\n",
       "      <th>2</th>\n",
       "      <td>316</td>\n",
       "      <td>dabc337065c65a0ed19707c4a595bcb1.jpg</td>\n",
       "    </tr>\n",
       "    <tr>\n",
       "      <th>3</th>\n",
       "      <td>316</td>\n",
       "      <td>8980532c8a1ef146bd3ed8d54f362b76.jpg</td>\n",
       "    </tr>\n",
       "    <tr>\n",
       "      <th>4</th>\n",
       "      <td>316</td>\n",
       "      <td>2d3e29631fa00733061111743ceb734c.jpg</td>\n",
       "    </tr>\n",
       "    <tr>\n",
       "      <th>...</th>\n",
       "      <td>...</td>\n",
       "      <td>...</td>\n",
       "    </tr>\n",
       "    <tr>\n",
       "      <th>101280</th>\n",
       "      <td>435</td>\n",
       "      <td>51f13b0b-f4f7-46ed-9e53-4d0c63ddad6b.jpg</td>\n",
       "    </tr>\n",
       "    <tr>\n",
       "      <th>101281</th>\n",
       "      <td>435</td>\n",
       "      <td>294cf8dc-bfaa-45b7-a7a8-205d1a22e33d.jpg</td>\n",
       "    </tr>\n",
       "    <tr>\n",
       "      <th>101282</th>\n",
       "      <td>435</td>\n",
       "      <td>b3b8cb90-d5d6-4118-826f-d69c6803a11a.jpg</td>\n",
       "    </tr>\n",
       "    <tr>\n",
       "      <th>101283</th>\n",
       "      <td>435</td>\n",
       "      <td>f38f1edd-34f2-4e8d-aaeb-c95ed22dd1ca.jpg</td>\n",
       "    </tr>\n",
       "    <tr>\n",
       "      <th>101284</th>\n",
       "      <td>435</td>\n",
       "      <td>f8aa8d5e-6dab-4a50-9fc1-8a893d3740c6.jpg</td>\n",
       "    </tr>\n",
       "  </tbody>\n",
       "</table>\n",
       "<p>99260 rows × 2 columns</p>\n",
       "</div>"
      ],
      "text/plain": [
       "        class_id                                 file_name\n",
       "0            316      8d841f576d05e05f0b4b5513d549630a.jpg\n",
       "1            316      f84f23fe93f3fde53f7193e3cc08d473.jpg\n",
       "2            316      dabc337065c65a0ed19707c4a595bcb1.jpg\n",
       "3            316      8980532c8a1ef146bd3ed8d54f362b76.jpg\n",
       "4            316      2d3e29631fa00733061111743ceb734c.jpg\n",
       "...          ...                                       ...\n",
       "101280       435  51f13b0b-f4f7-46ed-9e53-4d0c63ddad6b.jpg\n",
       "101281       435  294cf8dc-bfaa-45b7-a7a8-205d1a22e33d.jpg\n",
       "101282       435  b3b8cb90-d5d6-4118-826f-d69c6803a11a.jpg\n",
       "101283       435  f38f1edd-34f2-4e8d-aaeb-c95ed22dd1ca.jpg\n",
       "101284       435  f8aa8d5e-6dab-4a50-9fc1-8a893d3740c6.jpg\n",
       "\n",
       "[99260 rows x 2 columns]"
      ]
     },
     "execution_count": 34,
     "metadata": {},
     "output_type": "execute_result"
    }
   ],
   "source": [
    "df_train"
   ]
  },
  {
   "cell_type": "code",
   "execution_count": 9,
   "metadata": {},
   "outputs": [
    {
     "data": {
      "text/html": [
       "<div>\n",
       "<style scoped>\n",
       "    .dataframe tbody tr th:only-of-type {\n",
       "        vertical-align: middle;\n",
       "    }\n",
       "\n",
       "    .dataframe tbody tr th {\n",
       "        vertical-align: top;\n",
       "    }\n",
       "\n",
       "    .dataframe thead th {\n",
       "        text-align: right;\n",
       "    }\n",
       "</style>\n",
       "<table border=\"1\" class=\"dataframe\">\n",
       "  <thead>\n",
       "    <tr style=\"text-align: right;\">\n",
       "      <th></th>\n",
       "      <th>class_id</th>\n",
       "      <th>file_name</th>\n",
       "    </tr>\n",
       "  </thead>\n",
       "  <tbody>\n",
       "    <tr>\n",
       "      <th>2658</th>\n",
       "      <td>0</td>\n",
       "      <td>a33a2b0b8da57bfeccebfc044ebebdce.jpg</td>\n",
       "    </tr>\n",
       "    <tr>\n",
       "      <th>81147</th>\n",
       "      <td>0</td>\n",
       "      <td>54909eac-94e9-441e-9f74-fbf3798d97bb.jpg</td>\n",
       "    </tr>\n",
       "    <tr>\n",
       "      <th>81088</th>\n",
       "      <td>0</td>\n",
       "      <td>b42fe3db-38fb-4af9-9b05-ee62ef94ecfe.jpg</td>\n",
       "    </tr>\n",
       "    <tr>\n",
       "      <th>81064</th>\n",
       "      <td>0</td>\n",
       "      <td>1e1d0aaf-e43c-4451-a58d-7659d3dfac17.jpg</td>\n",
       "    </tr>\n",
       "    <tr>\n",
       "      <th>81039</th>\n",
       "      <td>0</td>\n",
       "      <td>c3eb8212-c751-4688-a024-37008d3a7b43.jpg</td>\n",
       "    </tr>\n",
       "    <tr>\n",
       "      <th>...</th>\n",
       "      <td>...</td>\n",
       "      <td>...</td>\n",
       "    </tr>\n",
       "    <tr>\n",
       "      <th>16</th>\n",
       "      <td>466</td>\n",
       "      <td>28f836e97682e282424a8457c2367294.jpg</td>\n",
       "    </tr>\n",
       "    <tr>\n",
       "      <th>94113</th>\n",
       "      <td>466</td>\n",
       "      <td>2a945ac3-3639-45e7-8d89-5cb692ba0e52.jpg</td>\n",
       "    </tr>\n",
       "    <tr>\n",
       "      <th>94022</th>\n",
       "      <td>466</td>\n",
       "      <td>f263b78a-877d-4c7f-85d4-45230ea8c15f.jpg</td>\n",
       "    </tr>\n",
       "    <tr>\n",
       "      <th>94102</th>\n",
       "      <td>466</td>\n",
       "      <td>2cb020c9-a921-4ca2-8ef3-f1ef9351a09e.jpg</td>\n",
       "    </tr>\n",
       "    <tr>\n",
       "      <th>94044</th>\n",
       "      <td>466</td>\n",
       "      <td>6d076581-e87d-4486-adec-aa2ecd5d759c.jpg</td>\n",
       "    </tr>\n",
       "  </tbody>\n",
       "</table>\n",
       "<p>4670 rows × 2 columns</p>\n",
       "</div>"
      ],
      "text/plain": [
       "       class_id                                 file_name\n",
       "2658          0      a33a2b0b8da57bfeccebfc044ebebdce.jpg\n",
       "81147         0  54909eac-94e9-441e-9f74-fbf3798d97bb.jpg\n",
       "81088         0  b42fe3db-38fb-4af9-9b05-ee62ef94ecfe.jpg\n",
       "81064         0  1e1d0aaf-e43c-4451-a58d-7659d3dfac17.jpg\n",
       "81039         0  c3eb8212-c751-4688-a024-37008d3a7b43.jpg\n",
       "...         ...                                       ...\n",
       "16          466      28f836e97682e282424a8457c2367294.jpg\n",
       "94113       466  2a945ac3-3639-45e7-8d89-5cb692ba0e52.jpg\n",
       "94022       466  f263b78a-877d-4c7f-85d4-45230ea8c15f.jpg\n",
       "94102       466  2cb020c9-a921-4ca2-8ef3-f1ef9351a09e.jpg\n",
       "94044       466  6d076581-e87d-4486-adec-aa2ecd5d759c.jpg\n",
       "\n",
       "[4670 rows x 2 columns]"
      ]
     },
     "execution_count": 9,
     "metadata": {},
     "output_type": "execute_result"
    }
   ],
   "source": [
    "df"
   ]
  },
  {
   "cell_type": "code",
   "execution_count": null,
   "metadata": {},
   "outputs": [],
   "source": []
  }
 ],
 "metadata": {
  "kernelspec": {
   "display_name": "py312",
   "language": "python",
   "name": "python3"
  },
  "language_info": {
   "codemirror_mode": {
    "name": "ipython",
    "version": 3
   },
   "file_extension": ".py",
   "mimetype": "text/x-python",
   "name": "python",
   "nbconvert_exporter": "python",
   "pygments_lexer": "ipython3",
   "version": "3.11.6"
  }
 },
 "nbformat": 4,
 "nbformat_minor": 2
}
