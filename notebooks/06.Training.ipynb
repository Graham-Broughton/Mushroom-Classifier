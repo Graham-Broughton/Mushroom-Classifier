{
 "cells": [
  {
   "cell_type": "code",
   "execution_count": 1,
   "metadata": {},
   "outputs": [
    {
     "name": "stderr",
     "output_type": "stream",
     "text": [
      "2023-09-23 01:15:41.500223: I tensorflow/core/util/port.cc:110] oneDNN custom operations are on. You may see slightly different numerical results due to floating-point round-off errors from different computation orders. To turn them off, set the environment variable `TF_ENABLE_ONEDNN_OPTS=0`.\n",
      "2023-09-23 01:15:41.502253: I tensorflow/tsl/cuda/cudart_stub.cc:28] Could not find cuda drivers on your machine, GPU will not be used.\n",
      "2023-09-23 01:15:41.547121: I tensorflow/tsl/cuda/cudart_stub.cc:28] Could not find cuda drivers on your machine, GPU will not be used.\n",
      "2023-09-23 01:15:41.548208: I tensorflow/core/platform/cpu_feature_guard.cc:182] This TensorFlow binary is optimized to use available CPU instructions in performance-critical operations.\n",
      "To enable the following instructions: AVX2 AVX512F AVX512_VNNI FMA, in other operations, rebuild TensorFlow with the appropriate compiler flags.\n",
      "2023-09-23 01:15:42.512356: W tensorflow/compiler/tf2tensorrt/utils/py_utils.cc:38] TF-TRT Warning: Could not find TensorRT\n"
     ]
    }
   ],
   "source": [
    "import pandas as pd\n",
    "import numpy as np\n",
    "import tensorflow as tf\n",
    "import matplotlib.pyplot as plt\n",
    "import seaborn as sns\n",
    "from pathlib import Path\n",
    "import sys\n",
    "sys.path.append('..')\n",
    "\n",
    "from config import CFG\n",
    "from src.training import dataset, train, utils"
   ]
  },
  {
   "cell_type": "code",
   "execution_count": 2,
   "metadata": {},
   "outputs": [],
   "source": [
    "root = Path.cwd().parent\n",
    "data = root / 'data'"
   ]
  },
  {
   "cell_type": "code",
   "execution_count": 3,
   "metadata": {},
   "outputs": [],
   "source": [
    "df = pd.read_csv(data / 'train.csv')\n",
    "CFG.NUM_CLASSES = len(df['class_id'].unique())"
   ]
  },
  {
   "cell_type": "code",
   "execution_count": 4,
   "metadata": {},
   "outputs": [
    {
     "name": "stderr",
     "output_type": "stream",
     "text": [
      "\u001b[32m2023-09-23 01:16:25.133\u001b[0m | \u001b[1mINFO    \u001b[0m | \u001b[36msrc.training.utils\u001b[0m:\u001b[36mtpu_test\u001b[0m:\u001b[36m35\u001b[0m - \u001b[1mUsing default strategy for CPU and single GPU\u001b[0m\n",
      "\u001b[32m2023-09-23 01:16:25.136\u001b[0m | \u001b[1mINFO    \u001b[0m | \u001b[36msrc.training.train\u001b[0m:\u001b[36mtrain\u001b[0m:\u001b[36m107\u001b[0m - \u001b[1m# Image Size 224 with Model https://tfhub.dev/sayakpaul/swin_tiny_patch4_window7_224_fe/1 and batch_sz 32\u001b[0m\n"
     ]
    },
    {
     "name": "stdout",
     "output_type": "stream",
     "text": [
      "#########################\n",
      "#### FOLD 1\n",
      "#### Image Size 224 with https://tfhub.dev/sayakpaul/swin_tiny_patch4_window7_224_fe/1 and batch_size 32\n",
      "#########################\n"
     ]
    },
    {
     "name": "stderr",
     "output_type": "stream",
     "text": [
      "\u001b[32m2023-09-23 01:16:44.590\u001b[0m | \u001b[1mINFO    \u001b[0m | \u001b[36msrc.training.train\u001b[0m:\u001b[36mget_history\u001b[0m:\u001b[36m75\u001b[0m - \u001b[1mTraining...\u001b[0m\n"
     ]
    },
    {
     "name": "stdout",
     "output_type": "stream",
     "text": [
      "Epoch 1/12\n"
     ]
    },
    {
     "ename": "InvalidArgumentError",
     "evalue": "Graph execution error:\n\nDetected at node 'Reshape' defined at (most recent call last):\n    File \"<frozen runpy>\", line 198, in _run_module_as_main\n    File \"<frozen runpy>\", line 88, in _run_code\n    File \"/home/broug/mambaforge/envs/ds/lib/python3.11/site-packages/ipykernel_launcher.py\", line 17, in <module>\n      app.launch_new_instance()\n    File \"/home/broug/mambaforge/envs/ds/lib/python3.11/site-packages/traitlets/config/application.py\", line 1046, in launch_instance\n      app.start()\n    File \"/home/broug/mambaforge/envs/ds/lib/python3.11/site-packages/ipykernel/kernelapp.py\", line 736, in start\n      self.io_loop.start()\n    File \"/home/broug/mambaforge/envs/ds/lib/python3.11/site-packages/tornado/platform/asyncio.py\", line 195, in start\n      self.asyncio_loop.run_forever()\n    File \"/home/broug/mambaforge/envs/ds/lib/python3.11/asyncio/base_events.py\", line 607, in run_forever\n      self._run_once()\n    File \"/home/broug/mambaforge/envs/ds/lib/python3.11/asyncio/base_events.py\", line 1922, in _run_once\n      handle._run()\n    File \"/home/broug/mambaforge/envs/ds/lib/python3.11/asyncio/events.py\", line 80, in _run\n      self._context.run(self._callback, *self._args)\n    File \"/home/broug/mambaforge/envs/ds/lib/python3.11/site-packages/ipykernel/kernelbase.py\", line 516, in dispatch_queue\n      await self.process_one()\n    File \"/home/broug/mambaforge/envs/ds/lib/python3.11/site-packages/ipykernel/kernelbase.py\", line 505, in process_one\n      await dispatch(*args)\n    File \"/home/broug/mambaforge/envs/ds/lib/python3.11/site-packages/ipykernel/kernelbase.py\", line 412, in dispatch_shell\n      await result\n    File \"/home/broug/mambaforge/envs/ds/lib/python3.11/site-packages/ipykernel/kernelbase.py\", line 740, in execute_request\n      reply_content = await reply_content\n    File \"/home/broug/mambaforge/envs/ds/lib/python3.11/site-packages/ipykernel/ipkernel.py\", line 422, in do_execute\n      res = shell.run_cell(\n    File \"/home/broug/mambaforge/envs/ds/lib/python3.11/site-packages/ipykernel/zmqshell.py\", line 546, in run_cell\n      return super().run_cell(*args, **kwargs)\n    File \"/home/broug/mambaforge/envs/ds/lib/python3.11/site-packages/IPython/core/interactiveshell.py\", line 3024, in run_cell\n      result = self._run_cell(\n    File \"/home/broug/mambaforge/envs/ds/lib/python3.11/site-packages/IPython/core/interactiveshell.py\", line 3079, in _run_cell\n      result = runner(coro)\n    File \"/home/broug/mambaforge/envs/ds/lib/python3.11/site-packages/IPython/core/async_helpers.py\", line 129, in _pseudo_sync_runner\n      coro.send(None)\n    File \"/home/broug/mambaforge/envs/ds/lib/python3.11/site-packages/IPython/core/interactiveshell.py\", line 3284, in run_cell_async\n      has_raised = await self.run_ast_nodes(code_ast.body, cell_name,\n    File \"/home/broug/mambaforge/envs/ds/lib/python3.11/site-packages/IPython/core/interactiveshell.py\", line 3466, in run_ast_nodes\n      if await self.run_code(code, result, async_=asy):\n    File \"/home/broug/mambaforge/envs/ds/lib/python3.11/site-packages/IPython/core/interactiveshell.py\", line 3526, in run_code\n      exec(code_obj, self.user_global_ns, self.user_ns)\n    File \"/tmp/ipykernel_35071/417708426.py\", line 2, in <module>\n      train.train(CFG, strategy)\n    File \"/home/broug/Desktop/Mushroom-Classifier/notebooks/../src/training/train.py\", line 124, in train\n      history = get_history(model, fold, files_train, files_valid, CFG)\n    File \"/home/broug/Desktop/Mushroom-Classifier/notebooks/../src/training/train.py\", line 76, in get_history\n      history = model.fit(\n    File \"/home/broug/mambaforge/envs/ds/lib/python3.11/site-packages/keras/src/utils/traceback_utils.py\", line 65, in error_handler\n      return fn(*args, **kwargs)\n    File \"/home/broug/mambaforge/envs/ds/lib/python3.11/site-packages/keras/src/engine/training.py\", line 1791, in fit\n      val_logs = self.evaluate(\n    File \"/home/broug/mambaforge/envs/ds/lib/python3.11/site-packages/keras/src/utils/traceback_utils.py\", line 65, in error_handler\n      return fn(*args, **kwargs)\n    File \"/home/broug/mambaforge/envs/ds/lib/python3.11/site-packages/keras/src/engine/training.py\", line 2200, in evaluate\n      logs = test_function_runner.run_step(\n    File \"/home/broug/mambaforge/envs/ds/lib/python3.11/site-packages/keras/src/engine/training.py\", line 4000, in run_step\n      tmp_logs = self._function(dataset_or_iterator)\n    File \"/home/broug/mambaforge/envs/ds/lib/python3.11/site-packages/keras/src/engine/training.py\", line 1972, in test_function\n      return step_function(self, iterator)\n    File \"/home/broug/mambaforge/envs/ds/lib/python3.11/site-packages/keras/src/engine/training.py\", line 1956, in step_function\n      outputs = model.distribute_strategy.run(run_step, args=(data,))\n    File \"/home/broug/mambaforge/envs/ds/lib/python3.11/site-packages/keras/src/engine/training.py\", line 1944, in run_step\n      outputs = model.test_step(data)\n    File \"/home/broug/mambaforge/envs/ds/lib/python3.11/site-packages/keras/src/engine/training.py\", line 1853, in test_step\n      return self.compute_metrics(x, y, y_pred, sample_weight)\n    File \"/home/broug/mambaforge/envs/ds/lib/python3.11/site-packages/keras/src/engine/training.py\", line 1179, in compute_metrics\n      self.compiled_metrics.update_state(y, y_pred, sample_weight)\n    File \"/home/broug/mambaforge/envs/ds/lib/python3.11/site-packages/keras/src/engine/compile_utils.py\", line 605, in update_state\n      metric_obj.update_state(y_t, y_p, sample_weight=mask)\n    File \"/home/broug/mambaforge/envs/ds/lib/python3.11/site-packages/keras/src/utils/metrics_utils.py\", line 77, in decorated\n      update_op = update_state_fn(*args, **kwargs)\n    File \"/home/broug/mambaforge/envs/ds/lib/python3.11/site-packages/keras/src/metrics/base_metric.py\", line 140, in update_state_fn\n      return ag_update_state(*args, **kwargs)\n    File \"/home/broug/mambaforge/envs/ds/lib/python3.11/site-packages/keras/src/metrics/base_metric.py\", line 723, in update_state\n      matches = ag_fn(y_true, y_pred, **self._fn_kwargs)\n    File \"/home/broug/mambaforge/envs/ds/lib/python3.11/site-packages/keras/src/metrics/accuracy_metrics.py\", line 459, in sparse_categorical_accuracy\n      matches = metrics_utils.sparse_categorical_matches(y_true, y_pred)\n    File \"/home/broug/mambaforge/envs/ds/lib/python3.11/site-packages/keras/src/utils/metrics_utils.py\", line 970, in sparse_categorical_matches\n      matches = tf.reshape(matches, shape=y_true_org_shape)\nNode: 'Reshape'\nInput to reshape is a tensor with 562500 values, but the requested shape has 150528\n\t [[{{node Reshape}}]]\n\t [[IteratorGetNext]] [Op:__inference_test_function_111740]",
     "output_type": "error",
     "traceback": [
      "\u001b[0;31m---------------------------------------------------------------------------\u001b[0m",
      "\u001b[0;31mInvalidArgumentError\u001b[0m                      Traceback (most recent call last)",
      "\u001b[1;32m/home/broug/Desktop/Mushroom-Classifier/notebooks/06.Training.ipynb Cell 4\u001b[0m line \u001b[0;36m2\n\u001b[1;32m      <a href='vscode-notebook-cell:/home/broug/Desktop/Mushroom-Classifier/notebooks/06.Training.ipynb#W3sZmlsZQ%3D%3D?line=0'>1</a>\u001b[0m strategy, tpu \u001b[39m=\u001b[39m train\u001b[39m.\u001b[39mtpu_test(CFG)\n\u001b[0;32m----> <a href='vscode-notebook-cell:/home/broug/Desktop/Mushroom-Classifier/notebooks/06.Training.ipynb#W3sZmlsZQ%3D%3D?line=1'>2</a>\u001b[0m train\u001b[39m.\u001b[39;49mtrain(CFG, strategy)\n",
      "File \u001b[0;32m~/Desktop/Mushroom-Classifier/notebooks/../src/training/train.py:124\u001b[0m, in \u001b[0;36mtrain\u001b[0;34m(CFG, strategy)\u001b[0m\n\u001b[1;32m    121\u001b[0m     model \u001b[39m=\u001b[39m build_model(CFG\u001b[39m.\u001b[39mMODELS, CFG\u001b[39m.\u001b[39mNUM_CLASSES, dim\u001b[39m=\u001b[39mCFG\u001b[39m.\u001b[39mIMG_SIZES)\n\u001b[1;32m    123\u001b[0m \u001b[39m# TRAIN\u001b[39;00m\n\u001b[0;32m--> 124\u001b[0m history \u001b[39m=\u001b[39m get_history(model, fold, files_train, files_valid, CFG)\n\u001b[1;32m    126\u001b[0m logger\u001b[39m.\u001b[39minfo(\u001b[39m\"\u001b[39m\u001b[39mLoading best model...\u001b[39m\u001b[39m\"\u001b[39m)\n\u001b[1;32m    127\u001b[0m model\u001b[39m.\u001b[39mload_weights(\u001b[39mf\u001b[39m\u001b[39m'\u001b[39m\u001b[39mfold-\u001b[39m\u001b[39m{\u001b[39;00mfold\u001b[39m}\u001b[39;00m\u001b[39m.h5\u001b[39m\u001b[39m'\u001b[39m \u001b[39m%\u001b[39m fold)\n",
      "File \u001b[0;32m~/Desktop/Mushroom-Classifier/notebooks/../src/training/train.py:76\u001b[0m, in \u001b[0;36mget_history\u001b[0;34m(model, fold, files_train, files_valid, CFG)\u001b[0m\n\u001b[1;32m     74\u001b[0m \u001b[39mdef\u001b[39;00m \u001b[39mget_history\u001b[39m(model, fold, files_train, files_valid, CFG):\n\u001b[1;32m     75\u001b[0m     logger\u001b[39m.\u001b[39minfo(\u001b[39m\"\u001b[39m\u001b[39mTraining...\u001b[39m\u001b[39m\"\u001b[39m)\n\u001b[0;32m---> 76\u001b[0m     history \u001b[39m=\u001b[39m model\u001b[39m.\u001b[39;49mfit(\n\u001b[1;32m     77\u001b[0m         get_dataset(\n\u001b[1;32m     78\u001b[0m             files_train, CFG, augment\u001b[39m=\u001b[39;49m\u001b[39mTrue\u001b[39;49;00m, shuffle\u001b[39m=\u001b[39;49m\u001b[39mTrue\u001b[39;49;00m, repeat\u001b[39m=\u001b[39;49m\u001b[39mTrue\u001b[39;49;00m, dim\u001b[39m=\u001b[39;49mCFG\u001b[39m.\u001b[39;49mIMG_SIZES, batch_size\u001b[39m=\u001b[39;49mCFG\u001b[39m.\u001b[39;49mBATCH_SIZES\n\u001b[1;32m     79\u001b[0m         ),\n\u001b[1;32m     80\u001b[0m         epochs\u001b[39m=\u001b[39;49mCFG\u001b[39m.\u001b[39;49mEPOCHS,\n\u001b[1;32m     81\u001b[0m         callbacks\u001b[39m=\u001b[39;49m[sv(fold), get_lr_callback(CFG\u001b[39m.\u001b[39;49mBATCH_SIZES)],\n\u001b[1;32m     82\u001b[0m         steps_per_epoch\u001b[39m=\u001b[39;49mcount_data_items(files_train) \u001b[39m/\u001b[39;49m CFG\u001b[39m.\u001b[39;49mBATCH_SIZES \u001b[39m/\u001b[39;49m\u001b[39m/\u001b[39;49m CFG\u001b[39m.\u001b[39;49mREPLICAS,\n\u001b[1;32m     83\u001b[0m         validation_data\u001b[39m=\u001b[39;49mget_dataset(\n\u001b[1;32m     84\u001b[0m             files_valid, CFG, augment\u001b[39m=\u001b[39;49m\u001b[39mFalse\u001b[39;49;00m, shuffle\u001b[39m=\u001b[39;49m\u001b[39mFalse\u001b[39;49;00m, repeat\u001b[39m=\u001b[39;49m\u001b[39mFalse\u001b[39;49;00m, dim\u001b[39m=\u001b[39;49mCFG\u001b[39m.\u001b[39;49mIMG_SIZES\n\u001b[1;32m     85\u001b[0m         ),  \u001b[39m# class_weight = {0:1,1:2},\u001b[39;49;00m\n\u001b[1;32m     86\u001b[0m         verbose\u001b[39m=\u001b[39;49mCFG\u001b[39m.\u001b[39;49mVERBOSE,\n\u001b[1;32m     87\u001b[0m     )\n\u001b[1;32m     88\u001b[0m     \u001b[39mreturn\u001b[39;00m history\u001b[39m.\u001b[39mhistory\n",
      "File \u001b[0;32m~/mambaforge/envs/ds/lib/python3.11/site-packages/keras/src/utils/traceback_utils.py:70\u001b[0m, in \u001b[0;36mfilter_traceback.<locals>.error_handler\u001b[0;34m(*args, **kwargs)\u001b[0m\n\u001b[1;32m     67\u001b[0m     filtered_tb \u001b[39m=\u001b[39m _process_traceback_frames(e\u001b[39m.\u001b[39m__traceback__)\n\u001b[1;32m     68\u001b[0m     \u001b[39m# To get the full stack trace, call:\u001b[39;00m\n\u001b[1;32m     69\u001b[0m     \u001b[39m# `tf.debugging.disable_traceback_filtering()`\u001b[39;00m\n\u001b[0;32m---> 70\u001b[0m     \u001b[39mraise\u001b[39;00m e\u001b[39m.\u001b[39mwith_traceback(filtered_tb) \u001b[39mfrom\u001b[39;00m \u001b[39mNone\u001b[39;00m\n\u001b[1;32m     71\u001b[0m \u001b[39mfinally\u001b[39;00m:\n\u001b[1;32m     72\u001b[0m     \u001b[39mdel\u001b[39;00m filtered_tb\n",
      "File \u001b[0;32m~/mambaforge/envs/ds/lib/python3.11/site-packages/tensorflow/python/eager/execute.py:53\u001b[0m, in \u001b[0;36mquick_execute\u001b[0;34m(op_name, num_outputs, inputs, attrs, ctx, name)\u001b[0m\n\u001b[1;32m     51\u001b[0m \u001b[39mtry\u001b[39;00m:\n\u001b[1;32m     52\u001b[0m   ctx\u001b[39m.\u001b[39mensure_initialized()\n\u001b[0;32m---> 53\u001b[0m   tensors \u001b[39m=\u001b[39m pywrap_tfe\u001b[39m.\u001b[39mTFE_Py_Execute(ctx\u001b[39m.\u001b[39m_handle, device_name, op_name,\n\u001b[1;32m     54\u001b[0m                                       inputs, attrs, num_outputs)\n\u001b[1;32m     55\u001b[0m \u001b[39mexcept\u001b[39;00m core\u001b[39m.\u001b[39m_NotOkStatusException \u001b[39mas\u001b[39;00m e:\n\u001b[1;32m     56\u001b[0m   \u001b[39mif\u001b[39;00m name \u001b[39mis\u001b[39;00m \u001b[39mnot\u001b[39;00m \u001b[39mNone\u001b[39;00m:\n",
      "\u001b[0;31mInvalidArgumentError\u001b[0m: Graph execution error:\n\nDetected at node 'Reshape' defined at (most recent call last):\n    File \"<frozen runpy>\", line 198, in _run_module_as_main\n    File \"<frozen runpy>\", line 88, in _run_code\n    File \"/home/broug/mambaforge/envs/ds/lib/python3.11/site-packages/ipykernel_launcher.py\", line 17, in <module>\n      app.launch_new_instance()\n    File \"/home/broug/mambaforge/envs/ds/lib/python3.11/site-packages/traitlets/config/application.py\", line 1046, in launch_instance\n      app.start()\n    File \"/home/broug/mambaforge/envs/ds/lib/python3.11/site-packages/ipykernel/kernelapp.py\", line 736, in start\n      self.io_loop.start()\n    File \"/home/broug/mambaforge/envs/ds/lib/python3.11/site-packages/tornado/platform/asyncio.py\", line 195, in start\n      self.asyncio_loop.run_forever()\n    File \"/home/broug/mambaforge/envs/ds/lib/python3.11/asyncio/base_events.py\", line 607, in run_forever\n      self._run_once()\n    File \"/home/broug/mambaforge/envs/ds/lib/python3.11/asyncio/base_events.py\", line 1922, in _run_once\n      handle._run()\n    File \"/home/broug/mambaforge/envs/ds/lib/python3.11/asyncio/events.py\", line 80, in _run\n      self._context.run(self._callback, *self._args)\n    File \"/home/broug/mambaforge/envs/ds/lib/python3.11/site-packages/ipykernel/kernelbase.py\", line 516, in dispatch_queue\n      await self.process_one()\n    File \"/home/broug/mambaforge/envs/ds/lib/python3.11/site-packages/ipykernel/kernelbase.py\", line 505, in process_one\n      await dispatch(*args)\n    File \"/home/broug/mambaforge/envs/ds/lib/python3.11/site-packages/ipykernel/kernelbase.py\", line 412, in dispatch_shell\n      await result\n    File \"/home/broug/mambaforge/envs/ds/lib/python3.11/site-packages/ipykernel/kernelbase.py\", line 740, in execute_request\n      reply_content = await reply_content\n    File \"/home/broug/mambaforge/envs/ds/lib/python3.11/site-packages/ipykernel/ipkernel.py\", line 422, in do_execute\n      res = shell.run_cell(\n    File \"/home/broug/mambaforge/envs/ds/lib/python3.11/site-packages/ipykernel/zmqshell.py\", line 546, in run_cell\n      return super().run_cell(*args, **kwargs)\n    File \"/home/broug/mambaforge/envs/ds/lib/python3.11/site-packages/IPython/core/interactiveshell.py\", line 3024, in run_cell\n      result = self._run_cell(\n    File \"/home/broug/mambaforge/envs/ds/lib/python3.11/site-packages/IPython/core/interactiveshell.py\", line 3079, in _run_cell\n      result = runner(coro)\n    File \"/home/broug/mambaforge/envs/ds/lib/python3.11/site-packages/IPython/core/async_helpers.py\", line 129, in _pseudo_sync_runner\n      coro.send(None)\n    File \"/home/broug/mambaforge/envs/ds/lib/python3.11/site-packages/IPython/core/interactiveshell.py\", line 3284, in run_cell_async\n      has_raised = await self.run_ast_nodes(code_ast.body, cell_name,\n    File \"/home/broug/mambaforge/envs/ds/lib/python3.11/site-packages/IPython/core/interactiveshell.py\", line 3466, in run_ast_nodes\n      if await self.run_code(code, result, async_=asy):\n    File \"/home/broug/mambaforge/envs/ds/lib/python3.11/site-packages/IPython/core/interactiveshell.py\", line 3526, in run_code\n      exec(code_obj, self.user_global_ns, self.user_ns)\n    File \"/tmp/ipykernel_35071/417708426.py\", line 2, in <module>\n      train.train(CFG, strategy)\n    File \"/home/broug/Desktop/Mushroom-Classifier/notebooks/../src/training/train.py\", line 124, in train\n      history = get_history(model, fold, files_train, files_valid, CFG)\n    File \"/home/broug/Desktop/Mushroom-Classifier/notebooks/../src/training/train.py\", line 76, in get_history\n      history = model.fit(\n    File \"/home/broug/mambaforge/envs/ds/lib/python3.11/site-packages/keras/src/utils/traceback_utils.py\", line 65, in error_handler\n      return fn(*args, **kwargs)\n    File \"/home/broug/mambaforge/envs/ds/lib/python3.11/site-packages/keras/src/engine/training.py\", line 1791, in fit\n      val_logs = self.evaluate(\n    File \"/home/broug/mambaforge/envs/ds/lib/python3.11/site-packages/keras/src/utils/traceback_utils.py\", line 65, in error_handler\n      return fn(*args, **kwargs)\n    File \"/home/broug/mambaforge/envs/ds/lib/python3.11/site-packages/keras/src/engine/training.py\", line 2200, in evaluate\n      logs = test_function_runner.run_step(\n    File \"/home/broug/mambaforge/envs/ds/lib/python3.11/site-packages/keras/src/engine/training.py\", line 4000, in run_step\n      tmp_logs = self._function(dataset_or_iterator)\n    File \"/home/broug/mambaforge/envs/ds/lib/python3.11/site-packages/keras/src/engine/training.py\", line 1972, in test_function\n      return step_function(self, iterator)\n    File \"/home/broug/mambaforge/envs/ds/lib/python3.11/site-packages/keras/src/engine/training.py\", line 1956, in step_function\n      outputs = model.distribute_strategy.run(run_step, args=(data,))\n    File \"/home/broug/mambaforge/envs/ds/lib/python3.11/site-packages/keras/src/engine/training.py\", line 1944, in run_step\n      outputs = model.test_step(data)\n    File \"/home/broug/mambaforge/envs/ds/lib/python3.11/site-packages/keras/src/engine/training.py\", line 1853, in test_step\n      return self.compute_metrics(x, y, y_pred, sample_weight)\n    File \"/home/broug/mambaforge/envs/ds/lib/python3.11/site-packages/keras/src/engine/training.py\", line 1179, in compute_metrics\n      self.compiled_metrics.update_state(y, y_pred, sample_weight)\n    File \"/home/broug/mambaforge/envs/ds/lib/python3.11/site-packages/keras/src/engine/compile_utils.py\", line 605, in update_state\n      metric_obj.update_state(y_t, y_p, sample_weight=mask)\n    File \"/home/broug/mambaforge/envs/ds/lib/python3.11/site-packages/keras/src/utils/metrics_utils.py\", line 77, in decorated\n      update_op = update_state_fn(*args, **kwargs)\n    File \"/home/broug/mambaforge/envs/ds/lib/python3.11/site-packages/keras/src/metrics/base_metric.py\", line 140, in update_state_fn\n      return ag_update_state(*args, **kwargs)\n    File \"/home/broug/mambaforge/envs/ds/lib/python3.11/site-packages/keras/src/metrics/base_metric.py\", line 723, in update_state\n      matches = ag_fn(y_true, y_pred, **self._fn_kwargs)\n    File \"/home/broug/mambaforge/envs/ds/lib/python3.11/site-packages/keras/src/metrics/accuracy_metrics.py\", line 459, in sparse_categorical_accuracy\n      matches = metrics_utils.sparse_categorical_matches(y_true, y_pred)\n    File \"/home/broug/mambaforge/envs/ds/lib/python3.11/site-packages/keras/src/utils/metrics_utils.py\", line 970, in sparse_categorical_matches\n      matches = tf.reshape(matches, shape=y_true_org_shape)\nNode: 'Reshape'\nInput to reshape is a tensor with 562500 values, but the requested shape has 150528\n\t [[{{node Reshape}}]]\n\t [[IteratorGetNext]] [Op:__inference_test_function_111740]"
     ]
    }
   ],
   "source": [
    "strategy, tpu = train.tpu_test(CFG)\n",
    "train.train(CFG, strategy)"
   ]
  },
  {
   "cell_type": "code",
   "execution_count": null,
   "metadata": {},
   "outputs": [],
   "source": []
  }
 ],
 "metadata": {
  "kernelspec": {
   "display_name": "ds",
   "language": "python",
   "name": "python3"
  },
  "language_info": {
   "codemirror_mode": {
    "name": "ipython",
    "version": 3
   },
   "file_extension": ".py",
   "mimetype": "text/x-python",
   "name": "python",
   "nbconvert_exporter": "python",
   "pygments_lexer": "ipython3",
   "version": "3.11.5"
  }
 },
 "nbformat": 4,
 "nbformat_minor": 2
}
