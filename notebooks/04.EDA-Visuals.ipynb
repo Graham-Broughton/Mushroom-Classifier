{
 "cells": [
  {
   "cell_type": "code",
   "execution_count": 2,
   "metadata": {},
   "outputs": [],
   "source": [
    "import pandas as pd\n",
    "import numpy as np\n",
    "import matplotlib.pyplot as plt\n",
    "import seaborn as sns\n",
    "import plotly.express as px\n",
    "import plotly.graph_objs as go\n",
    "import cv2\n",
    "import sweetviz as sv\n",
    "import pygwalker as pw\n",
    "from gc import collect\n",
    "from tqdm import tqdm\n",
    "from pathlib import Path\n",
    "\n",
    "import warnings; warnings.filterwarnings('ignore')\n",
    "pd.set_option('display.max_columns', None)"
   ]
  },
  {
   "cell_type": "code",
   "execution_count": 3,
   "metadata": {},
   "outputs": [],
   "source": [
    "root = Path.cwd().parent\n",
    "data = root / 'data'"
   ]
  },
  {
   "cell_type": "code",
   "execution_count": 4,
   "metadata": {},
   "outputs": [
    {
     "data": {
      "text/html": [
       "<div>\n",
       "<style scoped>\n",
       "    .dataframe tbody tr th:only-of-type {\n",
       "        vertical-align: middle;\n",
       "    }\n",
       "\n",
       "    .dataframe tbody tr th {\n",
       "        vertical-align: top;\n",
       "    }\n",
       "\n",
       "    .dataframe thead th {\n",
       "        text-align: right;\n",
       "    }\n",
       "</style>\n",
       "<table border=\"1\" class=\"dataframe\">\n",
       "  <thead>\n",
       "    <tr style=\"text-align: right;\">\n",
       "      <th></th>\n",
       "      <th>name</th>\n",
       "      <th>family</th>\n",
       "      <th>phylum</th>\n",
       "      <th>order</th>\n",
       "      <th>genus</th>\n",
       "      <th>class</th>\n",
       "      <th>file_name</th>\n",
       "      <th>height</th>\n",
       "      <th>width</th>\n",
       "      <th>location_uncertainty</th>\n",
       "      <th>date</th>\n",
       "      <th>latitude</th>\n",
       "      <th>longitude</th>\n",
       "      <th>set</th>\n",
       "      <th>dataset</th>\n",
       "      <th>specific_epithet</th>\n",
       "      <th>image_dir_name</th>\n",
       "      <th>common_name</th>\n",
       "      <th>file_path</th>\n",
       "      <th>gcs_path</th>\n",
       "      <th>class_id</th>\n",
       "      <th>class_priors</th>\n",
       "      <th>norm_date</th>\n",
       "    </tr>\n",
       "  </thead>\n",
       "  <tbody>\n",
       "    <tr>\n",
       "      <th>0</th>\n",
       "      <td>Herpothallon rubrocinctum</td>\n",
       "      <td>Arthoniaceae</td>\n",
       "      <td>Ascomycota</td>\n",
       "      <td>Arthoniales</td>\n",
       "      <td>Herpothallon</td>\n",
       "      <td>Arthoniomycetes</td>\n",
       "      <td>cbb41cb8edf3cfe364e4e3b083ab7a24.jpg</td>\n",
       "      <td>600</td>\n",
       "      <td>800</td>\n",
       "      <td>0.0</td>\n",
       "      <td>2016-08-02 00:00:00+00:00</td>\n",
       "      <td>28.367144</td>\n",
       "      <td>-81.437020</td>\n",
       "      <td>train</td>\n",
       "      <td>2018</td>\n",
       "      <td>rubrocinctum</td>\n",
       "      <td>Fungi_Ascomycota_Arthoniomycetes_Arthoniales_A...</td>\n",
       "      <td>NaN</td>\n",
       "      <td>Fungi_Ascomycota_Arthoniomycetes_Arthoniales_A...</td>\n",
       "      <td>gs://mush-img-repo/train/Fungi_Ascomycota_Arth...</td>\n",
       "      <td>185</td>\n",
       "      <td>0.003144</td>\n",
       "      <td>0.586301</td>\n",
       "    </tr>\n",
       "    <tr>\n",
       "      <th>1</th>\n",
       "      <td>Herpothallon rubrocinctum</td>\n",
       "      <td>Arthoniaceae</td>\n",
       "      <td>Ascomycota</td>\n",
       "      <td>Arthoniales</td>\n",
       "      <td>Herpothallon</td>\n",
       "      <td>Arthoniomycetes</td>\n",
       "      <td>755adc87e72ccb246b5b177efb0b8715.jpg</td>\n",
       "      <td>600</td>\n",
       "      <td>800</td>\n",
       "      <td>29.0</td>\n",
       "      <td>2015-10-24 00:00:00+00:00</td>\n",
       "      <td>28.367783</td>\n",
       "      <td>-81.436785</td>\n",
       "      <td>train</td>\n",
       "      <td>2018</td>\n",
       "      <td>rubrocinctum</td>\n",
       "      <td>Fungi_Ascomycota_Arthoniomycetes_Arthoniales_A...</td>\n",
       "      <td>NaN</td>\n",
       "      <td>Fungi_Ascomycota_Arthoniomycetes_Arthoniales_A...</td>\n",
       "      <td>gs://mush-img-repo/train/Fungi_Ascomycota_Arth...</td>\n",
       "      <td>185</td>\n",
       "      <td>0.003144</td>\n",
       "      <td>0.810959</td>\n",
       "    </tr>\n",
       "    <tr>\n",
       "      <th>2</th>\n",
       "      <td>Herpothallon rubrocinctum</td>\n",
       "      <td>Arthoniaceae</td>\n",
       "      <td>Ascomycota</td>\n",
       "      <td>Arthoniales</td>\n",
       "      <td>Herpothallon</td>\n",
       "      <td>Arthoniomycetes</td>\n",
       "      <td>0be8000dcc267e8538152788dd4a05fe.jpg</td>\n",
       "      <td>600</td>\n",
       "      <td>800</td>\n",
       "      <td>0.0</td>\n",
       "      <td>2016-12-22 00:00:00+00:00</td>\n",
       "      <td>28.300703</td>\n",
       "      <td>-81.453300</td>\n",
       "      <td>train</td>\n",
       "      <td>2018</td>\n",
       "      <td>rubrocinctum</td>\n",
       "      <td>Fungi_Ascomycota_Arthoniomycetes_Arthoniales_A...</td>\n",
       "      <td>NaN</td>\n",
       "      <td>Fungi_Ascomycota_Arthoniomycetes_Arthoniales_A...</td>\n",
       "      <td>gs://mush-img-repo/train/Fungi_Ascomycota_Arth...</td>\n",
       "      <td>185</td>\n",
       "      <td>0.003144</td>\n",
       "      <td>0.975342</td>\n",
       "    </tr>\n",
       "    <tr>\n",
       "      <th>3</th>\n",
       "      <td>Herpothallon rubrocinctum</td>\n",
       "      <td>Arthoniaceae</td>\n",
       "      <td>Ascomycota</td>\n",
       "      <td>Arthoniales</td>\n",
       "      <td>Herpothallon</td>\n",
       "      <td>Arthoniomycetes</td>\n",
       "      <td>e3199adcb85cdf4b66e0066a6957788a.jpg</td>\n",
       "      <td>600</td>\n",
       "      <td>800</td>\n",
       "      <td>0.0</td>\n",
       "      <td>2016-12-22 00:00:00+00:00</td>\n",
       "      <td>28.300703</td>\n",
       "      <td>-81.453300</td>\n",
       "      <td>train</td>\n",
       "      <td>2018</td>\n",
       "      <td>rubrocinctum</td>\n",
       "      <td>Fungi_Ascomycota_Arthoniomycetes_Arthoniales_A...</td>\n",
       "      <td>NaN</td>\n",
       "      <td>Fungi_Ascomycota_Arthoniomycetes_Arthoniales_A...</td>\n",
       "      <td>gs://mush-img-repo/train/Fungi_Ascomycota_Arth...</td>\n",
       "      <td>185</td>\n",
       "      <td>0.003144</td>\n",
       "      <td>0.975342</td>\n",
       "    </tr>\n",
       "    <tr>\n",
       "      <th>4</th>\n",
       "      <td>Herpothallon rubrocinctum</td>\n",
       "      <td>Arthoniaceae</td>\n",
       "      <td>Ascomycota</td>\n",
       "      <td>Arthoniales</td>\n",
       "      <td>Herpothallon</td>\n",
       "      <td>Arthoniomycetes</td>\n",
       "      <td>7fc01fe5971cc9d8a5e0ccd49fad91af.jpg</td>\n",
       "      <td>600</td>\n",
       "      <td>800</td>\n",
       "      <td>0.0</td>\n",
       "      <td>2016-07-20 00:00:00+00:00</td>\n",
       "      <td>28.360108</td>\n",
       "      <td>-81.210864</td>\n",
       "      <td>train</td>\n",
       "      <td>2018</td>\n",
       "      <td>rubrocinctum</td>\n",
       "      <td>Fungi_Ascomycota_Arthoniomycetes_Arthoniales_A...</td>\n",
       "      <td>NaN</td>\n",
       "      <td>Fungi_Ascomycota_Arthoniomycetes_Arthoniales_A...</td>\n",
       "      <td>gs://mush-img-repo/train/Fungi_Ascomycota_Arth...</td>\n",
       "      <td>185</td>\n",
       "      <td>0.003144</td>\n",
       "      <td>0.550685</td>\n",
       "    </tr>\n",
       "  </tbody>\n",
       "</table>\n",
       "</div>"
      ],
      "text/plain": [
       "                        name        family      phylum        order  \\\n",
       "0  Herpothallon rubrocinctum  Arthoniaceae  Ascomycota  Arthoniales   \n",
       "1  Herpothallon rubrocinctum  Arthoniaceae  Ascomycota  Arthoniales   \n",
       "2  Herpothallon rubrocinctum  Arthoniaceae  Ascomycota  Arthoniales   \n",
       "3  Herpothallon rubrocinctum  Arthoniaceae  Ascomycota  Arthoniales   \n",
       "4  Herpothallon rubrocinctum  Arthoniaceae  Ascomycota  Arthoniales   \n",
       "\n",
       "          genus            class                             file_name  \\\n",
       "0  Herpothallon  Arthoniomycetes  cbb41cb8edf3cfe364e4e3b083ab7a24.jpg   \n",
       "1  Herpothallon  Arthoniomycetes  755adc87e72ccb246b5b177efb0b8715.jpg   \n",
       "2  Herpothallon  Arthoniomycetes  0be8000dcc267e8538152788dd4a05fe.jpg   \n",
       "3  Herpothallon  Arthoniomycetes  e3199adcb85cdf4b66e0066a6957788a.jpg   \n",
       "4  Herpothallon  Arthoniomycetes  7fc01fe5971cc9d8a5e0ccd49fad91af.jpg   \n",
       "\n",
       "   height  width  location_uncertainty                       date   latitude  \\\n",
       "0     600    800                   0.0  2016-08-02 00:00:00+00:00  28.367144   \n",
       "1     600    800                  29.0  2015-10-24 00:00:00+00:00  28.367783   \n",
       "2     600    800                   0.0  2016-12-22 00:00:00+00:00  28.300703   \n",
       "3     600    800                   0.0  2016-12-22 00:00:00+00:00  28.300703   \n",
       "4     600    800                   0.0  2016-07-20 00:00:00+00:00  28.360108   \n",
       "\n",
       "   longitude    set  dataset specific_epithet  \\\n",
       "0 -81.437020  train     2018     rubrocinctum   \n",
       "1 -81.436785  train     2018     rubrocinctum   \n",
       "2 -81.453300  train     2018     rubrocinctum   \n",
       "3 -81.453300  train     2018     rubrocinctum   \n",
       "4 -81.210864  train     2018     rubrocinctum   \n",
       "\n",
       "                                      image_dir_name common_name  \\\n",
       "0  Fungi_Ascomycota_Arthoniomycetes_Arthoniales_A...         NaN   \n",
       "1  Fungi_Ascomycota_Arthoniomycetes_Arthoniales_A...         NaN   \n",
       "2  Fungi_Ascomycota_Arthoniomycetes_Arthoniales_A...         NaN   \n",
       "3  Fungi_Ascomycota_Arthoniomycetes_Arthoniales_A...         NaN   \n",
       "4  Fungi_Ascomycota_Arthoniomycetes_Arthoniales_A...         NaN   \n",
       "\n",
       "                                           file_path  \\\n",
       "0  Fungi_Ascomycota_Arthoniomycetes_Arthoniales_A...   \n",
       "1  Fungi_Ascomycota_Arthoniomycetes_Arthoniales_A...   \n",
       "2  Fungi_Ascomycota_Arthoniomycetes_Arthoniales_A...   \n",
       "3  Fungi_Ascomycota_Arthoniomycetes_Arthoniales_A...   \n",
       "4  Fungi_Ascomycota_Arthoniomycetes_Arthoniales_A...   \n",
       "\n",
       "                                            gcs_path  class_id  class_priors  \\\n",
       "0  gs://mush-img-repo/train/Fungi_Ascomycota_Arth...       185      0.003144   \n",
       "1  gs://mush-img-repo/train/Fungi_Ascomycota_Arth...       185      0.003144   \n",
       "2  gs://mush-img-repo/train/Fungi_Ascomycota_Arth...       185      0.003144   \n",
       "3  gs://mush-img-repo/train/Fungi_Ascomycota_Arth...       185      0.003144   \n",
       "4  gs://mush-img-repo/train/Fungi_Ascomycota_Arth...       185      0.003144   \n",
       "\n",
       "   norm_date  \n",
       "0   0.586301  \n",
       "1   0.810959  \n",
       "2   0.975342  \n",
       "3   0.975342  \n",
       "4   0.550685  "
      ]
     },
     "execution_count": 4,
     "metadata": {},
     "output_type": "execute_result"
    }
   ],
   "source": [
    "df = pd.read_csv(data / 'train.csv')\n",
    "df.head()"
   ]
  },
  {
   "cell_type": "code",
   "execution_count": 7,
   "metadata": {},
   "outputs": [
    {
     "data": {
      "application/vnd.jupyter.widget-view+json": {
       "model_id": "4c584c44d24a4dcaa5d7c2c40d853d8c",
       "version_major": 2,
       "version_minor": 0
      },
      "text/plain": [
       "                                             |          | [  0%]   00:00 -> (? left)"
      ]
     },
     "metadata": {},
     "output_type": "display_data"
    },
    {
     "name": "stdout",
     "output_type": "stream",
     "text": [
      "Report eda.html was generated! NOTEBOOK/COLAB USERS: the web browser MAY not pop up, regardless, the report IS saved in your notebook/colab files.\n"
     ]
    }
   ],
   "source": [
    "df = df[['height', 'width', 'location_uncertainty', 'date_c', 'latitude', 'longitude', 'set', 'dataset', 'class_id']]\n",
    "sv.analyze(df).show_html('eda.html')"
   ]
  },
  {
   "cell_type": "code",
   "execution_count": 21,
   "metadata": {},
   "outputs": [
    {
     "name": "stdout",
     "output_type": "stream",
     "text": [
      "class_id\n",
      "22     633\n",
      "432    527\n",
      "373    427\n",
      "105    419\n",
      "231    379\n",
      "      ... \n",
      "36       9\n",
      "16       9\n",
      "446      9\n",
      "372      8\n",
      "239      7\n",
      "Name: count, Length: 467, dtype: int64\n"
     ]
    }
   ],
   "source": [
    "print(df[df['set'] == 'train']['class_id'].value_counts())\n",
    "#print(df[df['set'] == 'val']['class_id'].value_counts())"
   ]
  },
  {
   "cell_type": "code",
   "execution_count": 22,
   "metadata": {},
   "outputs": [
    {
     "data": {
      "text/plain": [
       "<Axes: ylabel='count'>"
      ]
     },
     "execution_count": 22,
     "metadata": {},
     "output_type": "execute_result"
    },
    {
     "data": {
      "image/png": "[encoded data removed]",
      "text/plain": [
       "<Figure size 800x800 with 1 Axes>"
      ]
     },
     "metadata": {},
     "output_type": "display_data"
    }
   ],
   "source": [
    "df['dataset'].value_counts().plot(kind='pie', autopct='%1.1f%%', figsize=(8, 8))"
   ]
  },
  {
   "cell_type": "code",
   "execution_count": 10,
   "metadata": {},
   "outputs": [
    {
     "data": {
      "text/plain": [
       "258"
      ]
     },
     "execution_count": 10,
     "metadata": {},
     "output_type": "execute_result"
    }
   ],
   "source": [
    "df['genus'].nunique()"
   ]
  },
  {
   "cell_type": "markdown",
   "metadata": {},
   "source": [
    "```sql\n",
    "SELECT col FROM table\n",
    "-- explanation\n",
    "```"
   ]
  },
  {
   "cell_type": "markdown",
   "metadata": {},
   "source": []
  }
 ],
 "metadata": {
  "kernelspec": {
   "display_name": "ds",
   "language": "python",
   "name": "python3"
  },
  "language_info": {
   "codemirror_mode": {
    "name": "ipython",
    "version": 3
   },
   "file_extension": ".py",
   "mimetype": "text/x-python",
   "name": "python",
   "nbconvert_exporter": "python",
   "pygments_lexer": "ipython3",
   "version": "3.11.6"
  }
 },
 "nbformat": 4,
 "nbformat_minor": 2
}
