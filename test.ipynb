{
 "cells": [
  {
   "cell_type": "code",
   "execution_count": 2,
   "metadata": {},
   "outputs": [],
   "source": [
    "import pandas as pd\n",
    "# from src.data_processing import preprocessing\n",
    "from pathlib import Path\n",
    "# import src.training.train as tr\n",
    "# import src.training.utils as ut\n",
    "import src.training.dataset as ds\n",
    "import numpy as np\n",
    "\n",
    "from config import CFG"
   ]
  },
  {
   "cell_type": "code",
   "execution_count": 3,
   "metadata": {},
   "outputs": [
    {
     "data": {
      "text/html": [
       "<div>\n",
       "<style scoped>\n",
       "    .dataframe tbody tr th:only-of-type {\n",
       "        vertical-align: middle;\n",
       "    }\n",
       "\n",
       "    .dataframe tbody tr th {\n",
       "        vertical-align: top;\n",
       "    }\n",
       "\n",
       "    .dataframe thead th {\n",
       "        text-align: right;\n",
       "    }\n",
       "</style>\n",
       "<table border=\"1\" class=\"dataframe\">\n",
       "  <thead>\n",
       "    <tr style=\"text-align: right;\">\n",
       "      <th></th>\n",
       "      <th>name</th>\n",
       "      <th>family</th>\n",
       "      <th>phylum</th>\n",
       "      <th>order</th>\n",
       "      <th>genus</th>\n",
       "      <th>class</th>\n",
       "      <th>file_name</th>\n",
       "      <th>height</th>\n",
       "      <th>width</th>\n",
       "      <th>location_uncertainty</th>\n",
       "      <th>...</th>\n",
       "      <th>set</th>\n",
       "      <th>dataset</th>\n",
       "      <th>specific_epithet</th>\n",
       "      <th>image_dir_name</th>\n",
       "      <th>common_name</th>\n",
       "      <th>file_path</th>\n",
       "      <th>gcs_path</th>\n",
       "      <th>class_id</th>\n",
       "      <th>class_priors</th>\n",
       "      <th>norm_date</th>\n",
       "    </tr>\n",
       "  </thead>\n",
       "  <tbody>\n",
       "    <tr>\n",
       "      <th>0</th>\n",
       "      <td>Herpothallon rubrocinctum</td>\n",
       "      <td>Arthoniaceae</td>\n",
       "      <td>Ascomycota</td>\n",
       "      <td>Arthoniales</td>\n",
       "      <td>Herpothallon</td>\n",
       "      <td>Arthoniomycetes</td>\n",
       "      <td>cbb41cb8edf3cfe364e4e3b083ab7a24.jpg</td>\n",
       "      <td>600</td>\n",
       "      <td>800</td>\n",
       "      <td>0.0</td>\n",
       "      <td>...</td>\n",
       "      <td>train</td>\n",
       "      <td>2018</td>\n",
       "      <td>rubrocinctum</td>\n",
       "      <td>Fungi_Ascomycota_Arthoniomycetes_Arthoniales_A...</td>\n",
       "      <td>NaN</td>\n",
       "      <td>data/train/Fungi_Ascomycota_Arthoniomycetes_Ar...</td>\n",
       "      <td>gs://mush-img-repo/train/Fungi_Ascomycota_Arth...</td>\n",
       "      <td>185</td>\n",
       "      <td>0.003144</td>\n",
       "      <td>0.586301</td>\n",
       "    </tr>\n",
       "    <tr>\n",
       "      <th>1</th>\n",
       "      <td>Herpothallon rubrocinctum</td>\n",
       "      <td>Arthoniaceae</td>\n",
       "      <td>Ascomycota</td>\n",
       "      <td>Arthoniales</td>\n",
       "      <td>Herpothallon</td>\n",
       "      <td>Arthoniomycetes</td>\n",
       "      <td>755adc87e72ccb246b5b177efb0b8715.jpg</td>\n",
       "      <td>600</td>\n",
       "      <td>800</td>\n",
       "      <td>29.0</td>\n",
       "      <td>...</td>\n",
       "      <td>train</td>\n",
       "      <td>2018</td>\n",
       "      <td>rubrocinctum</td>\n",
       "      <td>Fungi_Ascomycota_Arthoniomycetes_Arthoniales_A...</td>\n",
       "      <td>NaN</td>\n",
       "      <td>data/train/Fungi_Ascomycota_Arthoniomycetes_Ar...</td>\n",
       "      <td>gs://mush-img-repo/train/Fungi_Ascomycota_Arth...</td>\n",
       "      <td>185</td>\n",
       "      <td>0.003144</td>\n",
       "      <td>0.810959</td>\n",
       "    </tr>\n",
       "    <tr>\n",
       "      <th>2</th>\n",
       "      <td>Herpothallon rubrocinctum</td>\n",
       "      <td>Arthoniaceae</td>\n",
       "      <td>Ascomycota</td>\n",
       "      <td>Arthoniales</td>\n",
       "      <td>Herpothallon</td>\n",
       "      <td>Arthoniomycetes</td>\n",
       "      <td>0be8000dcc267e8538152788dd4a05fe.jpg</td>\n",
       "      <td>600</td>\n",
       "      <td>800</td>\n",
       "      <td>0.0</td>\n",
       "      <td>...</td>\n",
       "      <td>train</td>\n",
       "      <td>2018</td>\n",
       "      <td>rubrocinctum</td>\n",
       "      <td>Fungi_Ascomycota_Arthoniomycetes_Arthoniales_A...</td>\n",
       "      <td>NaN</td>\n",
       "      <td>data/train/Fungi_Ascomycota_Arthoniomycetes_Ar...</td>\n",
       "      <td>gs://mush-img-repo/train/Fungi_Ascomycota_Arth...</td>\n",
       "      <td>185</td>\n",
       "      <td>0.003144</td>\n",
       "      <td>0.975342</td>\n",
       "    </tr>\n",
       "    <tr>\n",
       "      <th>3</th>\n",
       "      <td>Herpothallon rubrocinctum</td>\n",
       "      <td>Arthoniaceae</td>\n",
       "      <td>Ascomycota</td>\n",
       "      <td>Arthoniales</td>\n",
       "      <td>Herpothallon</td>\n",
       "      <td>Arthoniomycetes</td>\n",
       "      <td>e3199adcb85cdf4b66e0066a6957788a.jpg</td>\n",
       "      <td>600</td>\n",
       "      <td>800</td>\n",
       "      <td>0.0</td>\n",
       "      <td>...</td>\n",
       "      <td>train</td>\n",
       "      <td>2018</td>\n",
       "      <td>rubrocinctum</td>\n",
       "      <td>Fungi_Ascomycota_Arthoniomycetes_Arthoniales_A...</td>\n",
       "      <td>NaN</td>\n",
       "      <td>data/train/Fungi_Ascomycota_Arthoniomycetes_Ar...</td>\n",
       "      <td>gs://mush-img-repo/train/Fungi_Ascomycota_Arth...</td>\n",
       "      <td>185</td>\n",
       "      <td>0.003144</td>\n",
       "      <td>0.975342</td>\n",
       "    </tr>\n",
       "    <tr>\n",
       "      <th>4</th>\n",
       "      <td>Herpothallon rubrocinctum</td>\n",
       "      <td>Arthoniaceae</td>\n",
       "      <td>Ascomycota</td>\n",
       "      <td>Arthoniales</td>\n",
       "      <td>Herpothallon</td>\n",
       "      <td>Arthoniomycetes</td>\n",
       "      <td>7fc01fe5971cc9d8a5e0ccd49fad91af.jpg</td>\n",
       "      <td>600</td>\n",
       "      <td>800</td>\n",
       "      <td>0.0</td>\n",
       "      <td>...</td>\n",
       "      <td>train</td>\n",
       "      <td>2018</td>\n",
       "      <td>rubrocinctum</td>\n",
       "      <td>Fungi_Ascomycota_Arthoniomycetes_Arthoniales_A...</td>\n",
       "      <td>NaN</td>\n",
       "      <td>data/train/Fungi_Ascomycota_Arthoniomycetes_Ar...</td>\n",
       "      <td>gs://mush-img-repo/train/Fungi_Ascomycota_Arth...</td>\n",
       "      <td>185</td>\n",
       "      <td>0.003144</td>\n",
       "      <td>0.550685</td>\n",
       "    </tr>\n",
       "    <tr>\n",
       "      <th>...</th>\n",
       "      <td>...</td>\n",
       "      <td>...</td>\n",
       "      <td>...</td>\n",
       "      <td>...</td>\n",
       "      <td>...</td>\n",
       "      <td>...</td>\n",
       "      <td>...</td>\n",
       "      <td>...</td>\n",
       "      <td>...</td>\n",
       "      <td>...</td>\n",
       "      <td>...</td>\n",
       "      <td>...</td>\n",
       "      <td>...</td>\n",
       "      <td>...</td>\n",
       "      <td>...</td>\n",
       "      <td>...</td>\n",
       "      <td>...</td>\n",
       "      <td>...</td>\n",
       "      <td>...</td>\n",
       "      <td>...</td>\n",
       "      <td>...</td>\n",
       "    </tr>\n",
       "    <tr>\n",
       "      <th>101280</th>\n",
       "      <td>Tremella mesenterica</td>\n",
       "      <td>Tremellaceae</td>\n",
       "      <td>Basidiomycota</td>\n",
       "      <td>Tremellales</td>\n",
       "      <td>Tremella</td>\n",
       "      <td>Tremellomycetes</td>\n",
       "      <td>51f13b0b-f4f7-46ed-9e53-4d0c63ddad6b.jpg</td>\n",
       "      <td>375</td>\n",
       "      <td>500</td>\n",
       "      <td>13.0</td>\n",
       "      <td>...</td>\n",
       "      <td>val</td>\n",
       "      <td>2021</td>\n",
       "      <td>mesenterica</td>\n",
       "      <td>Fungi_Basidiomycota_Tremellomycetes_Tremellale...</td>\n",
       "      <td>witch's butter</td>\n",
       "      <td>data/train/Fungi_Basidiomycota_Tremellomycetes...</td>\n",
       "      <td>gs://mush-img-repo/train/Fungi_Basidiomycota_T...</td>\n",
       "      <td>435</td>\n",
       "      <td>0.003422</td>\n",
       "      <td>0.356164</td>\n",
       "    </tr>\n",
       "    <tr>\n",
       "      <th>101281</th>\n",
       "      <td>Tremella mesenterica</td>\n",
       "      <td>Tremellaceae</td>\n",
       "      <td>Basidiomycota</td>\n",
       "      <td>Tremellales</td>\n",
       "      <td>Tremella</td>\n",
       "      <td>Tremellomycetes</td>\n",
       "      <td>294cf8dc-bfaa-45b7-a7a8-205d1a22e33d.jpg</td>\n",
       "      <td>375</td>\n",
       "      <td>500</td>\n",
       "      <td>44.0</td>\n",
       "      <td>...</td>\n",
       "      <td>val</td>\n",
       "      <td>2021</td>\n",
       "      <td>mesenterica</td>\n",
       "      <td>Fungi_Basidiomycota_Tremellomycetes_Tremellale...</td>\n",
       "      <td>witch's butter</td>\n",
       "      <td>data/train/Fungi_Basidiomycota_Tremellomycetes...</td>\n",
       "      <td>gs://mush-img-repo/train/Fungi_Basidiomycota_T...</td>\n",
       "      <td>435</td>\n",
       "      <td>0.003422</td>\n",
       "      <td>0.435616</td>\n",
       "    </tr>\n",
       "    <tr>\n",
       "      <th>101282</th>\n",
       "      <td>Tremella mesenterica</td>\n",
       "      <td>Tremellaceae</td>\n",
       "      <td>Basidiomycota</td>\n",
       "      <td>Tremellales</td>\n",
       "      <td>Tremella</td>\n",
       "      <td>Tremellomycetes</td>\n",
       "      <td>b3b8cb90-d5d6-4118-826f-d69c6803a11a.jpg</td>\n",
       "      <td>341</td>\n",
       "      <td>500</td>\n",
       "      <td>197.0</td>\n",
       "      <td>...</td>\n",
       "      <td>val</td>\n",
       "      <td>2021</td>\n",
       "      <td>mesenterica</td>\n",
       "      <td>Fungi_Basidiomycota_Tremellomycetes_Tremellale...</td>\n",
       "      <td>witch's butter</td>\n",
       "      <td>data/train/Fungi_Basidiomycota_Tremellomycetes...</td>\n",
       "      <td>gs://mush-img-repo/train/Fungi_Basidiomycota_T...</td>\n",
       "      <td>435</td>\n",
       "      <td>0.003422</td>\n",
       "      <td>0.454795</td>\n",
       "    </tr>\n",
       "    <tr>\n",
       "      <th>101283</th>\n",
       "      <td>Tremella mesenterica</td>\n",
       "      <td>Tremellaceae</td>\n",
       "      <td>Basidiomycota</td>\n",
       "      <td>Tremellales</td>\n",
       "      <td>Tremella</td>\n",
       "      <td>Tremellomycetes</td>\n",
       "      <td>f38f1edd-34f2-4e8d-aaeb-c95ed22dd1ca.jpg</td>\n",
       "      <td>500</td>\n",
       "      <td>410</td>\n",
       "      <td>15.0</td>\n",
       "      <td>...</td>\n",
       "      <td>val</td>\n",
       "      <td>2021</td>\n",
       "      <td>mesenterica</td>\n",
       "      <td>Fungi_Basidiomycota_Tremellomycetes_Tremellale...</td>\n",
       "      <td>witch's butter</td>\n",
       "      <td>data/train/Fungi_Basidiomycota_Tremellomycetes...</td>\n",
       "      <td>gs://mush-img-repo/train/Fungi_Basidiomycota_T...</td>\n",
       "      <td>435</td>\n",
       "      <td>0.003422</td>\n",
       "      <td>0.769863</td>\n",
       "    </tr>\n",
       "    <tr>\n",
       "      <th>101284</th>\n",
       "      <td>Tremella mesenterica</td>\n",
       "      <td>Tremellaceae</td>\n",
       "      <td>Basidiomycota</td>\n",
       "      <td>Tremellales</td>\n",
       "      <td>Tremella</td>\n",
       "      <td>Tremellomycetes</td>\n",
       "      <td>f8aa8d5e-6dab-4a50-9fc1-8a893d3740c6.jpg</td>\n",
       "      <td>349</td>\n",
       "      <td>500</td>\n",
       "      <td>221.0</td>\n",
       "      <td>...</td>\n",
       "      <td>val</td>\n",
       "      <td>2021</td>\n",
       "      <td>mesenterica</td>\n",
       "      <td>Fungi_Basidiomycota_Tremellomycetes_Tremellale...</td>\n",
       "      <td>witch's butter</td>\n",
       "      <td>data/train/Fungi_Basidiomycota_Tremellomycetes...</td>\n",
       "      <td>gs://mush-img-repo/train/Fungi_Basidiomycota_T...</td>\n",
       "      <td>435</td>\n",
       "      <td>0.003422</td>\n",
       "      <td>0.449315</td>\n",
       "    </tr>\n",
       "  </tbody>\n",
       "</table>\n",
       "<p>101285 rows × 23 columns</p>\n",
       "</div>"
      ],
      "text/plain": [
       "                             name        family         phylum        order  \\\n",
       "0       Herpothallon rubrocinctum  Arthoniaceae     Ascomycota  Arthoniales   \n",
       "1       Herpothallon rubrocinctum  Arthoniaceae     Ascomycota  Arthoniales   \n",
       "2       Herpothallon rubrocinctum  Arthoniaceae     Ascomycota  Arthoniales   \n",
       "3       Herpothallon rubrocinctum  Arthoniaceae     Ascomycota  Arthoniales   \n",
       "4       Herpothallon rubrocinctum  Arthoniaceae     Ascomycota  Arthoniales   \n",
       "...                           ...           ...            ...          ...   \n",
       "101280       Tremella mesenterica  Tremellaceae  Basidiomycota  Tremellales   \n",
       "101281       Tremella mesenterica  Tremellaceae  Basidiomycota  Tremellales   \n",
       "101282       Tremella mesenterica  Tremellaceae  Basidiomycota  Tremellales   \n",
       "101283       Tremella mesenterica  Tremellaceae  Basidiomycota  Tremellales   \n",
       "101284       Tremella mesenterica  Tremellaceae  Basidiomycota  Tremellales   \n",
       "\n",
       "               genus            class  \\\n",
       "0       Herpothallon  Arthoniomycetes   \n",
       "1       Herpothallon  Arthoniomycetes   \n",
       "2       Herpothallon  Arthoniomycetes   \n",
       "3       Herpothallon  Arthoniomycetes   \n",
       "4       Herpothallon  Arthoniomycetes   \n",
       "...              ...              ...   \n",
       "101280      Tremella  Tremellomycetes   \n",
       "101281      Tremella  Tremellomycetes   \n",
       "101282      Tremella  Tremellomycetes   \n",
       "101283      Tremella  Tremellomycetes   \n",
       "101284      Tremella  Tremellomycetes   \n",
       "\n",
       "                                       file_name  height  width  \\\n",
       "0           cbb41cb8edf3cfe364e4e3b083ab7a24.jpg     600    800   \n",
       "1           755adc87e72ccb246b5b177efb0b8715.jpg     600    800   \n",
       "2           0be8000dcc267e8538152788dd4a05fe.jpg     600    800   \n",
       "3           e3199adcb85cdf4b66e0066a6957788a.jpg     600    800   \n",
       "4           7fc01fe5971cc9d8a5e0ccd49fad91af.jpg     600    800   \n",
       "...                                          ...     ...    ...   \n",
       "101280  51f13b0b-f4f7-46ed-9e53-4d0c63ddad6b.jpg     375    500   \n",
       "101281  294cf8dc-bfaa-45b7-a7a8-205d1a22e33d.jpg     375    500   \n",
       "101282  b3b8cb90-d5d6-4118-826f-d69c6803a11a.jpg     341    500   \n",
       "101283  f38f1edd-34f2-4e8d-aaeb-c95ed22dd1ca.jpg     500    410   \n",
       "101284  f8aa8d5e-6dab-4a50-9fc1-8a893d3740c6.jpg     349    500   \n",
       "\n",
       "        location_uncertainty  ...    set  dataset  specific_epithet  \\\n",
       "0                        0.0  ...  train     2018      rubrocinctum   \n",
       "1                       29.0  ...  train     2018      rubrocinctum   \n",
       "2                        0.0  ...  train     2018      rubrocinctum   \n",
       "3                        0.0  ...  train     2018      rubrocinctum   \n",
       "4                        0.0  ...  train     2018      rubrocinctum   \n",
       "...                      ...  ...    ...      ...               ...   \n",
       "101280                  13.0  ...    val     2021       mesenterica   \n",
       "101281                  44.0  ...    val     2021       mesenterica   \n",
       "101282                 197.0  ...    val     2021       mesenterica   \n",
       "101283                  15.0  ...    val     2021       mesenterica   \n",
       "101284                 221.0  ...    val     2021       mesenterica   \n",
       "\n",
       "                                           image_dir_name     common_name  \\\n",
       "0       Fungi_Ascomycota_Arthoniomycetes_Arthoniales_A...             NaN   \n",
       "1       Fungi_Ascomycota_Arthoniomycetes_Arthoniales_A...             NaN   \n",
       "2       Fungi_Ascomycota_Arthoniomycetes_Arthoniales_A...             NaN   \n",
       "3       Fungi_Ascomycota_Arthoniomycetes_Arthoniales_A...             NaN   \n",
       "4       Fungi_Ascomycota_Arthoniomycetes_Arthoniales_A...             NaN   \n",
       "...                                                   ...             ...   \n",
       "101280  Fungi_Basidiomycota_Tremellomycetes_Tremellale...  witch's butter   \n",
       "101281  Fungi_Basidiomycota_Tremellomycetes_Tremellale...  witch's butter   \n",
       "101282  Fungi_Basidiomycota_Tremellomycetes_Tremellale...  witch's butter   \n",
       "101283  Fungi_Basidiomycota_Tremellomycetes_Tremellale...  witch's butter   \n",
       "101284  Fungi_Basidiomycota_Tremellomycetes_Tremellale...  witch's butter   \n",
       "\n",
       "                                                file_path  \\\n",
       "0       data/train/Fungi_Ascomycota_Arthoniomycetes_Ar...   \n",
       "1       data/train/Fungi_Ascomycota_Arthoniomycetes_Ar...   \n",
       "2       data/train/Fungi_Ascomycota_Arthoniomycetes_Ar...   \n",
       "3       data/train/Fungi_Ascomycota_Arthoniomycetes_Ar...   \n",
       "4       data/train/Fungi_Ascomycota_Arthoniomycetes_Ar...   \n",
       "...                                                   ...   \n",
       "101280  data/train/Fungi_Basidiomycota_Tremellomycetes...   \n",
       "101281  data/train/Fungi_Basidiomycota_Tremellomycetes...   \n",
       "101282  data/train/Fungi_Basidiomycota_Tremellomycetes...   \n",
       "101283  data/train/Fungi_Basidiomycota_Tremellomycetes...   \n",
       "101284  data/train/Fungi_Basidiomycota_Tremellomycetes...   \n",
       "\n",
       "                                                 gcs_path class_id  \\\n",
       "0       gs://mush-img-repo/train/Fungi_Ascomycota_Arth...      185   \n",
       "1       gs://mush-img-repo/train/Fungi_Ascomycota_Arth...      185   \n",
       "2       gs://mush-img-repo/train/Fungi_Ascomycota_Arth...      185   \n",
       "3       gs://mush-img-repo/train/Fungi_Ascomycota_Arth...      185   \n",
       "4       gs://mush-img-repo/train/Fungi_Ascomycota_Arth...      185   \n",
       "...                                                   ...      ...   \n",
       "101280  gs://mush-img-repo/train/Fungi_Basidiomycota_T...      435   \n",
       "101281  gs://mush-img-repo/train/Fungi_Basidiomycota_T...      435   \n",
       "101282  gs://mush-img-repo/train/Fungi_Basidiomycota_T...      435   \n",
       "101283  gs://mush-img-repo/train/Fungi_Basidiomycota_T...      435   \n",
       "101284  gs://mush-img-repo/train/Fungi_Basidiomycota_T...      435   \n",
       "\n",
       "       class_priors norm_date  \n",
       "0          0.003144  0.586301  \n",
       "1          0.003144  0.810959  \n",
       "2          0.003144  0.975342  \n",
       "3          0.003144  0.975342  \n",
       "4          0.003144  0.550685  \n",
       "...             ...       ...  \n",
       "101280     0.003422  0.356164  \n",
       "101281     0.003422  0.435616  \n",
       "101282     0.003422  0.454795  \n",
       "101283     0.003422  0.769863  \n",
       "101284     0.003422  0.449315  \n",
       "\n",
       "[101285 rows x 23 columns]"
      ]
     },
     "execution_count": 3,
     "metadata": {},
     "output_type": "execute_result"
    }
   ],
   "source": [
    "df = pd.read_csv(Path.cwd() / 'data' / 'train.csv')\n",
    "df "
   ]
  },
  {
   "cell_type": "code",
   "execution_count": 38,
   "metadata": {},
   "outputs": [],
   "source": [
    "df['family'].replace('mode', np.nan, inplace=True)\n",
    "df['order'].replace('mode', np.nan, inplace=True)\n",
    "df['latitude'].replace('median', np.nan, inplace=True)\n",
    "df['longitude'].replace('median', np.nan, inplace=True)"
   ]
  },
  {
   "cell_type": "code",
   "execution_count": 4,
   "metadata": {},
   "outputs": [],
   "source": [
    "f = lambda x: x.median() if np.issubdtype(x.dtype, np.number) else x.mode()\n",
    "df['longitude'] = df['longitude'].fillna(df.groupby('name')['longitude'].transform(f))\n",
    "df['latitude'] = df['latitude'].fillna(df.groupby('name')['latitude'].transform(f))\n"
   ]
  },
  {
   "cell_type": "code",
   "execution_count": null,
   "metadata": {},
   "outputs": [],
   "source": [
    "df.to_csv(Path.cwd() / 'data' / 'train.csv', index=False)"
   ]
  },
  {
   "cell_type": "code",
   "execution_count": 5,
   "metadata": {},
   "outputs": [],
   "source": [
    "dpath = Path.cwd() / 'data'/ 'tfrec'\n",
    "test = df.loc[0, 'gcs_path']"
   ]
  },
  {
   "cell_type": "code",
   "execution_count": 3,
   "metadata": {},
   "outputs": [
    {
     "name": "stdout",
     "output_type": "stream",
     "text": [
      "INFO:tensorflow:Deallocate tpu buffers before initializing tpu system.\n",
      "INFO:tensorflow:Initializing the TPU system: local\n"
     ]
    },
    {
     "name": "stderr",
     "output_type": "stream",
     "text": [
      "2023-09-24 11:09:30.233163: I tensorflow/compiler/xla/service/service.cc:169] XLA service 0x812b0f0 initialized for platform TPU (this does not guarantee that XLA will be used). Devices:\n",
      "2023-09-24 11:09:30.233205: I tensorflow/compiler/xla/service/service.cc:177]   StreamExecutor device (0): TPU, 2a886c8\n",
      "2023-09-24 11:09:30.233218: I tensorflow/compiler/xla/service/service.cc:177]   StreamExecutor device (1): TPU, 2a886c8\n",
      "2023-09-24 11:09:30.233229: I tensorflow/compiler/xla/service/service.cc:177]   StreamExecutor device (2): TPU, 2a886c8\n",
      "2023-09-24 11:09:30.233240: I tensorflow/compiler/xla/service/service.cc:177]   StreamExecutor device (3): TPU, 2a886c8\n",
      "2023-09-24 11:09:30.233251: I tensorflow/compiler/xla/service/service.cc:177]   StreamExecutor device (4): TPU, 2a886c8\n",
      "2023-09-24 11:09:30.233262: I tensorflow/compiler/xla/service/service.cc:177]   StreamExecutor device (5): TPU, 2a886c8\n",
      "2023-09-24 11:09:30.233273: I tensorflow/compiler/xla/service/service.cc:177]   StreamExecutor device (6): TPU, 2a886c8\n",
      "2023-09-24 11:09:30.233283: I tensorflow/compiler/xla/service/service.cc:177]   StreamExecutor device (7): TPU, 2a886c8\n"
     ]
    },
    {
     "name": "stdout",
     "output_type": "stream",
     "text": [
      "INFO:tensorflow:Finished initializing TPU system.\n",
      "INFO:tensorflow:Found TPU system:\n",
      "INFO:tensorflow:*** Num TPU Cores: 8\n",
      "INFO:tensorflow:*** Num TPU Workers: 1\n",
      "INFO:tensorflow:*** Num TPU Cores Per Worker: 8\n",
      "INFO:tensorflow:*** Available Device: _DeviceAttributes(/job:localhost/replica:0/task:0/device:CPU:0, CPU, 0, 0)\n",
      "INFO:tensorflow:*** Available Device: _DeviceAttributes(/job:localhost/replica:0/task:0/device:TPU:0, TPU, 0, 0)\n",
      "INFO:tensorflow:*** Available Device: _DeviceAttributes(/job:localhost/replica:0/task:0/device:TPU:1, TPU, 0, 0)\n",
      "INFO:tensorflow:*** Available Device: _DeviceAttributes(/job:localhost/replica:0/task:0/device:TPU:2, TPU, 0, 0)\n",
      "INFO:tensorflow:*** Available Device: _DeviceAttributes(/job:localhost/replica:0/task:0/device:TPU:3, TPU, 0, 0)\n",
      "INFO:tensorflow:*** Available Device: _DeviceAttributes(/job:localhost/replica:0/task:0/device:TPU:4, TPU, 0, 0)\n",
      "INFO:tensorflow:*** Available Device: _DeviceAttributes(/job:localhost/replica:0/task:0/device:TPU:5, TPU, 0, 0)\n",
      "INFO:tensorflow:Found TPU system:\n",
      "INFO:tensorflow:*** Num TPU Cores: 8\n",
      "INFO:tensorflow:*** Num TPU Workers: 1\n",
      "INFO:tensorflow:*** Num TPU Cores Per Worker: 8\n",
      "INFO:tensorflow:*** Available Device: _DeviceAttributes(/job:localhost/replica:0/task:0/device:CPU:0, CPU, 0, 0)\n",
      "INFO:tensorflow:*** Available Device: _DeviceAttributes(/job:localhost/replica:0/task:0/device:TPU:0, TPU, 0, 0)\n",
      "INFO:tensorflow:*** Available Device: _DeviceAttributes(/job:localhost/replica:0/task:0/device:TPU:1, TPU, 0, 0)\n",
      "INFO:tensorflow:*** Available Device: _DeviceAttributes(/job:localhost/replica:0/task:0/device:TPU:2, TPU, 0, 0)\n",
      "INFO:tensorflow:*** Available Device: _DeviceAttributes(/job:localhost/replica:0/task:0/device:TPU:3, TPU, 0, 0)\n",
      "INFO:tensorflow:*** Available Device: _DeviceAttributes(/job:localhost/replica:0/task:0/device:TPU:4, TPU, 0, 0)\n",
      "INFO:tensorflow:*** Available Device: _DeviceAttributes(/job:localhost/replica:0/task:0/device:TPU:5, TPU, 0, 0)\n",
      "INFO:tensorflow:*** Available Device: _DeviceAttributes(/job:localhost/replica:0/task:0/device:TPU:6, TPU, 0, 0)\n",
      "INFO:tensorflow:*** Available Device: _DeviceAttributes(/job:localhost/replica:0/task:0/device:TPU:7, TPU, 0, 0)\n",
      "INFO:tensorflow:*** Available Device: _DeviceAttributes(/job:localhost/replica:0/task:0/device:TPU_SYSTEM:0, TPU_SYSTEM, 0, 0)\n"
     ]
    }
   ],
   "source": [
    "import tensorflow as tf\n",
    "\n",
    "cluster_resolver = tf.distribute.cluster_resolver.TPUClusterResolver('local')\n",
    "tf.config.experimental_connect_to_cluster(cluster_resolver)\n",
    "tf.tpu.experimental.initialize_tpu_system(cluster_resolver)\n",
    "strategy = tf.distribute.TPUStrategy(cluster_resolver)"
   ]
  },
  {
   "cell_type": "code",
   "execution_count": 2,
   "metadata": {},
   "outputs": [
    {
     "name": "stderr",
     "output_type": "stream",
     "text": [
      "\u001b[32m2023-09-24 11:17:33.547\u001b[0m | \u001b[1mINFO    \u001b[0m | \u001b[36msrc.training.utils\u001b[0m:\u001b[36mtpu_test\u001b[0m:\u001b[36m14\u001b[0m - \u001b[1mconnecting to TPU...\u001b[0m\n",
      "\u001b[32m2023-09-24 11:17:33.549\u001b[0m | \u001b[1mINFO    \u001b[0m | \u001b[36msrc.training.utils\u001b[0m:\u001b[36mtpu_test\u001b[0m:\u001b[36m17\u001b[0m - \u001b[1mRunning on TPU \u001b[0m\n",
      "\u001b[32m2023-09-24 11:17:33.549\u001b[0m | \u001b[1mINFO    \u001b[0m | \u001b[36msrc.training.utils\u001b[0m:\u001b[36mtpu_test\u001b[0m:\u001b[36m24\u001b[0m - \u001b[1minitializing  TPU ...\u001b[0m\n"
     ]
    },
    {
     "name": "stdout",
     "output_type": "stream",
     "text": [
      "INFO:tensorflow:Deallocate tpu buffers before initializing tpu system.\n"
     ]
    },
    {
     "name": "stdout",
     "output_type": "stream",
     "text": [
      "INFO:tensorflow:Initializing the TPU system: local\n"
     ]
    },
    {
     "name": "stderr",
     "output_type": "stream",
     "text": [
      "2023-09-24 11:17:48.346863: I tensorflow/compiler/xla/service/service.cc:169] XLA service 0x6c539c0 initialized for platform TPU (this does not guarantee that XLA will be used). Devices:\n",
      "2023-09-24 11:17:48.346904: I tensorflow/compiler/xla/service/service.cc:177]   StreamExecutor device (0): TPU, 2a886c8\n",
      "2023-09-24 11:17:48.346917: I tensorflow/compiler/xla/service/service.cc:177]   StreamExecutor device (1): TPU, 2a886c8\n",
      "2023-09-24 11:17:48.346928: I tensorflow/compiler/xla/service/service.cc:177]   StreamExecutor device (2): TPU, 2a886c8\n",
      "2023-09-24 11:17:48.346939: I tensorflow/compiler/xla/service/service.cc:177]   StreamExecutor device (3): TPU, 2a886c8\n",
      "2023-09-24 11:17:48.346950: I tensorflow/compiler/xla/service/service.cc:177]   StreamExecutor device (4): TPU, 2a886c8\n",
      "2023-09-24 11:17:48.346960: I tensorflow/compiler/xla/service/service.cc:177]   StreamExecutor device (5): TPU, 2a886c8\n",
      "2023-09-24 11:17:48.346971: I tensorflow/compiler/xla/service/service.cc:177]   StreamExecutor device (6): TPU, 2a886c8\n",
      "2023-09-24 11:17:48.346982: I tensorflow/compiler/xla/service/service.cc:177]   StreamExecutor device (7): TPU, 2a886c8\n"
     ]
    },
    {
     "name": "stdout",
     "output_type": "stream",
     "text": [
      "INFO:tensorflow:Finished initializing TPU system.\n"
     ]
    },
    {
     "name": "stderr",
     "output_type": "stream",
     "text": [
      "WARNING:absl:`tf.distribute.experimental.TPUStrategy` is deprecated, please use  the non experimental symbol `tf.distribute.TPUStrategy` instead.\n"
     ]
    },
    {
     "name": "stdout",
     "output_type": "stream",
     "text": [
      "INFO:tensorflow:Found TPU system:\n"
     ]
    },
    {
     "name": "stderr",
     "output_type": "stream",
     "text": [
      "INFO:tensorflow:Found TPU system:\n"
     ]
    },
    {
     "name": "stdout",
     "output_type": "stream",
     "text": [
      "INFO:tensorflow:*** Num TPU Cores: 8\n"
     ]
    },
    {
     "name": "stderr",
     "output_type": "stream",
     "text": [
      "INFO:tensorflow:*** Num TPU Cores: 8\n"
     ]
    },
    {
     "name": "stdout",
     "output_type": "stream",
     "text": [
      "INFO:tensorflow:*** Num TPU Workers: 1\n"
     ]
    },
    {
     "name": "stderr",
     "output_type": "stream",
     "text": [
      "INFO:tensorflow:*** Num TPU Workers: 1\n"
     ]
    },
    {
     "name": "stdout",
     "output_type": "stream",
     "text": [
      "INFO:tensorflow:*** Num TPU Cores Per Worker: 8\n"
     ]
    },
    {
     "name": "stderr",
     "output_type": "stream",
     "text": [
      "INFO:tensorflow:*** Num TPU Cores Per Worker: 8\n"
     ]
    },
    {
     "name": "stdout",
     "output_type": "stream",
     "text": [
      "INFO:tensorflow:*** Available Device: _DeviceAttributes(/job:localhost/replica:0/task:0/device:CPU:0, CPU, 0, 0)\n"
     ]
    },
    {
     "name": "stderr",
     "output_type": "stream",
     "text": [
      "INFO:tensorflow:*** Available Device: _DeviceAttributes(/job:localhost/replica:0/task:0/device:CPU:0, CPU, 0, 0)\n"
     ]
    },
    {
     "name": "stdout",
     "output_type": "stream",
     "text": [
      "INFO:tensorflow:*** Available Device: _DeviceAttributes(/job:localhost/replica:0/task:0/device:TPU:0, TPU, 0, 0)\n"
     ]
    },
    {
     "name": "stderr",
     "output_type": "stream",
     "text": [
      "INFO:tensorflow:*** Available Device: _DeviceAttributes(/job:localhost/replica:0/task:0/device:TPU:0, TPU, 0, 0)\n"
     ]
    },
    {
     "name": "stdout",
     "output_type": "stream",
     "text": [
      "INFO:tensorflow:*** Available Device: _DeviceAttributes(/job:localhost/replica:0/task:0/device:TPU:1, TPU, 0, 0)\n"
     ]
    },
    {
     "name": "stderr",
     "output_type": "stream",
     "text": [
      "INFO:tensorflow:*** Available Device: _DeviceAttributes(/job:localhost/replica:0/task:0/device:TPU:1, TPU, 0, 0)\n"
     ]
    },
    {
     "name": "stdout",
     "output_type": "stream",
     "text": [
      "INFO:tensorflow:*** Available Device: _DeviceAttributes(/job:localhost/replica:0/task:0/device:TPU:2, TPU, 0, 0)\n"
     ]
    },
    {
     "name": "stderr",
     "output_type": "stream",
     "text": [
      "INFO:tensorflow:*** Available Device: _DeviceAttributes(/job:localhost/replica:0/task:0/device:TPU:2, TPU, 0, 0)\n"
     ]
    },
    {
     "name": "stdout",
     "output_type": "stream",
     "text": [
      "INFO:tensorflow:*** Available Device: _DeviceAttributes(/job:localhost/replica:0/task:0/device:TPU:3, TPU, 0, 0)\n"
     ]
    },
    {
     "name": "stderr",
     "output_type": "stream",
     "text": [
      "INFO:tensorflow:*** Available Device: _DeviceAttributes(/job:localhost/replica:0/task:0/device:TPU:3, TPU, 0, 0)\n"
     ]
    },
    {
     "name": "stdout",
     "output_type": "stream",
     "text": [
      "INFO:tensorflow:*** Available Device: _DeviceAttributes(/job:localhost/replica:0/task:0/device:TPU:4, TPU, 0, 0)\n"
     ]
    },
    {
     "name": "stderr",
     "output_type": "stream",
     "text": [
      "INFO:tensorflow:*** Available Device: _DeviceAttributes(/job:localhost/replica:0/task:0/device:TPU:4, TPU, 0, 0)\n"
     ]
    },
    {
     "name": "stdout",
     "output_type": "stream",
     "text": [
      "INFO:tensorflow:*** Available Device: _DeviceAttributes(/job:localhost/replica:0/task:0/device:TPU:5, TPU, 0, 0)\n"
     ]
    },
    {
     "name": "stderr",
     "output_type": "stream",
     "text": [
      "INFO:tensorflow:*** Available Device: _DeviceAttributes(/job:localhost/replica:0/task:0/device:TPU:5, TPU, 0, 0)\n"
     ]
    },
    {
     "name": "stdout",
     "output_type": "stream",
     "text": [
      "INFO:tensorflow:*** Available Device: _DeviceAttributes(/job:localhost/replica:0/task:0/device:TPU:6, TPU, 0, 0)\n"
     ]
    },
    {
     "name": "stderr",
     "output_type": "stream",
     "text": [
      "INFO:tensorflow:*** Available Device: _DeviceAttributes(/job:localhost/replica:0/task:0/device:TPU:6, TPU, 0, 0)\n"
     ]
    },
    {
     "name": "stdout",
     "output_type": "stream",
     "text": [
      "INFO:tensorflow:*** Available Device: _DeviceAttributes(/job:localhost/replica:0/task:0/device:TPU:7, TPU, 0, 0)\n"
     ]
    },
    {
     "name": "stderr",
     "output_type": "stream",
     "text": [
      "INFO:tensorflow:*** Available Device: _DeviceAttributes(/job:localhost/replica:0/task:0/device:TPU:7, TPU, 0, 0)\n"
     ]
    },
    {
     "name": "stdout",
     "output_type": "stream",
     "text": [
      "INFO:tensorflow:*** Available Device: _DeviceAttributes(/job:localhost/replica:0/task:0/device:TPU_SYSTEM:0, TPU_SYSTEM, 0, 0)\n"
     ]
    },
    {
     "name": "stderr",
     "output_type": "stream",
     "text": [
      "INFO:tensorflow:*** Available Device: _DeviceAttributes(/job:localhost/replica:0/task:0/device:TPU_SYSTEM:0, TPU_SYSTEM, 0, 0)\n",
      "\u001b[32m2023-09-24 11:18:41.369\u001b[0m | \u001b[1mINFO    \u001b[0m | \u001b[36msrc.training.utils\u001b[0m:\u001b[36mtpu_test\u001b[0m:\u001b[36m28\u001b[0m - \u001b[1mTPU initialized\u001b[0m\n"
     ]
    },
    {
     "data": {
      "text/plain": [
       "<_PrefetchDataset element_spec=(TensorSpec(shape=(None, 256, 256, 3), dtype=tf.float32, name=None), TensorSpec(shape=(None,), dtype=tf.float32, name=None))>"
      ]
     },
     "execution_count": 2,
     "metadata": {},
     "output_type": "execute_result"
    }
   ],
   "source": [
    "import src.training.utils as ut\n",
    "strategy, tpu = ut.tpu_test(CFG)\n",
    "ds.get_dataset('gs://mush-img-repo/tfrec/train00-905.tfrec', CFG, strategy)"
   ]
  },
  {
   "cell_type": "code",
   "execution_count": 3,
   "metadata": {},
   "outputs": [
    {
     "name": "stderr",
     "output_type": "stream",
     "text": [
      "\u001b[32m2023-09-24 11:21:11.112\u001b[0m | \u001b[1mINFO    \u001b[0m | \u001b[36msrc.training.train\u001b[0m:\u001b[36mtrain\u001b[0m:\u001b[36m108\u001b[0m - \u001b[1m# Image Size 224 with Model https://tfhub.dev/sayakpaul/swin_tiny_patch4_window7_224_fe/1 and batch_sz 256\u001b[0m\n"
     ]
    },
    {
     "name": "stdout",
     "output_type": "stream",
     "text": [
      "#########################\n",
      "#### FOLD 1\n",
      "#### Image Size 224 with https://tfhub.dev/sayakpaul/swin_tiny_patch4_window7_224_fe/1 and batch_size 256\n",
      "#########################\n"
     ]
    },
    {
     "name": "stderr",
     "output_type": "stream",
     "text": [
      "2023-09-24 11:22:02.246682: I tensorflow/compiler/mlir/tensorflow/utils/dump_mlir_util.cc:269] disabling MLIR crash reproducer, set env var `MLIR_CRASH_REPRODUCER_DIRECTORY` to enable.\n",
      "2023-09-24 11:22:02.278385: I ./tensorflow/compiler/jit/device_compiler.h:180] Compiled cluster using XLA!  This line is logged at most once for the lifetime of the process.\n",
      "\u001b[32m2023-09-24 11:22:03.263\u001b[0m | \u001b[1mINFO    \u001b[0m | \u001b[36msrc.training.train\u001b[0m:\u001b[36mget_history\u001b[0m:\u001b[36m76\u001b[0m - \u001b[1mTraining...\u001b[0m\n",
      "2023-09-24 11:22:03.640705: I tensorflow/core/common_runtime/executor.cc:1197] [/device:CPU:0] (DEBUG INFO) Executor start aborting (this does not indicate an error and you can ignore this message): INVALID_ARGUMENT: You must feed a value for placeholder tensor 'Placeholder/_0' with dtype string and shape [85]\n",
      "\t [[{{node Placeholder/_0}}]]\n",
      "2023-09-24 11:22:03.641815: I tensorflow/core/common_runtime/executor.cc:1197] [/device:CPU:0] (DEBUG INFO) Executor start aborting (this does not indicate an error and you can ignore this message): INVALID_ARGUMENT: You must feed a value for placeholder tensor 'Placeholder/_0' with dtype string and shape [85]\n",
      "\t [[{{node Placeholder/_0}}]]\n"
     ]
    },
    {
     "ename": "TypeError",
     "evalue": "Cannot convert 0.0 to EagerTensor of dtype int64",
     "output_type": "error",
     "traceback": [
      "\u001b[0;31m---------------------------------------------------------------------------\u001b[0m",
      "\u001b[0;31mTypeError\u001b[0m                                 Traceback (most recent call last)",
      "\u001b[1;32m/home/broug/Mushroom-Classifier/test.ipynb Cell 8\u001b[0m line \u001b[0;36m1\n\u001b[0;32m----> <a href='vscode-notebook-cell://ssh-remote%2Bnode.us-central1-b.mush-classifier/home/broug/Mushroom-Classifier/test.ipynb#X15sdnNjb2RlLXJlbW90ZQ%3D%3D?line=0'>1</a>\u001b[0m tr\u001b[39m.\u001b[39;49mtrain(CFG, strategy)\n",
      "File \u001b[0;32m~/Mushroom-Classifier/src/training/train.py:125\u001b[0m, in \u001b[0;36mtrain\u001b[0;34m(CFG, strategy)\u001b[0m\n\u001b[1;32m    122\u001b[0m     model \u001b[39m=\u001b[39m build_model(CFG\u001b[39m.\u001b[39mMODELS, CFG\u001b[39m.\u001b[39mNUM_CLASSES, dim\u001b[39m=\u001b[39mCFG\u001b[39m.\u001b[39mIMG_SIZES)\n\u001b[1;32m    124\u001b[0m \u001b[39m# TRAIN\u001b[39;00m\n\u001b[0;32m--> 125\u001b[0m history \u001b[39m=\u001b[39m get_history(model, fold, files_train, files_valid, CFG)\n\u001b[1;32m    127\u001b[0m logger\u001b[39m.\u001b[39minfo(\u001b[39m\"\u001b[39m\u001b[39mLoading best model...\u001b[39m\u001b[39m\"\u001b[39m)\n\u001b[1;32m    128\u001b[0m model\u001b[39m.\u001b[39mload_weights(\u001b[39mf\u001b[39m\u001b[39m'\u001b[39m\u001b[39mfold-\u001b[39m\u001b[39m{\u001b[39;00mfold\u001b[39m}\u001b[39;00m\u001b[39m.h5\u001b[39m\u001b[39m'\u001b[39m \u001b[39m%\u001b[39m fold)\n",
      "File \u001b[0;32m~/Mushroom-Classifier/src/training/train.py:77\u001b[0m, in \u001b[0;36mget_history\u001b[0;34m(model, fold, files_train, files_valid, CFG)\u001b[0m\n\u001b[1;32m     75\u001b[0m \u001b[39mdef\u001b[39;00m \u001b[39mget_history\u001b[39m(model, fold, files_train, files_valid, CFG):\n\u001b[1;32m     76\u001b[0m     logger\u001b[39m.\u001b[39minfo(\u001b[39m\"\u001b[39m\u001b[39mTraining...\u001b[39m\u001b[39m\"\u001b[39m)\n\u001b[0;32m---> 77\u001b[0m     history \u001b[39m=\u001b[39m model\u001b[39m.\u001b[39;49mfit(\n\u001b[1;32m     78\u001b[0m         get_dataset(\n\u001b[1;32m     79\u001b[0m             files_train, CFG, augment\u001b[39m=\u001b[39;49m\u001b[39mTrue\u001b[39;49;00m, shuffle\u001b[39m=\u001b[39;49m\u001b[39mTrue\u001b[39;49;00m, repeat\u001b[39m=\u001b[39;49m\u001b[39mTrue\u001b[39;49;00m, dim\u001b[39m=\u001b[39;49mCFG\u001b[39m.\u001b[39;49mIMG_SIZES, batch_size\u001b[39m=\u001b[39;49mCFG\u001b[39m.\u001b[39;49mBATCH_SIZES\n\u001b[1;32m     80\u001b[0m         ),\n\u001b[1;32m     81\u001b[0m         epochs\u001b[39m=\u001b[39;49mCFG\u001b[39m.\u001b[39;49mEPOCHS,\n\u001b[1;32m     82\u001b[0m         callbacks\u001b[39m=\u001b[39;49m[sv(fold), get_lr_callback(CFG\u001b[39m.\u001b[39;49mBATCH_SIZES)],\n\u001b[1;32m     83\u001b[0m         steps_per_epoch\u001b[39m=\u001b[39;49mcount_data_items(files_train) \u001b[39m/\u001b[39;49m CFG\u001b[39m.\u001b[39;49mBATCH_SIZES \u001b[39m/\u001b[39;49m\u001b[39m/\u001b[39;49m CFG\u001b[39m.\u001b[39;49mREPLICAS,\n\u001b[1;32m     84\u001b[0m         validation_data\u001b[39m=\u001b[39;49mget_dataset(\n\u001b[1;32m     85\u001b[0m             files_valid, CFG, augment\u001b[39m=\u001b[39;49m\u001b[39mFalse\u001b[39;49;00m, shuffle\u001b[39m=\u001b[39;49m\u001b[39mFalse\u001b[39;49;00m, repeat\u001b[39m=\u001b[39;49m\u001b[39mFalse\u001b[39;49;00m, dim\u001b[39m=\u001b[39;49mCFG\u001b[39m.\u001b[39;49mIMG_SIZES\n\u001b[1;32m     86\u001b[0m         ),  \u001b[39m# class_weight = {0:1,1:2},\u001b[39;49;00m\n\u001b[1;32m     87\u001b[0m         verbose\u001b[39m=\u001b[39;49mCFG\u001b[39m.\u001b[39;49mVERBOSE,\n\u001b[1;32m     88\u001b[0m     )\n\u001b[1;32m     89\u001b[0m     \u001b[39mreturn\u001b[39;00m history\u001b[39m.\u001b[39mhistory\n",
      "File \u001b[0;32m/usr/local/lib/python3.8/dist-packages/keras/utils/traceback_utils.py:70\u001b[0m, in \u001b[0;36mfilter_traceback.<locals>.error_handler\u001b[0;34m(*args, **kwargs)\u001b[0m\n\u001b[1;32m     67\u001b[0m     filtered_tb \u001b[39m=\u001b[39m _process_traceback_frames(e\u001b[39m.\u001b[39m__traceback__)\n\u001b[1;32m     68\u001b[0m     \u001b[39m# To get the full stack trace, call:\u001b[39;00m\n\u001b[1;32m     69\u001b[0m     \u001b[39m# `tf.debugging.disable_traceback_filtering()`\u001b[39;00m\n\u001b[0;32m---> 70\u001b[0m     \u001b[39mraise\u001b[39;00m e\u001b[39m.\u001b[39mwith_traceback(filtered_tb) \u001b[39mfrom\u001b[39;00m \u001b[39mNone\u001b[39;00m\n\u001b[1;32m     71\u001b[0m \u001b[39mfinally\u001b[39;00m:\n\u001b[1;32m     72\u001b[0m     \u001b[39mdel\u001b[39;00m filtered_tb\n",
      "File \u001b[0;32m/usr/lib/python3.8/contextlib.py:113\u001b[0m, in \u001b[0;36m_GeneratorContextManager.__enter__\u001b[0;34m(self)\u001b[0m\n\u001b[1;32m    111\u001b[0m \u001b[39mdel\u001b[39;00m \u001b[39mself\u001b[39m\u001b[39m.\u001b[39margs, \u001b[39mself\u001b[39m\u001b[39m.\u001b[39mkwds, \u001b[39mself\u001b[39m\u001b[39m.\u001b[39mfunc\n\u001b[1;32m    112\u001b[0m \u001b[39mtry\u001b[39;00m:\n\u001b[0;32m--> 113\u001b[0m     \u001b[39mreturn\u001b[39;00m \u001b[39mnext\u001b[39m(\u001b[39mself\u001b[39m\u001b[39m.\u001b[39mgen)\n\u001b[1;32m    114\u001b[0m \u001b[39mexcept\u001b[39;00m \u001b[39mStopIteration\u001b[39;00m:\n\u001b[1;32m    115\u001b[0m     \u001b[39mraise\u001b[39;00m \u001b[39mRuntimeError\u001b[39;00m(\u001b[39m\"\u001b[39m\u001b[39mgenerator didn\u001b[39m\u001b[39m'\u001b[39m\u001b[39mt yield\u001b[39m\u001b[39m\"\u001b[39m) \u001b[39mfrom\u001b[39;00m \u001b[39mNone\u001b[39;00m\n",
      "\u001b[0;31mTypeError\u001b[0m: Cannot convert 0.0 to EagerTensor of dtype int64"
     ]
    }
   ],
   "source": [
    "tr.train(CFG, strategy)"
   ]
  },
  {
   "cell_type": "code",
   "execution_count": null,
   "metadata": {},
   "outputs": [],
   "source": [
    "    "
   ]
  }
 ],
 "metadata": {
  "kernelspec": {
   "display_name": "ds",
   "language": "python",
   "name": "python3"
  },
  "language_info": {
   "codemirror_mode": {
    "name": "ipython",
    "version": 3
   },
   "file_extension": ".py",
   "mimetype": "text/x-python",
   "name": "python",
   "nbconvert_exporter": "python",
   "pygments_lexer": "ipython3",
   "version": "3.11.5"
  }
 },
 "nbformat": 4,
 "nbformat_minor": 2
}
