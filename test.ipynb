{
 "cells": [
  {
   "cell_type": "code",
   "execution_count": 1,
   "metadata": {},
   "outputs": [],
   "source": [
    "import pandas as pd\n",
    "# from src.data_processing import preprocessing\n",
    "from pathlib import Path\n",
    "# import src.training.train as tr\n",
    "# import src.training.utils as ut\n",
    "# import src.training.dataset as ds\n",
    "import numpy as np\n",
    "\n",
    "# from config import CFG"
   ]
  },
  {
   "cell_type": "code",
   "execution_count": 3,
   "metadata": {},
   "outputs": [
    {
     "data": {
      "text/plain": [
       "467"
      ]
     },
     "execution_count": 3,
     "metadata": {},
     "output_type": "execute_result"
    }
   ],
   "source": [
    "df = pd.read_csv(Path.cwd() / 'data' / 'train.csv')\n",
    "df['class_id'].nunique()"
   ]
  },
  {
   "cell_type": "code",
   "execution_count": 9,
   "metadata": {},
   "outputs": [
    {
     "data": {
      "text/plain": [
       "array([0, 0, 0, 0, 0, 0, 0, 0, 0, 0, 0, 0, 0, 0, 0, 0, 0, 0, 0, 0, 0, 0,\n",
       "       0, 0, 0, 0, 0, 0, 0, 0, 0, 0, 0, 0, 0, 0, 0, 0, 0, 0, 0, 0, 0, 0,\n",
       "       0, 0, 0, 0, 0, 0, 0, 0, 0, 0, 0, 0, 0, 0, 0, 0, 0, 0, 0, 0, 0, 0,\n",
       "       0, 0, 0, 0, 0, 0, 0, 0, 0, 0, 0, 0, 0, 0, 0, 0, 0, 0, 0, 0, 0, 0,\n",
       "       0, 0, 0, 0, 0, 0, 0, 0, 0, 0, 0, 0, 0, 0, 0, 0, 0, 0, 0, 0, 0, 0,\n",
       "       0, 0, 0, 0, 0, 0, 0, 0, 0, 0, 0, 0, 0, 0, 0, 0, 0, 0, 0, 0, 0, 0,\n",
       "       0, 0, 0, 0, 0, 0, 0, 0, 0, 0, 0, 0, 0, 0, 0, 0, 0, 0, 0, 0, 0, 0,\n",
       "       0, 0, 0, 0, 0, 0, 0, 0, 0, 0, 0, 0, 0, 0, 0, 0, 0, 0, 0, 0, 0, 0,\n",
       "       0, 0, 0, 0, 0, 0, 0, 0, 0, 0, 0, 0, 0, 0, 0, 0, 0, 0, 0, 0, 0, 0,\n",
       "       0, 0, 0, 0, 0, 0, 0, 0, 0, 0, 0, 0, 0, 0, 0, 0, 0, 0, 0, 0, 0, 0,\n",
       "       0, 0, 0, 0, 0], dtype=int64)"
      ]
     },
     "execution_count": 9,
     "metadata": {},
     "output_type": "execute_result"
    }
   ],
   "source": [
    "df[df['class_id'] == 0.0]['class_id'].values"
   ]
  },
  {
   "cell_type": "code",
   "execution_count": 38,
   "metadata": {},
   "outputs": [],
   "source": [
    "df['family'].replace('mode', np.nan, inplace=True)\n",
    "df['order'].replace('mode', np.nan, inplace=True)\n",
    "df['latitude'].replace('median', np.nan, inplace=True)\n",
    "df['longitude'].replace('median', np.nan, inplace=True)"
   ]
  },
  {
   "cell_type": "code",
   "execution_count": 4,
   "metadata": {},
   "outputs": [],
   "source": [
    "f = lambda x: x.median() if np.issubdtype(x.dtype, np.number) else x.mode()\n",
    "df['longitude'] = df['longitude'].fillna(df.groupby('name')['longitude'].transform(f))\n",
    "df['latitude'] = df['latitude'].fillna(df.groupby('name')['latitude'].transform(f))\n"
   ]
  },
  {
   "cell_type": "code",
   "execution_count": null,
   "metadata": {},
   "outputs": [],
   "source": [
    "df.to_csv(Path.cwd() / 'data' / 'train.csv', index=False)"
   ]
  },
  {
   "cell_type": "code",
   "execution_count": 5,
   "metadata": {},
   "outputs": [],
   "source": [
    "dpath = Path.cwd() / 'data'/ 'tfrec'\n",
    "test = df.loc[0, 'gcs_path']"
   ]
  },
  {
   "cell_type": "code",
   "execution_count": 3,
   "metadata": {},
   "outputs": [
    {
     "name": "stdout",
     "output_type": "stream",
     "text": [
      "INFO:tensorflow:Deallocate tpu buffers before initializing tpu system.\n",
      "INFO:tensorflow:Initializing the TPU system: local\n"
     ]
    },
    {
     "name": "stderr",
     "output_type": "stream",
     "text": [
      "2023-09-24 11:09:30.233163: I tensorflow/compiler/xla/service/service.cc:169] XLA service 0x812b0f0 initialized for platform TPU (this does not guarantee that XLA will be used). Devices:\n",
      "2023-09-24 11:09:30.233205: I tensorflow/compiler/xla/service/service.cc:177]   StreamExecutor device (0): TPU, 2a886c8\n",
      "2023-09-24 11:09:30.233218: I tensorflow/compiler/xla/service/service.cc:177]   StreamExecutor device (1): TPU, 2a886c8\n",
      "2023-09-24 11:09:30.233229: I tensorflow/compiler/xla/service/service.cc:177]   StreamExecutor device (2): TPU, 2a886c8\n",
      "2023-09-24 11:09:30.233240: I tensorflow/compiler/xla/service/service.cc:177]   StreamExecutor device (3): TPU, 2a886c8\n",
      "2023-09-24 11:09:30.233251: I tensorflow/compiler/xla/service/service.cc:177]   StreamExecutor device (4): TPU, 2a886c8\n",
      "2023-09-24 11:09:30.233262: I tensorflow/compiler/xla/service/service.cc:177]   StreamExecutor device (5): TPU, 2a886c8\n",
      "2023-09-24 11:09:30.233273: I tensorflow/compiler/xla/service/service.cc:177]   StreamExecutor device (6): TPU, 2a886c8\n",
      "2023-09-24 11:09:30.233283: I tensorflow/compiler/xla/service/service.cc:177]   StreamExecutor device (7): TPU, 2a886c8\n"
     ]
    },
    {
     "name": "stdout",
     "output_type": "stream",
     "text": [
      "INFO:tensorflow:Finished initializing TPU system.\n",
      "INFO:tensorflow:Found TPU system:\n",
      "INFO:tensorflow:*** Num TPU Cores: 8\n",
      "INFO:tensorflow:*** Num TPU Workers: 1\n",
      "INFO:tensorflow:*** Num TPU Cores Per Worker: 8\n",
      "INFO:tensorflow:*** Available Device: _DeviceAttributes(/job:localhost/replica:0/task:0/device:CPU:0, CPU, 0, 0)\n",
      "INFO:tensorflow:*** Available Device: _DeviceAttributes(/job:localhost/replica:0/task:0/device:TPU:0, TPU, 0, 0)\n",
      "INFO:tensorflow:*** Available Device: _DeviceAttributes(/job:localhost/replica:0/task:0/device:TPU:1, TPU, 0, 0)\n",
      "INFO:tensorflow:*** Available Device: _DeviceAttributes(/job:localhost/replica:0/task:0/device:TPU:2, TPU, 0, 0)\n",
      "INFO:tensorflow:*** Available Device: _DeviceAttributes(/job:localhost/replica:0/task:0/device:TPU:3, TPU, 0, 0)\n",
      "INFO:tensorflow:*** Available Device: _DeviceAttributes(/job:localhost/replica:0/task:0/device:TPU:4, TPU, 0, 0)\n",
      "INFO:tensorflow:*** Available Device: _DeviceAttributes(/job:localhost/replica:0/task:0/device:TPU:5, TPU, 0, 0)\n",
      "INFO:tensorflow:Found TPU system:\n",
      "INFO:tensorflow:*** Num TPU Cores: 8\n",
      "INFO:tensorflow:*** Num TPU Workers: 1\n",
      "INFO:tensorflow:*** Num TPU Cores Per Worker: 8\n",
      "INFO:tensorflow:*** Available Device: _DeviceAttributes(/job:localhost/replica:0/task:0/device:CPU:0, CPU, 0, 0)\n",
      "INFO:tensorflow:*** Available Device: _DeviceAttributes(/job:localhost/replica:0/task:0/device:TPU:0, TPU, 0, 0)\n",
      "INFO:tensorflow:*** Available Device: _DeviceAttributes(/job:localhost/replica:0/task:0/device:TPU:1, TPU, 0, 0)\n",
      "INFO:tensorflow:*** Available Device: _DeviceAttributes(/job:localhost/replica:0/task:0/device:TPU:2, TPU, 0, 0)\n",
      "INFO:tensorflow:*** Available Device: _DeviceAttributes(/job:localhost/replica:0/task:0/device:TPU:3, TPU, 0, 0)\n",
      "INFO:tensorflow:*** Available Device: _DeviceAttributes(/job:localhost/replica:0/task:0/device:TPU:4, TPU, 0, 0)\n",
      "INFO:tensorflow:*** Available Device: _DeviceAttributes(/job:localhost/replica:0/task:0/device:TPU:5, TPU, 0, 0)\n",
      "INFO:tensorflow:*** Available Device: _DeviceAttributes(/job:localhost/replica:0/task:0/device:TPU:6, TPU, 0, 0)\n",
      "INFO:tensorflow:*** Available Device: _DeviceAttributes(/job:localhost/replica:0/task:0/device:TPU:7, TPU, 0, 0)\n",
      "INFO:tensorflow:*** Available Device: _DeviceAttributes(/job:localhost/replica:0/task:0/device:TPU_SYSTEM:0, TPU_SYSTEM, 0, 0)\n"
     ]
    }
   ],
   "source": [
    "import tensorflow as tf\n",
    "\n",
    "cluster_resolver = tf.distribute.cluster_resolver.TPUClusterResolver('local')\n",
    "tf.config.experimental_connect_to_cluster(cluster_resolver)\n",
    "tf.tpu.experimental.initialize_tpu_system(cluster_resolver)\n",
    "strategy = tf.distribute.TPUStrategy(cluster_resolver)"
   ]
  },
  {
   "cell_type": "code",
   "execution_count": 2,
   "metadata": {},
   "outputs": [
    {
     "name": "stderr",
     "output_type": "stream",
     "text": [
      "\u001b[32m2023-09-24 11:17:33.547\u001b[0m | \u001b[1mINFO    \u001b[0m | \u001b[36msrc.training.utils\u001b[0m:\u001b[36mtpu_test\u001b[0m:\u001b[36m14\u001b[0m - \u001b[1mconnecting to TPU...\u001b[0m\n",
      "\u001b[32m2023-09-24 11:17:33.549\u001b[0m | \u001b[1mINFO    \u001b[0m | \u001b[36msrc.training.utils\u001b[0m:\u001b[36mtpu_test\u001b[0m:\u001b[36m17\u001b[0m - \u001b[1mRunning on TPU \u001b[0m\n",
      "\u001b[32m2023-09-24 11:17:33.549\u001b[0m | \u001b[1mINFO    \u001b[0m | \u001b[36msrc.training.utils\u001b[0m:\u001b[36mtpu_test\u001b[0m:\u001b[36m24\u001b[0m - \u001b[1minitializing  TPU ...\u001b[0m\n"
     ]
    },
    {
     "name": "stdout",
     "output_type": "stream",
     "text": [
      "INFO:tensorflow:Deallocate tpu buffers before initializing tpu system.\n"
     ]
    },
    {
     "name": "stdout",
     "output_type": "stream",
     "text": [
      "INFO:tensorflow:Initializing the TPU system: local\n"
     ]
    },
    {
     "name": "stderr",
     "output_type": "stream",
     "text": [
      "2023-09-24 11:17:48.346863: I tensorflow/compiler/xla/service/service.cc:169] XLA service 0x6c539c0 initialized for platform TPU (this does not guarantee that XLA will be used). Devices:\n",
      "2023-09-24 11:17:48.346904: I tensorflow/compiler/xla/service/service.cc:177]   StreamExecutor device (0): TPU, 2a886c8\n",
      "2023-09-24 11:17:48.346917: I tensorflow/compiler/xla/service/service.cc:177]   StreamExecutor device (1): TPU, 2a886c8\n",
      "2023-09-24 11:17:48.346928: I tensorflow/compiler/xla/service/service.cc:177]   StreamExecutor device (2): TPU, 2a886c8\n",
      "2023-09-24 11:17:48.346939: I tensorflow/compiler/xla/service/service.cc:177]   StreamExecutor device (3): TPU, 2a886c8\n",
      "2023-09-24 11:17:48.346950: I tensorflow/compiler/xla/service/service.cc:177]   StreamExecutor device (4): TPU, 2a886c8\n",
      "2023-09-24 11:17:48.346960: I tensorflow/compiler/xla/service/service.cc:177]   StreamExecutor device (5): TPU, 2a886c8\n",
      "2023-09-24 11:17:48.346971: I tensorflow/compiler/xla/service/service.cc:177]   StreamExecutor device (6): TPU, 2a886c8\n",
      "2023-09-24 11:17:48.346982: I tensorflow/compiler/xla/service/service.cc:177]   StreamExecutor device (7): TPU, 2a886c8\n"
     ]
    },
    {
     "name": "stdout",
     "output_type": "stream",
     "text": [
      "INFO:tensorflow:Finished initializing TPU system.\n"
     ]
    },
    {
     "name": "stderr",
     "output_type": "stream",
     "text": [
      "WARNING:absl:`tf.distribute.experimental.TPUStrategy` is deprecated, please use  the non experimental symbol `tf.distribute.TPUStrategy` instead.\n"
     ]
    },
    {
     "name": "stdout",
     "output_type": "stream",
     "text": [
      "INFO:tensorflow:Found TPU system:\n"
     ]
    },
    {
     "name": "stderr",
     "output_type": "stream",
     "text": [
      "INFO:tensorflow:Found TPU system:\n"
     ]
    },
    {
     "name": "stdout",
     "output_type": "stream",
     "text": [
      "INFO:tensorflow:*** Num TPU Cores: 8\n"
     ]
    },
    {
     "name": "stderr",
     "output_type": "stream",
     "text": [
      "INFO:tensorflow:*** Num TPU Cores: 8\n"
     ]
    },
    {
     "name": "stdout",
     "output_type": "stream",
     "text": [
      "INFO:tensorflow:*** Num TPU Workers: 1\n"
     ]
    },
    {
     "name": "stderr",
     "output_type": "stream",
     "text": [
      "INFO:tensorflow:*** Num TPU Workers: 1\n"
     ]
    },
    {
     "name": "stdout",
     "output_type": "stream",
     "text": [
      "INFO:tensorflow:*** Num TPU Cores Per Worker: 8\n"
     ]
    },
    {
     "name": "stderr",
     "output_type": "stream",
     "text": [
      "INFO:tensorflow:*** Num TPU Cores Per Worker: 8\n"
     ]
    },
    {
     "name": "stdout",
     "output_type": "stream",
     "text": [
      "INFO:tensorflow:*** Available Device: _DeviceAttributes(/job:localhost/replica:0/task:0/device:CPU:0, CPU, 0, 0)\n"
     ]
    },
    {
     "name": "stderr",
     "output_type": "stream",
     "text": [
      "INFO:tensorflow:*** Available Device: _DeviceAttributes(/job:localhost/replica:0/task:0/device:CPU:0, CPU, 0, 0)\n"
     ]
    },
    {
     "name": "stdout",
     "output_type": "stream",
     "text": [
      "INFO:tensorflow:*** Available Device: _DeviceAttributes(/job:localhost/replica:0/task:0/device:TPU:0, TPU, 0, 0)\n"
     ]
    },
    {
     "name": "stderr",
     "output_type": "stream",
     "text": [
      "INFO:tensorflow:*** Available Device: _DeviceAttributes(/job:localhost/replica:0/task:0/device:TPU:0, TPU, 0, 0)\n"
     ]
    },
    {
     "name": "stdout",
     "output_type": "stream",
     "text": [
      "INFO:tensorflow:*** Available Device: _DeviceAttributes(/job:localhost/replica:0/task:0/device:TPU:1, TPU, 0, 0)\n"
     ]
    },
    {
     "name": "stderr",
     "output_type": "stream",
     "text": [
      "INFO:tensorflow:*** Available Device: _DeviceAttributes(/job:localhost/replica:0/task:0/device:TPU:1, TPU, 0, 0)\n"
     ]
    },
    {
     "name": "stdout",
     "output_type": "stream",
     "text": [
      "INFO:tensorflow:*** Available Device: _DeviceAttributes(/job:localhost/replica:0/task:0/device:TPU:2, TPU, 0, 0)\n"
     ]
    },
    {
     "name": "stderr",
     "output_type": "stream",
     "text": [
      "INFO:tensorflow:*** Available Device: _DeviceAttributes(/job:localhost/replica:0/task:0/device:TPU:2, TPU, 0, 0)\n"
     ]
    },
    {
     "name": "stdout",
     "output_type": "stream",
     "text": [
      "INFO:tensorflow:*** Available Device: _DeviceAttributes(/job:localhost/replica:0/task:0/device:TPU:3, TPU, 0, 0)\n"
     ]
    },
    {
     "name": "stderr",
     "output_type": "stream",
     "text": [
      "INFO:tensorflow:*** Available Device: _DeviceAttributes(/job:localhost/replica:0/task:0/device:TPU:3, TPU, 0, 0)\n"
     ]
    },
    {
     "name": "stdout",
     "output_type": "stream",
     "text": [
      "INFO:tensorflow:*** Available Device: _DeviceAttributes(/job:localhost/replica:0/task:0/device:TPU:4, TPU, 0, 0)\n"
     ]
    },
    {
     "name": "stderr",
     "output_type": "stream",
     "text": [
      "INFO:tensorflow:*** Available Device: _DeviceAttributes(/job:localhost/replica:0/task:0/device:TPU:4, TPU, 0, 0)\n"
     ]
    },
    {
     "name": "stdout",
     "output_type": "stream",
     "text": [
      "INFO:tensorflow:*** Available Device: _DeviceAttributes(/job:localhost/replica:0/task:0/device:TPU:5, TPU, 0, 0)\n"
     ]
    },
    {
     "name": "stderr",
     "output_type": "stream",
     "text": [
      "INFO:tensorflow:*** Available Device: _DeviceAttributes(/job:localhost/replica:0/task:0/device:TPU:5, TPU, 0, 0)\n"
     ]
    },
    {
     "name": "stdout",
     "output_type": "stream",
     "text": [
      "INFO:tensorflow:*** Available Device: _DeviceAttributes(/job:localhost/replica:0/task:0/device:TPU:6, TPU, 0, 0)\n"
     ]
    },
    {
     "name": "stderr",
     "output_type": "stream",
     "text": [
      "INFO:tensorflow:*** Available Device: _DeviceAttributes(/job:localhost/replica:0/task:0/device:TPU:6, TPU, 0, 0)\n"
     ]
    },
    {
     "name": "stdout",
     "output_type": "stream",
     "text": [
      "INFO:tensorflow:*** Available Device: _DeviceAttributes(/job:localhost/replica:0/task:0/device:TPU:7, TPU, 0, 0)\n"
     ]
    },
    {
     "name": "stderr",
     "output_type": "stream",
     "text": [
      "INFO:tensorflow:*** Available Device: _DeviceAttributes(/job:localhost/replica:0/task:0/device:TPU:7, TPU, 0, 0)\n"
     ]
    },
    {
     "name": "stdout",
     "output_type": "stream",
     "text": [
      "INFO:tensorflow:*** Available Device: _DeviceAttributes(/job:localhost/replica:0/task:0/device:TPU_SYSTEM:0, TPU_SYSTEM, 0, 0)\n"
     ]
    },
    {
     "name": "stderr",
     "output_type": "stream",
     "text": [
      "INFO:tensorflow:*** Available Device: _DeviceAttributes(/job:localhost/replica:0/task:0/device:TPU_SYSTEM:0, TPU_SYSTEM, 0, 0)\n",
      "\u001b[32m2023-09-24 11:18:41.369\u001b[0m | \u001b[1mINFO    \u001b[0m | \u001b[36msrc.training.utils\u001b[0m:\u001b[36mtpu_test\u001b[0m:\u001b[36m28\u001b[0m - \u001b[1mTPU initialized\u001b[0m\n"
     ]
    },
    {
     "data": {
      "text/plain": [
       "<_PrefetchDataset element_spec=(TensorSpec(shape=(None, 256, 256, 3), dtype=tf.float32, name=None), TensorSpec(shape=(None,), dtype=tf.float32, name=None))>"
      ]
     },
     "execution_count": 2,
     "metadata": {},
     "output_type": "execute_result"
    }
   ],
   "source": [
    "import src.training.utils as ut\n",
    "strategy, tpu = ut.tpu_test(CFG)\n",
    "ds.get_dataset('gs://mush-img-repo/tfrec/train00-905.tfrec', CFG, strategy)"
   ]
  },
  {
   "cell_type": "code",
   "execution_count": 3,
   "metadata": {},
   "outputs": [
    {
     "name": "stderr",
     "output_type": "stream",
     "text": [
      "\u001b[32m2023-09-24 11:21:11.112\u001b[0m | \u001b[1mINFO    \u001b[0m | \u001b[36msrc.training.train\u001b[0m:\u001b[36mtrain\u001b[0m:\u001b[36m108\u001b[0m - \u001b[1m# Image Size 224 with Model https://tfhub.dev/sayakpaul/swin_tiny_patch4_window7_224_fe/1 and batch_sz 256\u001b[0m\n"
     ]
    },
    {
     "name": "stdout",
     "output_type": "stream",
     "text": [
      "#########################\n",
      "#### FOLD 1\n",
      "#### Image Size 224 with https://tfhub.dev/sayakpaul/swin_tiny_patch4_window7_224_fe/1 and batch_size 256\n",
      "#########################\n"
     ]
    },
    {
     "name": "stderr",
     "output_type": "stream",
     "text": [
      "2023-09-24 11:22:02.246682: I tensorflow/compiler/mlir/tensorflow/utils/dump_mlir_util.cc:269] disabling MLIR crash reproducer, set env var `MLIR_CRASH_REPRODUCER_DIRECTORY` to enable.\n",
      "2023-09-24 11:22:02.278385: I ./tensorflow/compiler/jit/device_compiler.h:180] Compiled cluster using XLA!  This line is logged at most once for the lifetime of the process.\n",
      "\u001b[32m2023-09-24 11:22:03.263\u001b[0m | \u001b[1mINFO    \u001b[0m | \u001b[36msrc.training.train\u001b[0m:\u001b[36mget_history\u001b[0m:\u001b[36m76\u001b[0m - \u001b[1mTraining...\u001b[0m\n",
      "2023-09-24 11:22:03.640705: I tensorflow/core/common_runtime/executor.cc:1197] [/device:CPU:0] (DEBUG INFO) Executor start aborting (this does not indicate an error and you can ignore this message): INVALID_ARGUMENT: You must feed a value for placeholder tensor 'Placeholder/_0' with dtype string and shape [85]\n",
      "\t [[{{node Placeholder/_0}}]]\n",
      "2023-09-24 11:22:03.641815: I tensorflow/core/common_runtime/executor.cc:1197] [/device:CPU:0] (DEBUG INFO) Executor start aborting (this does not indicate an error and you can ignore this message): INVALID_ARGUMENT: You must feed a value for placeholder tensor 'Placeholder/_0' with dtype string and shape [85]\n",
      "\t [[{{node Placeholder/_0}}]]\n"
     ]
    },
    {
     "ename": "TypeError",
     "evalue": "Cannot convert 0.0 to EagerTensor of dtype int64",
     "output_type": "error",
     "traceback": [
      "\u001b[0;31m---------------------------------------------------------------------------\u001b[0m",
      "\u001b[0;31mTypeError\u001b[0m                                 Traceback (most recent call last)",
      "\u001b[1;32m/home/broug/Mushroom-Classifier/test.ipynb Cell 8\u001b[0m line \u001b[0;36m1\n\u001b[0;32m----> <a href='vscode-notebook-cell://ssh-remote%2Bnode.us-central1-b.mush-classifier/home/broug/Mushroom-Classifier/test.ipynb#X15sdnNjb2RlLXJlbW90ZQ%3D%3D?line=0'>1</a>\u001b[0m tr\u001b[39m.\u001b[39;49mtrain(CFG, strategy)\n",
      "File \u001b[0;32m~/Mushroom-Classifier/src/training/train.py:125\u001b[0m, in \u001b[0;36mtrain\u001b[0;34m(CFG, strategy)\u001b[0m\n\u001b[1;32m    122\u001b[0m     model \u001b[39m=\u001b[39m build_model(CFG\u001b[39m.\u001b[39mMODELS, CFG\u001b[39m.\u001b[39mNUM_CLASSES, dim\u001b[39m=\u001b[39mCFG\u001b[39m.\u001b[39mIMG_SIZES)\n\u001b[1;32m    124\u001b[0m \u001b[39m# TRAIN\u001b[39;00m\n\u001b[0;32m--> 125\u001b[0m history \u001b[39m=\u001b[39m get_history(model, fold, files_train, files_valid, CFG)\n\u001b[1;32m    127\u001b[0m logger\u001b[39m.\u001b[39minfo(\u001b[39m\"\u001b[39m\u001b[39mLoading best model...\u001b[39m\u001b[39m\"\u001b[39m)\n\u001b[1;32m    128\u001b[0m model\u001b[39m.\u001b[39mload_weights(\u001b[39mf\u001b[39m\u001b[39m'\u001b[39m\u001b[39mfold-\u001b[39m\u001b[39m{\u001b[39;00mfold\u001b[39m}\u001b[39;00m\u001b[39m.h5\u001b[39m\u001b[39m'\u001b[39m \u001b[39m%\u001b[39m fold)\n",
      "File \u001b[0;32m~/Mushroom-Classifier/src/training/train.py:77\u001b[0m, in \u001b[0;36mget_history\u001b[0;34m(model, fold, files_train, files_valid, CFG)\u001b[0m\n\u001b[1;32m     75\u001b[0m \u001b[39mdef\u001b[39;00m \u001b[39mget_history\u001b[39m(model, fold, files_train, files_valid, CFG):\n\u001b[1;32m     76\u001b[0m     logger\u001b[39m.\u001b[39minfo(\u001b[39m\"\u001b[39m\u001b[39mTraining...\u001b[39m\u001b[39m\"\u001b[39m)\n\u001b[0;32m---> 77\u001b[0m     history \u001b[39m=\u001b[39m model\u001b[39m.\u001b[39;49mfit(\n\u001b[1;32m     78\u001b[0m         get_dataset(\n\u001b[1;32m     79\u001b[0m             files_train, CFG, augment\u001b[39m=\u001b[39;49m\u001b[39mTrue\u001b[39;49;00m, shuffle\u001b[39m=\u001b[39;49m\u001b[39mTrue\u001b[39;49;00m, repeat\u001b[39m=\u001b[39;49m\u001b[39mTrue\u001b[39;49;00m, dim\u001b[39m=\u001b[39;49mCFG\u001b[39m.\u001b[39;49mIMG_SIZES, batch_size\u001b[39m=\u001b[39;49mCFG\u001b[39m.\u001b[39;49mBATCH_SIZES\n\u001b[1;32m     80\u001b[0m         ),\n\u001b[1;32m     81\u001b[0m         epochs\u001b[39m=\u001b[39;49mCFG\u001b[39m.\u001b[39;49mEPOCHS,\n\u001b[1;32m     82\u001b[0m         callbacks\u001b[39m=\u001b[39;49m[sv(fold), get_lr_callback(CFG\u001b[39m.\u001b[39;49mBATCH_SIZES)],\n\u001b[1;32m     83\u001b[0m         steps_per_epoch\u001b[39m=\u001b[39;49mcount_data_items(files_train) \u001b[39m/\u001b[39;49m CFG\u001b[39m.\u001b[39;49mBATCH_SIZES \u001b[39m/\u001b[39;49m\u001b[39m/\u001b[39;49m CFG\u001b[39m.\u001b[39;49mREPLICAS,\n\u001b[1;32m     84\u001b[0m         validation_data\u001b[39m=\u001b[39;49mget_dataset(\n\u001b[1;32m     85\u001b[0m             files_valid, CFG, augment\u001b[39m=\u001b[39;49m\u001b[39mFalse\u001b[39;49;00m, shuffle\u001b[39m=\u001b[39;49m\u001b[39mFalse\u001b[39;49;00m, repeat\u001b[39m=\u001b[39;49m\u001b[39mFalse\u001b[39;49;00m, dim\u001b[39m=\u001b[39;49mCFG\u001b[39m.\u001b[39;49mIMG_SIZES\n\u001b[1;32m     86\u001b[0m         ),  \u001b[39m# class_weight = {0:1,1:2},\u001b[39;49;00m\n\u001b[1;32m     87\u001b[0m         verbose\u001b[39m=\u001b[39;49mCFG\u001b[39m.\u001b[39;49mVERBOSE,\n\u001b[1;32m     88\u001b[0m     )\n\u001b[1;32m     89\u001b[0m     \u001b[39mreturn\u001b[39;00m history\u001b[39m.\u001b[39mhistory\n",
      "File \u001b[0;32m/usr/local/lib/python3.8/dist-packages/keras/utils/traceback_utils.py:70\u001b[0m, in \u001b[0;36mfilter_traceback.<locals>.error_handler\u001b[0;34m(*args, **kwargs)\u001b[0m\n\u001b[1;32m     67\u001b[0m     filtered_tb \u001b[39m=\u001b[39m _process_traceback_frames(e\u001b[39m.\u001b[39m__traceback__)\n\u001b[1;32m     68\u001b[0m     \u001b[39m# To get the full stack trace, call:\u001b[39;00m\n\u001b[1;32m     69\u001b[0m     \u001b[39m# `tf.debugging.disable_traceback_filtering()`\u001b[39;00m\n\u001b[0;32m---> 70\u001b[0m     \u001b[39mraise\u001b[39;00m e\u001b[39m.\u001b[39mwith_traceback(filtered_tb) \u001b[39mfrom\u001b[39;00m \u001b[39mNone\u001b[39;00m\n\u001b[1;32m     71\u001b[0m \u001b[39mfinally\u001b[39;00m:\n\u001b[1;32m     72\u001b[0m     \u001b[39mdel\u001b[39;00m filtered_tb\n",
      "File \u001b[0;32m/usr/lib/python3.8/contextlib.py:113\u001b[0m, in \u001b[0;36m_GeneratorContextManager.__enter__\u001b[0;34m(self)\u001b[0m\n\u001b[1;32m    111\u001b[0m \u001b[39mdel\u001b[39;00m \u001b[39mself\u001b[39m\u001b[39m.\u001b[39margs, \u001b[39mself\u001b[39m\u001b[39m.\u001b[39mkwds, \u001b[39mself\u001b[39m\u001b[39m.\u001b[39mfunc\n\u001b[1;32m    112\u001b[0m \u001b[39mtry\u001b[39;00m:\n\u001b[0;32m--> 113\u001b[0m     \u001b[39mreturn\u001b[39;00m \u001b[39mnext\u001b[39m(\u001b[39mself\u001b[39m\u001b[39m.\u001b[39mgen)\n\u001b[1;32m    114\u001b[0m \u001b[39mexcept\u001b[39;00m \u001b[39mStopIteration\u001b[39;00m:\n\u001b[1;32m    115\u001b[0m     \u001b[39mraise\u001b[39;00m \u001b[39mRuntimeError\u001b[39;00m(\u001b[39m\"\u001b[39m\u001b[39mgenerator didn\u001b[39m\u001b[39m'\u001b[39m\u001b[39mt yield\u001b[39m\u001b[39m\"\u001b[39m) \u001b[39mfrom\u001b[39;00m \u001b[39mNone\u001b[39;00m\n",
      "\u001b[0;31mTypeError\u001b[0m: Cannot convert 0.0 to EagerTensor of dtype int64"
     ]
    }
   ],
   "source": [
    "tr.train(CFG, strategy)"
   ]
  },
  {
   "cell_type": "code",
   "execution_count": null,
   "metadata": {},
   "outputs": [],
   "source": [
    "    "
   ]
  }
 ],
 "metadata": {
  "kernelspec": {
   "display_name": "ds",
   "language": "python",
   "name": "python3"
  },
  "language_info": {
   "codemirror_mode": {
    "name": "ipython",
    "version": 3
   },
   "file_extension": ".py",
   "mimetype": "text/x-python",
   "name": "python",
   "nbconvert_exporter": "python",
   "pygments_lexer": "ipython3",
   "version": "3.11.4"
  }
 },
 "nbformat": 4,
 "nbformat_minor": 2
}
