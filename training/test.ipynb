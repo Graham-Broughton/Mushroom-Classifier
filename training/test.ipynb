{
 "cells": [
  {
   "cell_type": "code",
   "execution_count": 1,
   "metadata": {},
   "outputs": [
    {
     "name": "stderr",
     "output_type": "stream",
     "text": [
      "2023-10-28 09:29:51.579091: I tensorflow/compiler/xla/stream_executor/tpu/tpu_initializer_helper.cc:242] Libtpu path is: libtpu.so\n",
      "D1028 09:29:54.620323350   13219 config.cc:175]                        gRPC EXPERIMENT tcp_frame_size_tuning               OFF (default:OFF)\n",
      "D1028 09:29:54.620346394   13219 config.cc:175]                        gRPC EXPERIMENT tcp_rcv_lowat                       OFF (default:OFF)\n",
      "D1028 09:29:54.620351689   13219 config.cc:175]                        gRPC EXPERIMENT peer_state_based_framing            OFF (default:OFF)\n",
      "D1028 09:29:54.620356056   13219 config.cc:175]                        gRPC EXPERIMENT memory_pressure_controller          OFF (default:OFF)\n",
      "D1028 09:29:54.620360509   13219 config.cc:175]                        gRPC EXPERIMENT unconstrained_max_quota_buffer_size OFF (default:OFF)\n",
      "D1028 09:29:54.620364897   13219 config.cc:175]                        gRPC EXPERIMENT event_engine_client                 OFF (default:OFF)\n",
      "D1028 09:29:54.620369244   13219 config.cc:175]                        gRPC EXPERIMENT monitoring_experiment               ON  (default:ON)\n",
      "D1028 09:29:54.620373535   13219 config.cc:175]                        gRPC EXPERIMENT promise_based_client_call           OFF (default:OFF)\n",
      "D1028 09:29:54.620377583   13219 config.cc:175]                        gRPC EXPERIMENT free_large_allocator                OFF (default:OFF)\n",
      "D1028 09:29:54.620381566   13219 config.cc:175]                        gRPC EXPERIMENT promise_based_server_call           OFF (default:OFF)\n",
      "D1028 09:29:54.620385895   13219 config.cc:175]                        gRPC EXPERIMENT transport_supplies_client_latency   OFF (default:OFF)\n",
      "D1028 09:29:54.620389998   13219 config.cc:175]                        gRPC EXPERIMENT event_engine_listener               OFF (default:OFF)\n",
      "D1028 09:29:54.620394172   13219 config.cc:175]                        gRPC EXPERIMENT schedule_cancellation_over_write    OFF (default:OFF)\n",
      "D1028 09:29:54.620398284   13219 config.cc:175]                        gRPC EXPERIMENT trace_record_callops                OFF (default:OFF)\n",
      "D1028 09:29:54.620402478   13219 config.cc:175]                        gRPC EXPERIMENT event_engine_dns                    OFF (default:OFF)\n",
      "D1028 09:29:54.620406879   13219 config.cc:175]                        gRPC EXPERIMENT work_stealing                       OFF (default:OFF)\n",
      "D1028 09:29:54.620411205   13219 config.cc:175]                        gRPC EXPERIMENT client_privacy                      ON  (default:ON)\n",
      "D1028 09:29:54.620415266   13219 config.cc:175]                        gRPC EXPERIMENT canary_client_privacy               ON  (default:ON)\n",
      "D1028 09:29:54.620419439   13219 config.cc:175]                        gRPC EXPERIMENT server_privacy                      ON  (default:ON)\n",
      "D1028 09:29:54.620423532   13219 config.cc:175]                        gRPC EXPERIMENT unique_metadata_strings             OFF (default:OFF)\n",
      "D1028 09:29:54.620427658   13219 config.cc:175]                        gRPC EXPERIMENT keepalive_fix                       OFF (default:OFF)\n",
      "D1028 09:29:54.620431916   13219 config.cc:175]                        gRPC EXPERIMENT keepalive_server_fix                ON  (default:ON)\n",
      "D1028 09:29:54.620436147   13219 config.cc:175]                        gRPC EXPERIMENT promise_based_google_auth_filter    ON  (default:ON)\n",
      "D1028 09:29:54.620440411   13219 config.cc:175]                        gRPC EXPERIMENT promise_based_client_bwe_delegation OFF (default:OFF)\n",
      "D1028 09:29:54.620444527   13219 config.cc:175]                        gRPC EXPERIMENT promise_based_server_bwe_delegation OFF (default:OFF)\n",
      "D1028 09:29:54.620448661   13219 config.cc:175]                        gRPC EXPERIMENT oss_binary_logging                  OFF (default:OFF)\n",
      "D1028 09:29:54.620452762   13219 config.cc:175]                        gRPC EXPERIMENT loas_prefer_rekey_next_protocol     OFF (default:OFF)\n",
      "I1028 09:29:54.622087454   13219 ev_epoll1_linux.cc:123]               grpc epoll fd: 81\n",
      "D1028 09:29:54.622111456   13219 ev_posix.cc:113]                      Using polling engine: epoll1\n",
      "D1028 09:29:54.678574346   13219 lb_policy_registry.cc:47]             registering LB policy factory for \"priority_experimental\"\n",
      "D1028 09:29:54.678587337   13219 lb_policy_registry.cc:47]             registering LB policy factory for \"outlier_detection_experimental\"\n",
      "D1028 09:29:54.678597351   13219 lb_policy_registry.cc:47]             registering LB policy factory for \"weighted_target_experimental\"\n",
      "D1028 09:29:54.679177911   13219 lb_policy_registry.cc:47]             registering LB policy factory for \"pick_first\"\n",
      "D1028 09:29:54.679183812   13219 lb_policy_registry.cc:47]             registering LB policy factory for \"round_robin\"\n",
      "D1028 09:29:54.679209521   13219 lb_policy_registry.cc:47]             registering LB policy factory for \"weighted_round_robin\"\n",
      "D1028 09:29:54.680752841   13219 lb_policy_registry.cc:47]             registering LB policy factory for \"grpclb\"\n",
      "D1028 09:29:54.680772164   13219 dns_resolver_plugin.cc:44]            Using ares dns resolver\n",
      "D1028 09:29:54.681486855   13219 lb_policy_registry.cc:47]             registering LB policy factory for \"rls_experimental\"\n",
      "D1028 09:29:54.683051824   13219 lb_policy_registry.cc:47]             registering LB policy factory for \"xds_cluster_manager_experimental\"\n",
      "D1028 09:29:54.683058040   13219 lb_policy_registry.cc:47]             registering LB policy factory for \"xds_cluster_impl_experimental\"\n",
      "D1028 09:29:54.683063263   13219 lb_policy_registry.cc:47]             registering LB policy factory for \"cds_experimental\"\n",
      "D1028 09:29:54.683068508   13219 lb_policy_registry.cc:47]             registering LB policy factory for \"xds_cluster_resolver_experimental\"\n",
      "D1028 09:29:54.683073620   13219 lb_policy_registry.cc:47]             registering LB policy factory for \"xds_override_host_experimental\"\n",
      "D1028 09:29:54.683078634   13219 lb_policy_registry.cc:47]             registering LB policy factory for \"xds_wrr_locality_experimental\"\n",
      "D1028 09:29:54.683084182   13219 lb_policy_registry.cc:47]             registering LB policy factory for \"ring_hash_experimental\"\n",
      "D1028 09:29:54.683089511   13219 certificate_provider_registry.cc:33]  registering certificate provider factory for \"file_watcher\"\n",
      "I1028 09:29:54.683948399   13219 ev_epoll1_linux.cc:360]               grpc epoll fd: 83\n",
      "I1028 09:29:54.716791850   13219 socket_utils_common_posix.cc:366]     TCP_USER_TIMEOUT is available. TCP_USER_TIMEOUT will be used thereafter\n",
      "2023-10-28 09:29:55.191789: I tensorflow/core/platform/cpu_feature_guard.cc:182] This TensorFlow binary is optimized to use available CPU instructions in performance-critical operations.\n",
      "To enable the following instructions: AVX2 AVX512F FMA, in other operations, rebuild TensorFlow with the appropriate compiler flags.\n"
     ]
    }
   ],
   "source": [
    "import os, pickle\n",
    "import tensorflow as tf\n",
    "import tensorflow.keras.backend as K\n",
    "from datetime import datetime\n",
    "import numpy as np\n",
    "from sklearn.model_selection import KFold\n",
    "import src.training as tr_fn\n",
    "from loguru import logger\n",
    "import wandb\n",
    "from config import CFG, GCFG\n",
    "\n",
    "AUTO = tf.data.experimental.AUTOTUNE\n",
    "CFG2 = GCFG()\n",
    "class_dict = pickle.load(open('src/class_dict.pkl', 'rb'))"
   ]
  },
  {
   "cell_type": "code",
   "execution_count": 2,
   "metadata": {},
   "outputs": [],
   "source": [
    "def decode_image(image_data, CFG):\n",
    "    image = tf.image.decode_jpeg(image_data, channels=3)  # image format uint8 [0,255]\n",
    "    image = tf.cast(image, tf.float32) / 255.0\n",
    "    image = tf.reshape(image, [*CFG.IMAGE_SIZE, 3]) # explicit size needed for TPU\n",
    "    return image\n",
    "\n",
    "def read_labeled_tfrecord(example):\n",
    "    feature_description = {\n",
    "        'image': tf.io.FixedLenFeature([], tf.string),\n",
    "        'dataset': tf.io.FixedLenFeature([], tf.int64),\n",
    "        'longitude': tf.io.FixedLenFeature([], tf.float32),\n",
    "        'latitude': tf.io.FixedLenFeature([], tf.float32),\n",
    "        'norm_date': tf.io.FixedLenFeature([], tf.float32),\n",
    "        'class_priors': tf.io.FixedLenFeature([], tf.float32),\n",
    "        'class_id': tf.io.FixedLenFeature([], tf.int64),\n",
    "    }\n",
    "    example = tf.io.parse_single_example(example, feature_description)\n",
    "    # image = decode_image(example['image'], CFG)\n",
    "    label = tf.cast(example['class_id'], tf.int32)\n",
    "    return example['image'], label\n",
    "\n",
    "def get_mat(rotation, shear, height_zoom, width_zoom, height_shift, width_shift):\n",
    "    # returns 3x3 transform matrix which transforms indices\n",
    "\n",
    "    # CONVERT DEGREES TO RADIANS\n",
    "    rotation = math.pi * rotation / 180.0\n",
    "    shear = math.pi * shear / 180.0\n",
    "\n",
    "    def get_3x3_mat(lst):\n",
    "        return tf.reshape(tf.concat([lst], axis=0), [3, 3])\n",
    "\n",
    "    # ROTATION MATRIX\n",
    "    c1 = tf.math.cos(rotation)\n",
    "    s1 = tf.math.sin(rotation)\n",
    "    one = tf.constant([1], dtype='float32')\n",
    "    zero = tf.constant([0], dtype='float32')\n",
    "\n",
    "    rotation_matrix = get_3x3_mat([c1, s1, zero, -s1, c1, zero, zero, zero, one])\n",
    "    # SHEAR MATRIX\n",
    "    c2 = tf.math.cos(shear)\n",
    "    s2 = tf.math.sin(shear)\n",
    "\n",
    "    shear_matrix = get_3x3_mat([one, s2, zero, zero, c2, zero, zero, zero, one])\n",
    "    # ZOOM MATRIX\n",
    "    zoom_matrix = get_3x3_mat([one / height_zoom, zero, zero, zero, one / width_zoom, zero, zero, zero, one])\n",
    "    # SHIFT MATRIX\n",
    "    shift_matrix = get_3x3_mat([one, zero, height_shift, zero, one, width_shift, zero, zero, one])\n",
    "\n",
    "    return K.dot(K.dot(rotation_matrix, shear_matrix), K.dot(zoom_matrix, shift_matrix))\n",
    "\n",
    "\n",
    "def transform(image, CFG):\n",
    "    # input image - is one image of size [dim,dim,3] not a batch of [b,dim,dim,3]\n",
    "    # output - image randomly rotated, sheared, zoomed, and shifted\n",
    "    DIM = CFG.IMAGE_SIZE[0]\n",
    "    XDIM = DIM % 2  # fix for size 331   \n",
    "\n",
    "    rot = CFG.ROT_ * tf.random.normal([1], dtype='float32')\n",
    "    shr = CFG.SHR_ * tf.random.normal([1], dtype='float32')\n",
    "    h_zoom = 1.0 + tf.random.normal([1], dtype='float32') / CFG.HZOOM_\n",
    "    w_zoom = 1.0 + tf.random.normal([1], dtype='float32') / CFG.WZOOM_\n",
    "    h_shift = CFG.HSHIFT_ * tf.random.normal([1], dtype='float32')\n",
    "    w_shift = CFG.WSHIFT_ * tf.random.normal([1], dtype='float32')\n",
    "\n",
    "    # GET TRANSFORMATION MATRIX\n",
    "    m = get_mat(rot, shr, h_zoom, w_zoom, h_shift, w_shift)\n",
    "\n",
    "    # LIST DESTINATION PIXEL INDICES\n",
    "    x = tf.repeat(tf.range(DIM // 2, -DIM // 2, -1), DIM)\n",
    "    y = tf.tile(tf.range(-DIM // 2, DIM // 2), [DIM])\n",
    "    z = tf.ones([DIM * DIM], dtype='int32')\n",
    "    idx = tf.stack([x, y, z])\n",
    "\n",
    "    # ROTATE DESTINATION PIXELS ONTO ORIGIN PIXELS\n",
    "    idx2 = K.dot(m, tf.cast(idx, dtype='float32'))\n",
    "    idx2 = K.cast(idx2, dtype='int32')\n",
    "    idx2 = K.clip(idx2, -DIM // 2 + XDIM + 1, DIM // 2)\n",
    "\n",
    "    # FIND ORIGIN PIXEL VALUES\n",
    "    idx3 = tf.stack([DIM // 2 - idx2[0,], DIM // 2 - 1 + idx2[1,]])\n",
    "    d = tf.gather_nd(image, tf.transpose(idx3))\n",
    "\n",
    "    return tf.reshape(d, [DIM, DIM, 3])\n",
    "\n",
    "\n",
    "def prepare_image(img, CFG, augment=True, dim=256):\n",
    "    img = tf.image.decode_jpeg(img, channels=3)\n",
    "    img = tf.cast(img, tf.float32) / 255.0\n",
    "    img = tf.reshape(img, [*CFG.IMAGE_SIZE, 3])\n",
    "\n",
    "    if augment:\n",
    "        img = transform(img, CFG)\n",
    "        img = tf.image.random_flip_left_right(img)\n",
    "        # img = tf.image.random_hue(img, 0.01)\n",
    "        img = tf.image.random_saturation(img, 0.7, 1.3)\n",
    "        img = tf.image.random_contrast(img, 0.8, 1.2)\n",
    "        img = tf.image.random_brightness(img, 0.1)\n",
    "\n",
    "    img = tf.reshape(img, [CFG.IMAGE_SIZE[0], CFG.IMAGE_SIZE[0], 3])\n",
    "\n",
    "    return img\n",
    "\n",
    "\n",
    "def get_dataset(\n",
    "    files, CFG, augment=False, shuffle=False, repeat=False, labeled=True, batch_size=16, dim=224\n",
    "    ):\n",
    "    ds = tf.data.TFRecordDataset(files, num_parallel_reads=AUTO)\n",
    "    ds = ds.cache()\n",
    "\n",
    "    if repeat:\n",
    "        ds = ds.repeat()\n",
    "\n",
    "    if shuffle:\n",
    "        ds = ds.shuffle(1024 * 8)\n",
    "        opt = tf.data.Options()\n",
    "        opt.experimental_deterministic = False\n",
    "        ds = ds.with_options(opt)\n",
    "\n",
    "    if labeled:\n",
    "        ds = ds.map(read_labeled_tfrecord, num_parallel_calls=AUTO)\n",
    "    else:\n",
    "        ds = ds.map(read_unlabeled_tfrecord, num_parallel_calls=AUTO)\n",
    "\n",
    "    ds = ds.map(\n",
    "        lambda img, imgname_or_label: (prepare_image(\n",
    "            img, CFG, augment=augment, dim=dim), imgname_or_label), num_parallel_calls=AUTO\n",
    "    )\n",
    "\n",
    "    ds = ds.batch(batch_size * CFG.REPLICAS)\n",
    "    ds = ds.prefetch(AUTO)\n",
    "    return ds"
   ]
  },
  {
   "cell_type": "code",
   "execution_count": 3,
   "metadata": {},
   "outputs": [],
   "source": [
    "def get_history(model, fold, files_train, files_valid, CFG):\n",
    "    logger.info(\"Training...\")\n",
    "    history = model.fit(\n",
    "        get_dataset(files_train, CFG),\n",
    "        epochs=CFG.EPOCHS,\n",
    "        callbacks=tr_fn.make_callbacks(CFG),\n",
    "        steps_per_epoch=CFG.STEPS_PER_EPOCH,\n",
    "        validation_data=get_dataset(files_valid, CFG),  # class_weight = {0:1,1:2},\n",
    "        verbose=CFG.VERBOSE,\n",
    "    )\n",
    "    return history\n",
    "\n",
    "def get_gcs_path(image_size):\n",
    "    GCS_PATH_SELECT = {\n",
    "        192: f\"{CFG2.GCS_REPO}/tfrecords-jpeg-192x192\",\n",
    "        224: f\"{CFG2.GCS_REPO}/tfrecords-jpeg-224x224v2\",\n",
    "        384: f\"{CFG2.GCS_REPO}/tfrecords-jpeg-384x384\",\n",
    "        512: f\"{CFG2.GCS_REPO}/tfrecords-jpeg-512x512\",\n",
    "    }\n",
    "    GCS_PATH = GCS_PATH_SELECT[image_size]    \n",
    "    return GCS_PATH\n",
    "\n",
    "def oof_targets_names_folds(files_valid, CFG, fold, oof_tar, oof_folds, oof_names):\n",
    "    ds_valid = get_dataset(\n",
    "        files_valid,\n",
    "        CFG,\n",
    "        augment=False,\n",
    "        repeat=False,\n",
    "        dim=CFG.IMG_SIZES,\n",
    "        labeled=True,\n",
    "        return_image_names=True,\n",
    "    )\n",
    "    oof_tar.append(\n",
    "        np.array([target.numpy() for img, target in iter(ds_valid.unbatch())])\n",
    "    )\n",
    "    oof_folds.append(np.ones_like(oof_tar[-1], dtype=\"int8\") * fold)\n",
    "    ds = get_dataset(\n",
    "        files_valid,\n",
    "        CFG,\n",
    "        augment=False,\n",
    "        repeat=False,\n",
    "        dim=CFG.IMG_SIZES,\n",
    "        labeled=False,\n",
    "        return_image_names=True,\n",
    "    )\n",
    "    oof_names.append(\n",
    "        np.array(\n",
    "            [img_name.numpy().decode(\"utf-8\") for img, img_name in iter(ds.unbatch())]\n",
    "        )\n",
    "    )\n",
    "    return oof_tar, oof_folds, oof_names"
   ]
  },
  {
   "cell_type": "code",
   "execution_count": 4,
   "metadata": {},
   "outputs": [
    {
     "name": "stdout",
     "output_type": "stream",
     "text": [
      "INFO:tensorflow:Deallocate tpu buffers before initializing tpu system.\n"
     ]
    },
    {
     "name": "stdout",
     "output_type": "stream",
     "text": [
      "INFO:tensorflow:Initializing the TPU system: local\n"
     ]
    },
    {
     "name": "stderr",
     "output_type": "stream",
     "text": [
      "2023-10-28 09:30:26.977180: I tensorflow/compiler/xla/service/service.cc:168] XLA service 0x55736b1bbb60 initialized for platform TPU (this does not guarantee that XLA will be used). Devices:\n",
      "2023-10-28 09:30:26.977217: I tensorflow/compiler/xla/service/service.cc:176]   StreamExecutor device (0): TPU, 2a886c8\n",
      "2023-10-28 09:30:26.977230: I tensorflow/compiler/xla/service/service.cc:176]   StreamExecutor device (1): TPU, 2a886c8\n",
      "2023-10-28 09:30:26.977240: I tensorflow/compiler/xla/service/service.cc:176]   StreamExecutor device (2): TPU, 2a886c8\n",
      "2023-10-28 09:30:26.977250: I tensorflow/compiler/xla/service/service.cc:176]   StreamExecutor device (3): TPU, 2a886c8\n",
      "2023-10-28 09:30:26.977260: I tensorflow/compiler/xla/service/service.cc:176]   StreamExecutor device (4): TPU, 2a886c8\n",
      "2023-10-28 09:30:26.977270: I tensorflow/compiler/xla/service/service.cc:176]   StreamExecutor device (5): TPU, 2a886c8\n",
      "2023-10-28 09:30:26.977279: I tensorflow/compiler/xla/service/service.cc:176]   StreamExecutor device (6): TPU, 2a886c8\n",
      "2023-10-28 09:30:26.977289: I tensorflow/compiler/xla/service/service.cc:176]   StreamExecutor device (7): TPU, 2a886c8\n",
      "2023-10-28 09:30:26.977478: E ./tensorflow/compiler/xla/stream_executor/stream_executor_internal.h:124] SetPriority unimplemented for this stream.\n",
      "2023-10-28 09:30:26.977539: E ./tensorflow/compiler/xla/stream_executor/stream_executor_internal.h:124] SetPriority unimplemented for this stream.\n",
      "2023-10-28 09:30:26.977593: E ./tensorflow/compiler/xla/stream_executor/stream_executor_internal.h:124] SetPriority unimplemented for this stream.\n",
      "2023-10-28 09:30:26.977650: E ./tensorflow/compiler/xla/stream_executor/stream_executor_internal.h:124] SetPriority unimplemented for this stream.\n",
      "2023-10-28 09:30:26.977710: E ./tensorflow/compiler/xla/stream_executor/stream_executor_internal.h:124] SetPriority unimplemented for this stream.\n",
      "2023-10-28 09:30:26.977895: E ./tensorflow/compiler/xla/stream_executor/stream_executor_internal.h:124] SetPriority unimplemented for this stream.\n",
      "2023-10-28 09:30:26.977962: E ./tensorflow/compiler/xla/stream_executor/stream_executor_internal.h:124] SetPriority unimplemented for this stream.\n",
      "2023-10-28 09:30:26.978031: E ./tensorflow/compiler/xla/stream_executor/stream_executor_internal.h:124] SetPriority unimplemented for this stream.\n",
      "2023-10-28 09:30:26.978092: E ./tensorflow/compiler/xla/stream_executor/stream_executor_internal.h:124] SetPriority unimplemented for this stream.\n",
      "2023-10-28 09:30:26.978159: E ./tensorflow/compiler/xla/stream_executor/stream_executor_internal.h:124] SetPriority unimplemented for this stream.\n",
      "2023-10-28 09:30:26.978337: E ./tensorflow/compiler/xla/stream_executor/stream_executor_internal.h:124] SetPriority unimplemented for this stream.\n",
      "2023-10-28 09:30:26.978403: E ./tensorflow/compiler/xla/stream_executor/stream_executor_internal.h:124] SetPriority unimplemented for this stream.\n",
      "2023-10-28 09:30:26.978467: E ./tensorflow/compiler/xla/stream_executor/stream_executor_internal.h:124] SetPriority unimplemented for this stream.\n",
      "2023-10-28 09:30:26.978535: E ./tensorflow/compiler/xla/stream_executor/stream_executor_internal.h:124] SetPriority unimplemented for this stream.\n",
      "2023-10-28 09:30:26.978594: E ./tensorflow/compiler/xla/stream_executor/stream_executor_internal.h:124] SetPriority unimplemented for this stream.\n",
      "2023-10-28 09:30:26.978756: E ./tensorflow/compiler/xla/stream_executor/stream_executor_internal.h:124] SetPriority unimplemented for this stream.\n",
      "2023-10-28 09:30:26.978827: E ./tensorflow/compiler/xla/stream_executor/stream_executor_internal.h:124] SetPriority unimplemented for this stream.\n",
      "2023-10-28 09:30:26.978881: E ./tensorflow/compiler/xla/stream_executor/stream_executor_internal.h:124] SetPriority unimplemented for this stream.\n",
      "2023-10-28 09:30:26.978949: E ./tensorflow/compiler/xla/stream_executor/stream_executor_internal.h:124] SetPriority unimplemented for this stream.\n",
      "2023-10-28 09:30:26.979010: E ./tensorflow/compiler/xla/stream_executor/stream_executor_internal.h:124] SetPriority unimplemented for this stream.\n",
      "2023-10-28 09:30:26.979178: E ./tensorflow/compiler/xla/stream_executor/stream_executor_internal.h:124] SetPriority unimplemented for this stream.\n",
      "2023-10-28 09:30:26.979242: E ./tensorflow/compiler/xla/stream_executor/stream_executor_internal.h:124] SetPriority unimplemented for this stream.\n",
      "2023-10-28 09:30:26.979299: E ./tensorflow/compiler/xla/stream_executor/stream_executor_internal.h:124] SetPriority unimplemented for this stream.\n",
      "2023-10-28 09:30:26.979370: E ./tensorflow/compiler/xla/stream_executor/stream_executor_internal.h:124] SetPriority unimplemented for this stream.\n",
      "2023-10-28 09:30:26.979432: E ./tensorflow/compiler/xla/stream_executor/stream_executor_internal.h:124] SetPriority unimplemented for this stream.\n",
      "2023-10-28 09:30:26.979593: E ./tensorflow/compiler/xla/stream_executor/stream_executor_internal.h:124] SetPriority unimplemented for this stream.\n",
      "2023-10-28 09:30:26.979659: E ./tensorflow/compiler/xla/stream_executor/stream_executor_internal.h:124] SetPriority unimplemented for this stream.\n",
      "2023-10-28 09:30:26.979718: E ./tensorflow/compiler/xla/stream_executor/stream_executor_internal.h:124] SetPriority unimplemented for this stream.\n",
      "2023-10-28 09:30:26.979777: E ./tensorflow/compiler/xla/stream_executor/stream_executor_internal.h:124] SetPriority unimplemented for this stream.\n",
      "2023-10-28 09:30:26.979837: E ./tensorflow/compiler/xla/stream_executor/stream_executor_internal.h:124] SetPriority unimplemented for this stream.\n",
      "2023-10-28 09:30:26.980031: E ./tensorflow/compiler/xla/stream_executor/stream_executor_internal.h:124] SetPriority unimplemented for this stream.\n",
      "2023-10-28 09:30:26.980095: E ./tensorflow/compiler/xla/stream_executor/stream_executor_internal.h:124] SetPriority unimplemented for this stream.\n",
      "2023-10-28 09:30:26.980159: E ./tensorflow/compiler/xla/stream_executor/stream_executor_internal.h:124] SetPriority unimplemented for this stream.\n",
      "2023-10-28 09:30:26.980218: E ./tensorflow/compiler/xla/stream_executor/stream_executor_internal.h:124] SetPriority unimplemented for this stream.\n",
      "2023-10-28 09:30:26.980290: E ./tensorflow/compiler/xla/stream_executor/stream_executor_internal.h:124] SetPriority unimplemented for this stream.\n",
      "2023-10-28 09:30:26.980493: E ./tensorflow/compiler/xla/stream_executor/stream_executor_internal.h:124] SetPriority unimplemented for this stream.\n",
      "2023-10-28 09:30:26.980554: E ./tensorflow/compiler/xla/stream_executor/stream_executor_internal.h:124] SetPriority unimplemented for this stream.\n",
      "2023-10-28 09:30:26.980618: E ./tensorflow/compiler/xla/stream_executor/stream_executor_internal.h:124] SetPriority unimplemented for this stream.\n",
      "2023-10-28 09:30:26.980682: E ./tensorflow/compiler/xla/stream_executor/stream_executor_internal.h:124] SetPriority unimplemented for this stream.\n",
      "2023-10-28 09:30:26.980750: E ./tensorflow/compiler/xla/stream_executor/stream_executor_internal.h:124] SetPriority unimplemented for this stream.\n"
     ]
    },
    {
     "name": "stdout",
     "output_type": "stream",
     "text": [
      "INFO:tensorflow:Finished initializing TPU system.\n",
      "INFO:tensorflow:Found TPU system:\n",
      "INFO:tensorflow:*** Num TPU Cores: 8\n",
      "INFO:tensorflow:*** Num TPU Workers: 1\n",
      "INFO:tensorflow:*** Num TPU Cores Per Worker: 8\n",
      "INFO:tensorflow:*** Available Device: _DeviceAttributes(/job:localhost/replica:0/task:0/device:CPU:0, CPU, 0, 0)\n",
      "INFO:tensorflow:*** Available Device: _DeviceAttributes(/job:localhost/replica:0/task:0/device:TPU:0, TPU, 0, 0)\n",
      "INFO:tensorflow:*** Available Device: _DeviceAttributes(/job:localhost/replica:0/task:0/device:TPU:1, TPU, 0, 0)\n",
      "INFO:tensorflow:*** Available Device: _DeviceAttributes(/job:localhost/replica:0/task:0/device:TPU:2, TPU, 0, 0)\n",
      "INFO:tensorflow:*** Available Device: _DeviceAttributes(/job:localhost/replica:0/task:0/device:TPU:3, TPU, 0, 0)\n",
      "INFO:tensorflow:*** Available Device: _DeviceAttributes(/job:localhost/replica:0/task:0/device:TPU:4, TPU, 0, 0)\n",
      "INFO:tensorflow:*** Available Device: _DeviceAttributes(/job:localhost/replica:0/task:0/device:TPU:5, TPU, 0, 0)\n",
      "INFO:tensorflow:*** Available Device: _DeviceAttributes(/job:localhost/replica:0/task:0/device:TPU:6, TPU, 0, 0)\n",
      "INFO:tensorflow:Found TPU system:\n",
      "INFO:tensorflow:*** Num TPU Cores: 8\n",
      "INFO:tensorflow:*** Num TPU Workers: 1\n",
      "INFO:tensorflow:*** Num TPU Cores Per Worker: 8\n",
      "INFO:tensorflow:*** Available Device: _DeviceAttributes(/job:localhost/replica:0/task:0/device:CPU:0, CPU, 0, 0)\n",
      "INFO:tensorflow:*** Available Device: _DeviceAttributes(/job:localhost/replica:0/task:0/device:TPU:0, TPU, 0, 0)\n",
      "INFO:tensorflow:*** Available Device: _DeviceAttributes(/job:localhost/replica:0/task:0/device:TPU:1, TPU, 0, 0)\n",
      "INFO:tensorflow:*** Available Device: _DeviceAttributes(/job:localhost/replica:0/task:0/device:TPU:2, TPU, 0, 0)\n",
      "INFO:tensorflow:*** Available Device: _DeviceAttributes(/job:localhost/replica:0/task:0/device:TPU:3, TPU, 0, 0)\n",
      "INFO:tensorflow:*** Available Device: _DeviceAttributes(/job:localhost/replica:0/task:0/device:TPU:4, TPU, 0, 0)\n",
      "INFO:tensorflow:*** Available Device: _DeviceAttributes(/job:localhost/replica:0/task:0/device:TPU:5, TPU, 0, 0)\n",
      "INFO:tensorflow:*** Available Device: _DeviceAttributes(/job:localhost/replica:0/task:0/device:TPU:6, TPU, 0, 0)\n",
      "INFO:tensorflow:*** Available Device: _DeviceAttributes(/job:localhost/replica:0/task:0/device:TPU:7, TPU, 0, 0)\n",
      "INFO:tensorflow:*** Available Device: _DeviceAttributes(/job:localhost/replica:0/task:0/device:TPU_SYSTEM:0, TPU_SYSTEM, 0, 0)\n"
     ]
    }
   ],
   "source": [
    "cluster_resolver = tf.distribute.cluster_resolver.TPUClusterResolver(tpu='local')\n",
    "tf.config.experimental_connect_to_cluster(cluster_resolver)\n",
    "tf.tpu.experimental.initialize_tpu_system(cluster_resolver)\n",
    "strategy = tf.distribute.TPUStrategy(cluster_resolver)"
   ]
  },
  {
   "cell_type": "code",
   "execution_count": 5,
   "metadata": {},
   "outputs": [
    {
     "name": "stdout",
     "output_type": "stream",
     "text": [
      "Number of accelerators:  8\n"
     ]
    }
   ],
   "source": [
    "CFG2.REPLICAS = strategy.num_replicas_in_sync\n",
    "print(\"Number of accelerators: \", strategy.num_replicas_in_sync)"
   ]
  },
  {
   "cell_type": "code",
   "execution_count": 6,
   "metadata": {},
   "outputs": [
    {
     "name": "stdout",
     "output_type": "stream",
     "text": [
      "#########################\n",
      "#### FOLD 1\n"
     ]
    },
    {
     "name": "stderr",
     "output_type": "stream",
     "text": [
      "\u001b[32m2023-10-28 09:31:51.637\u001b[0m | \u001b[34m\u001b[1mDEBUG   \u001b[0m | \u001b[36m__main__\u001b[0m:\u001b[36m<module>\u001b[0m:\u001b[36m23\u001b[0m - \u001b[34m\u001b[1mImage Size [224, 224] with Model swin_large_224 and batch_sz 256\u001b[0m\n",
      "Failed to detect the name of this notebook, you can set it manually with the WANDB_NOTEBOOK_NAME environment variable to enable code saving.\n",
      "\u001b[34m\u001b[1mwandb\u001b[0m: Currently logged in as: \u001b[33mg-broughton\u001b[0m. Use \u001b[1m`wandb login --relogin`\u001b[0m to force relogin\n",
      "\u001b[34m\u001b[1mwandb\u001b[0m: \u001b[33mWARNING\u001b[0m `config_exclude_keys` is deprecated. Use `config=wandb.helper.parse_config(config_object, exclude=('key',))` instead.\n"
     ]
    },
    {
     "data": {
      "application/vnd.jupyter.widget-view+json": {
       "model_id": "ce782637ecac4605a34bfcf3e75928ab",
       "version_major": 2,
       "version_minor": 0
      },
      "text/plain": [
       "VBox(children=(Label(value='Waiting for wandb.init()...\\r'), FloatProgress(value=0.011112460422221677, max=1.0…"
      ]
     },
     "metadata": {},
     "output_type": "display_data"
    },
    {
     "data": {
      "text/html": [
       "Tracking run with wandb version 0.15.12"
      ],
      "text/plain": [
       "<IPython.core.display.HTML object>"
      ]
     },
     "metadata": {},
     "output_type": "display_data"
    },
    {
     "data": {
      "text/html": [
       "Run data is saved locally in <code>../wandb/run-20231028_093155-1qhlelky</code>"
      ],
      "text/plain": [
       "<IPython.core.display.HTML object>"
      ]
     },
     "metadata": {},
     "output_type": "display_data"
    },
    {
     "data": {
      "text/html": [
       "Syncing run <strong><a href='https://wandb.ai/g-broughton/Mushroom-Classifier/runs/1qhlelky' target=\"_blank\">mild-dew-137</a></strong> to <a href='https://wandb.ai/g-broughton/Mushroom-Classifier' target=\"_blank\">Weights & Biases</a> (<a href='https://wandb.me/run' target=\"_blank\">docs</a>)<br/>"
      ],
      "text/plain": [
       "<IPython.core.display.HTML object>"
      ]
     },
     "metadata": {},
     "output_type": "display_data"
    },
    {
     "data": {
      "text/html": [
       " View project at <a href='https://wandb.ai/g-broughton/Mushroom-Classifier' target=\"_blank\">https://wandb.ai/g-broughton/Mushroom-Classifier</a>"
      ],
      "text/plain": [
       "<IPython.core.display.HTML object>"
      ]
     },
     "metadata": {},
     "output_type": "display_data"
    },
    {
     "data": {
      "text/html": [
       " View run at <a href='https://wandb.ai/g-broughton/Mushroom-Classifier/runs/1qhlelky' target=\"_blank\">https://wandb.ai/g-broughton/Mushroom-Classifier/runs/1qhlelky</a>"
      ],
      "text/plain": [
       "<IPython.core.display.HTML object>"
      ]
     },
     "metadata": {},
     "output_type": "display_data"
    },
    {
     "name": "stderr",
     "output_type": "stream",
     "text": [
      "\u001b[32m2023-10-28 09:32:00.795\u001b[0m | \u001b[1mINFO    \u001b[0m | \u001b[36m__main__\u001b[0m:\u001b[36m<module>\u001b[0m:\u001b[36m39\u001b[0m - \u001b[1mBuild & Compile Model...\u001b[0m\n",
      "2023-10-28 09:32:03.172064: I tensorflow/compiler/mlir/tensorflow/utils/dump_mlir_util.cc:269] disabling MLIR crash reproducer, set env var `MLIR_CRASH_REPRODUCER_DIRECTORY` to enable.\n",
      "2023-10-28 09:32:04.235421: I ./tensorflow/compiler/jit/device_compiler.h:186] Compiled cluster using XLA!  This line is logged at most once for the lifetime of the process.\n",
      "2023-10-28 09:32:04.542092: E ./tensorflow/compiler/xla/stream_executor/stream_executor_internal.h:124] SetPriority unimplemented for this stream.\n",
      "2023-10-28 09:32:04.862338: E ./tensorflow/compiler/xla/stream_executor/stream_executor_internal.h:124] SetPriority unimplemented for this stream.\n",
      "\u001b[32m2023-10-28 09:33:36.420\u001b[0m | \u001b[1mINFO    \u001b[0m | \u001b[36m__main__\u001b[0m:\u001b[36m<module>\u001b[0m:\u001b[36m52\u001b[0m - \u001b[1mTraining Model...\u001b[0m\n",
      "\u001b[32m2023-10-28 09:33:36.423\u001b[0m | \u001b[1mINFO    \u001b[0m | \u001b[36m__main__\u001b[0m:\u001b[36mget_history\u001b[0m:\u001b[36m2\u001b[0m - \u001b[1mTraining...\u001b[0m\n",
      "\u001b[34m\u001b[1mwandb\u001b[0m: \u001b[33mWARNING\u001b[0m When using `save_best_only`, ensure that the `filepath` argument contains formatting placeholders like `{epoch:02d}` or `{batch:02d}`. This ensures correct interpretation of the logged artifacts.\n",
      "2023-10-28 09:33:37.818894: E ./tensorflow/compiler/xla/stream_executor/stream_executor_internal.h:124] SetPriority unimplemented for this stream.\n",
      "2023-10-28 09:33:37.847641: E ./tensorflow/compiler/xla/stream_executor/stream_executor_internal.h:124] SetPriority unimplemented for this stream.\n",
      "2023-10-28 09:33:37.876096: E ./tensorflow/compiler/xla/stream_executor/stream_executor_internal.h:124] SetPriority unimplemented for this stream.\n",
      "2023-10-28 09:33:37.904383: E ./tensorflow/compiler/xla/stream_executor/stream_executor_internal.h:124] SetPriority unimplemented for this stream.\n",
      "2023-10-28 09:33:37.932748: E ./tensorflow/compiler/xla/stream_executor/stream_executor_internal.h:124] SetPriority unimplemented for this stream.\n",
      "2023-10-28 09:33:37.961341: E ./tensorflow/compiler/xla/stream_executor/stream_executor_internal.h:124] SetPriority unimplemented for this stream.\n",
      "2023-10-28 09:33:37.989671: E ./tensorflow/compiler/xla/stream_executor/stream_executor_internal.h:124] SetPriority unimplemented for this stream.\n"
     ]
    },
    {
     "name": "stdout",
     "output_type": "stream",
     "text": [
      "Epoch 1/30\n"
     ]
    },
    {
     "name": "stderr",
     "output_type": "stream",
     "text": [
      "2023-10-28 09:34:42.073321: I tensorflow/core/tpu/graph_rewrite/encapsulate_tpu_computations_pass.cc:241] Subgraph fingerprint:5860969846676704230\n",
      "2023-10-28 09:34:50.174523: E tensorflow/core/grappler/optimizers/meta_optimizer.cc:961] model_pruner failed: INVALID_ARGUMENT: Graph does not contain terminal node Adam/AssignAddVariableOp.\n",
      "2023-10-28 09:35:04.881042: E ./tensorflow/compiler/xla/stream_executor/stream_executor_internal.h:124] SetPriority unimplemented for this stream.\n",
      "2023-10-28 09:35:04.883934: E ./tensorflow/compiler/xla/stream_executor/stream_executor_internal.h:124] SetPriority unimplemented for this stream.\n",
      "2023-10-28 09:35:04.884541: E ./tensorflow/compiler/xla/stream_executor/stream_executor_internal.h:124] SetPriority unimplemented for this stream.\n",
      "2023-10-28 09:35:04.884629: E ./tensorflow/compiler/xla/stream_executor/stream_executor_internal.h:124] SetPriority unimplemented for this stream.\n",
      "2023-10-28 09:35:04.885253: E ./tensorflow/compiler/xla/stream_executor/stream_executor_internal.h:124] SetPriority unimplemented for this stream.\n",
      "2023-10-28 09:35:04.885434: E ./tensorflow/compiler/xla/stream_executor/stream_executor_internal.h:124] SetPriority unimplemented for this stream.\n",
      "2023-10-28 09:35:04.925598: I tensorflow/core/tpu/kernels/tpu_compilation_cache_interface.cc:441] TPU host compilation cache miss: cache_key(7967b2f05a76aa68:0:0), session_name()\n",
      "2023-10-28 09:37:37.696226: I tensorflow/core/tpu/kernels/tpu_compile_op_common.cc:226] Compilation of 7967b2f05a76aa68:0:0 with session name  took 2m32.77048038s and succeeded\n",
      "2023-10-28 09:37:38.175019: I tensorflow/core/tpu/kernels/tpu_compilation_cache_interface.cc:475] TPU host compilation cache: compilation complete for cache_key(7967b2f05a76aa68:0:0), session_name(), subgraph_key(std::string(property.function_name) = \"cluster_train_function_5860969846676704230\", property.function_library_fingerprint = 1282137774680061574, property.mlir_module_fingerprint = 0, property.num_replicas = 8, topology.chip_bounds().x = 2, topology.chip_bounds().y = 2, topology.chip_bounds().z = 1, topology.wrap().x = false, topology.wrap().y = false, topology.wrap().z = false, std::string(property.shapes_prefix) = \"16,224,224,3,;16,;\", property.guaranteed_constants_size = 0, embedding_partitions_fingerprint = \"1688352644216761960\")\n",
      "2023-10-28 09:37:38.175090: I tensorflow/core/tpu/kernels/tpu_compilation_cache_interface.cc:541] After adding entry for key 7967b2f05a76aa68:0:0 with session_name  cache is 1 entries (526291667 bytes),  marked for eviction 0 entries (0 bytes).\n",
      "2023-10-28 09:37:38.202029: E ./tensorflow/compiler/xla/stream_executor/stream_executor_internal.h:124] SetPriority unimplemented for this stream.\n",
      "2023-10-28 09:37:38.202291: E ./tensorflow/compiler/xla/stream_executor/stream_executor_internal.h:124] SetPriority unimplemented for this stream.\n",
      "2023-10-28 09:37:38.202361: E ./tensorflow/compiler/xla/stream_executor/stream_executor_internal.h:124] SetPriority unimplemented for this stream.\n",
      "2023-10-28 09:37:38.202457: E ./tensorflow/compiler/xla/stream_executor/stream_executor_internal.h:124] SetPriority unimplemented for this stream.\n",
      "2023-10-28 09:37:38.202548: E ./tensorflow/compiler/xla/stream_executor/stream_executor_internal.h:124] SetPriority unimplemented for this stream.\n",
      "2023-10-28 09:37:38.202629: E ./tensorflow/compiler/xla/stream_executor/stream_executor_internal.h:124] SetPriority unimplemented for this stream.\n",
      "2023-10-28 09:37:38.202707: E ./tensorflow/compiler/xla/stream_executor/stream_executor_internal.h:124] SetPriority unimplemented for this stream.\n",
      "2023-10-28 09:37:38.202969: E ./tensorflow/compiler/xla/stream_executor/stream_executor_internal.h:124] SetPriority unimplemented for this stream.\n",
      "2023-10-28 09:37:39.001757: E ./tensorflow/compiler/xla/stream_executor/stream_executor_internal.h:124] SetPriority unimplemented for this stream.\n",
      "2023-10-28 09:37:39.003601: E ./tensorflow/compiler/xla/stream_executor/stream_executor_internal.h:124] SetPriority unimplemented for this stream.\n",
      "2023-10-28 09:37:39.507729: E ./tensorflow/compiler/xla/stream_executor/stream_executor_internal.h:124] SetPriority unimplemented for this stream.\n",
      "2023-10-28 09:38:00.770009: I tensorflow/core/tpu/graph_rewrite/encapsulate_tpu_computations_pass.cc:241] Subgraph fingerprint:7590934214919374341\n",
      "2023-10-28 09:38:02.020343: E tensorflow/core/grappler/optimizers/meta_optimizer.cc:961] model_pruner failed: INVALID_ARGUMENT: Graph does not contain terminal node AssignAddVariableOp.\n",
      "2023-10-28 09:38:06.478979: I tensorflow/core/tpu/kernels/tpu_compilation_cache_interface.cc:441] TPU host compilation cache miss: cache_key(e2a8954da3cc5719:0:0), session_name()\n",
      "2023-10-28 09:38:40.065165: I tensorflow/core/tpu/kernels/tpu_compile_op_common.cc:226] Compilation of e2a8954da3cc5719:0:0 with session name  took 33.586075888s and succeeded\n",
      "2023-10-28 09:38:40.147909: I tensorflow/core/tpu/kernels/tpu_compilation_cache_interface.cc:475] TPU host compilation cache: compilation complete for cache_key(e2a8954da3cc5719:0:0), session_name(), subgraph_key(std::string(property.function_name) = \"cluster_test_function_7590934214919374341\", property.function_library_fingerprint = 9265175724650956648, property.mlir_module_fingerprint = 0, property.num_replicas = 8, topology.chip_bounds().x = 2, topology.chip_bounds().y = 2, topology.chip_bounds().z = 1, topology.wrap().x = false, topology.wrap().y = false, topology.wrap().z = false, std::string(property.shapes_prefix) = \"16,224,224,3,;16,;\", property.guaranteed_constants_size = 0, embedding_partitions_fingerprint = \"1688352644216761960\")\n",
      "2023-10-28 09:38:40.147966: I tensorflow/core/tpu/kernels/tpu_compilation_cache_interface.cc:541] After adding entry for key e2a8954da3cc5719:0:0 with session_name  cache is 2 entries (661447069 bytes),  marked for eviction 0 entries (0 bytes).\n",
      "2023-10-28 09:39:04.169238: I tensorflow/core/framework/local_rendezvous.cc:421] Local rendezvous recv item cancelled. Key hash: 11245697772187935193\n",
      "2023-10-28 09:39:04.169757: I tensorflow/core/framework/local_rendezvous.cc:421] Local rendezvous recv item cancelled. Key hash: 1888568838805340395\n",
      "2023-10-28 09:39:04.169788: I tensorflow/core/framework/local_rendezvous.cc:421] Local rendezvous recv item cancelled. Key hash: 3251553944753356915\n",
      "2023-10-28 09:39:04.169804: I tensorflow/core/framework/local_rendezvous.cc:421] Local rendezvous recv item cancelled. Key hash: 916523596445720855\n",
      "2023-10-28 09:39:04.169818: I tensorflow/core/framework/local_rendezvous.cc:421] Local rendezvous recv item cancelled. Key hash: 13883331947871256807\n",
      "2023-10-28 09:39:04.169862: I tensorflow/core/framework/local_rendezvous.cc:421] Local rendezvous recv item cancelled. Key hash: 11820299346082365555\n",
      "2023-10-28 09:39:04.169879: I tensorflow/core/framework/local_rendezvous.cc:421] Local rendezvous recv item cancelled. Key hash: 2232280299079512268\n",
      "2023-10-28 09:39:04.169921: I tensorflow/core/framework/local_rendezvous.cc:421] Local rendezvous recv item cancelled. Key hash: 1733062736256721457\n",
      "2023-10-28 09:39:04.169939: I tensorflow/core/framework/local_rendezvous.cc:421] Local rendezvous recv item cancelled. Key hash: 6266433745843847645\n",
      "2023-10-28 09:39:04.169954: I tensorflow/core/framework/local_rendezvous.cc:421] Local rendezvous recv item cancelled. Key hash: 18270933296236705918\n",
      "2023-10-28 09:39:04.169970: I tensorflow/core/framework/local_rendezvous.cc:421] Local rendezvous recv item cancelled. Key hash: 2495551197966861437\n",
      "2023-10-28 09:39:04.169986: I tensorflow/core/framework/local_rendezvous.cc:421] Local rendezvous recv item cancelled. Key hash: 4479937260846458835\n",
      "2023-10-28 09:39:04.170000: I tensorflow/core/framework/local_rendezvous.cc:421] Local rendezvous recv item cancelled. Key hash: 5665294087053749178\n",
      "2023-10-28 09:39:04.170016: I tensorflow/core/framework/local_rendezvous.cc:421] Local rendezvous recv item cancelled. Key hash: 8097235886376903697\n",
      "2023-10-28 09:39:04.170032: I tensorflow/core/framework/local_rendezvous.cc:421] Local rendezvous recv item cancelled. Key hash: 1895942517013375385\n",
      "2023-10-28 09:39:04.170046: I tensorflow/core/framework/local_rendezvous.cc:421] Local rendezvous recv item cancelled. Key hash: 13518348814426258478\n",
      "2023-10-28 09:39:04.170061: I tensorflow/core/framework/local_rendezvous.cc:421] Local rendezvous recv item cancelled. Key hash: 5460638588315627167\n",
      "2023-10-28 09:39:04.170078: I tensorflow/core/framework/local_rendezvous.cc:421] Local rendezvous recv item cancelled. Key hash: 11877809096080403505\n",
      "2023-10-28 09:39:04.170093: I tensorflow/core/framework/local_rendezvous.cc:421] Local rendezvous recv item cancelled. Key hash: 10068245645172686068\n",
      "2023-10-28 09:39:04.170108: I tensorflow/core/framework/local_rendezvous.cc:421] Local rendezvous recv item cancelled. Key hash: 9845142447731920757\n",
      "2023-10-28 09:39:04.170125: I tensorflow/core/framework/local_rendezvous.cc:421] Local rendezvous recv item cancelled. Key hash: 6680688071272189545\n",
      "2023-10-28 09:39:04.170140: I tensorflow/core/framework/local_rendezvous.cc:421] Local rendezvous recv item cancelled. Key hash: 7609733349485601709\n",
      "2023-10-28 09:39:04.170156: I tensorflow/core/framework/local_rendezvous.cc:421] Local rendezvous recv item cancelled. Key hash: 3164321889091015927\n",
      "2023-10-28 09:39:04.170173: I tensorflow/core/framework/local_rendezvous.cc:421] Local rendezvous recv item cancelled. Key hash: 5608921681934186815\n",
      "2023-10-28 09:39:04.170188: I tensorflow/core/framework/local_rendezvous.cc:421] Local rendezvous recv item cancelled. Key hash: 7587767865021507369\n",
      "2023-10-28 09:39:04.170203: I tensorflow/core/framework/local_rendezvous.cc:421] Local rendezvous recv item cancelled. Key hash: 11227687134210044957\n",
      "2023-10-28 09:39:04.170219: I tensorflow/core/framework/local_rendezvous.cc:421] Local rendezvous recv item cancelled. Key hash: 3488405905599732915\n",
      "2023-10-28 09:39:04.170233: I tensorflow/core/framework/local_rendezvous.cc:421] Local rendezvous recv item cancelled. Key hash: 12978991575308888009\n",
      "2023-10-28 09:39:04.170248: I tensorflow/core/framework/local_rendezvous.cc:421] Local rendezvous recv item cancelled. Key hash: 12925081941891307407\n",
      "2023-10-28 09:39:04.170267: I tensorflow/core/framework/local_rendezvous.cc:421] Local rendezvous recv item cancelled. Key hash: 5673221285516824849\n",
      "2023-10-28 09:39:04.170283: I tensorflow/core/framework/local_rendezvous.cc:421] Local rendezvous recv item cancelled. Key hash: 16967411264270749724\n",
      "2023-10-28 09:39:04.170298: I tensorflow/core/framework/local_rendezvous.cc:421] Local rendezvous recv item cancelled. Key hash: 3646744888435662587\n",
      "2023-10-28 09:39:04.170314: I tensorflow/core/framework/local_rendezvous.cc:421] Local rendezvous recv item cancelled. Key hash: 6185954707590174199\n",
      "2023-10-28 09:39:04.170328: I tensorflow/core/framework/local_rendezvous.cc:421] Local rendezvous recv item cancelled. Key hash: 3862969401456149124\n",
      "2023-10-28 09:39:04.170343: I tensorflow/core/framework/local_rendezvous.cc:421] Local rendezvous recv item cancelled. Key hash: 11998062590690082557\n",
      "2023-10-28 09:39:04.170360: I tensorflow/core/framework/local_rendezvous.cc:421] Local rendezvous recv item cancelled. Key hash: 12893384792260941489\n",
      "2023-10-28 09:39:04.170374: I tensorflow/core/framework/local_rendezvous.cc:421] Local rendezvous recv item cancelled. Key hash: 15320843160114893534\n",
      "2023-10-28 09:39:04.170385: I tensorflow/core/framework/local_rendezvous.cc:421] Local rendezvous recv item cancelled. Key hash: 17016924701970193019\n",
      "2023-10-28 09:39:04.170393: I tensorflow/core/framework/local_rendezvous.cc:421] Local rendezvous recv item cancelled. Key hash: 4511931360959862214\n",
      "2023-10-28 09:39:04.170406: I tensorflow/core/framework/local_rendezvous.cc:421] Local rendezvous recv item cancelled. Key hash: 8695909498269293059\n",
      "2023-10-28 09:39:04.170422: I tensorflow/core/framework/local_rendezvous.cc:421] Local rendezvous recv item cancelled. Key hash: 7932525616853057386\n",
      "2023-10-28 09:39:04.170438: I tensorflow/core/framework/local_rendezvous.cc:421] Local rendezvous recv item cancelled. Key hash: 14858082821941869454\n",
      "2023-10-28 09:39:04.170453: I tensorflow/core/framework/local_rendezvous.cc:421] Local rendezvous recv item cancelled. Key hash: 5741946274080996809\n",
      "2023-10-28 09:39:04.170467: I tensorflow/core/framework/local_rendezvous.cc:421] Local rendezvous recv item cancelled. Key hash: 11026922641483572446\n",
      "2023-10-28 09:39:04.170484: I tensorflow/core/framework/local_rendezvous.cc:421] Local rendezvous recv item cancelled. Key hash: 4344879132813446484\n",
      "2023-10-28 09:39:04.170500: I tensorflow/core/framework/local_rendezvous.cc:421] Local rendezvous recv item cancelled. Key hash: 4391792457160262656\n",
      "2023-10-28 09:39:04.170517: I tensorflow/core/framework/local_rendezvous.cc:421] Local rendezvous recv item cancelled. Key hash: 8485496979008519654\n",
      "2023-10-28 09:39:04.170533: I tensorflow/core/framework/local_rendezvous.cc:421] Local rendezvous recv item cancelled. Key hash: 300267817003607126\n",
      "2023-10-28 09:39:04.170550: I tensorflow/core/framework/local_rendezvous.cc:421] Local rendezvous recv item cancelled. Key hash: 14304523085057831743\n",
      "2023-10-28 09:39:04.170566: I tensorflow/core/framework/local_rendezvous.cc:421] Local rendezvous recv item cancelled. Key hash: 8212908827803052816\n",
      "2023-10-28 09:39:04.170583: I tensorflow/core/framework/local_rendezvous.cc:421] Local rendezvous recv item cancelled. Key hash: 8243102280066782433\n",
      "2023-10-28 09:39:04.170599: I tensorflow/core/framework/local_rendezvous.cc:421] Local rendezvous recv item cancelled. Key hash: 17534595030278418296\n",
      "2023-10-28 09:39:04.170616: I tensorflow/core/framework/local_rendezvous.cc:421] Local rendezvous recv item cancelled. Key hash: 1422231938852046343\n",
      "2023-10-28 09:39:04.170631: I tensorflow/core/framework/local_rendezvous.cc:421] Local rendezvous recv item cancelled. Key hash: 12973176427717882306\n",
      "2023-10-28 09:39:04.170648: I tensorflow/core/framework/local_rendezvous.cc:421] Local rendezvous recv item cancelled. Key hash: 13122812468106729893\n",
      "2023-10-28 09:39:04.170663: I tensorflow/core/framework/local_rendezvous.cc:421] Local rendezvous recv item cancelled. Key hash: 12869411515635807776\n",
      "2023-10-28 09:39:04.170681: I tensorflow/core/framework/local_rendezvous.cc:421] Local rendezvous recv item cancelled. Key hash: 960308540385172163\n",
      "2023-10-28 09:39:04.170701: I tensorflow/core/framework/local_rendezvous.cc:421] Local rendezvous recv item cancelled. Key hash: 3482914405035893412\n",
      "2023-10-28 09:39:04.170715: I tensorflow/core/framework/local_rendezvous.cc:421] Local rendezvous recv item cancelled. Key hash: 2495350031756174782\n",
      "2023-10-28 09:39:04.170729: I tensorflow/core/framework/local_rendezvous.cc:421] Local rendezvous recv item cancelled. Key hash: 17388025671532504732\n",
      "2023-10-28 09:39:04.170748: I tensorflow/core/framework/local_rendezvous.cc:421] Local rendezvous recv item cancelled. Key hash: 14829361763754536872\n",
      "2023-10-28 09:39:04.170764: I tensorflow/core/framework/local_rendezvous.cc:421] Local rendezvous recv item cancelled. Key hash: 4294142212696969352\n",
      "2023-10-28 09:39:04.170778: I tensorflow/core/framework/local_rendezvous.cc:421] Local rendezvous recv item cancelled. Key hash: 4696852129772917382\n",
      "2023-10-28 09:39:04.170793: I tensorflow/core/framework/local_rendezvous.cc:421] Local rendezvous recv item cancelled. Key hash: 8860721573473081996\n",
      "2023-10-28 09:39:04.170862: I tensorflow/core/framework/local_rendezvous.cc:421] Local rendezvous recv item cancelled. Key hash: 4364480223560635812\n",
      "2023-10-28 09:39:04.170880: I tensorflow/core/framework/local_rendezvous.cc:421] Local rendezvous recv item cancelled. Key hash: 1443001242293084106\n",
      "2023-10-28 09:39:04.170902: I tensorflow/core/framework/local_rendezvous.cc:421] Local rendezvous recv item cancelled. Key hash: 281126620639901092\n",
      "2023-10-28 09:39:04.170923: I tensorflow/core/framework/local_rendezvous.cc:421] Local rendezvous recv item cancelled. Key hash: 3048743369422509802\n",
      "2023-10-28 09:39:04.170942: I tensorflow/core/framework/local_rendezvous.cc:421] Local rendezvous recv item cancelled. Key hash: 1224457644877177101\n",
      "2023-10-28 09:39:04.170955: I tensorflow/core/framework/local_rendezvous.cc:421] Local rendezvous recv item cancelled. Key hash: 9200166609798333171\n",
      "2023-10-28 09:39:04.170972: I tensorflow/core/framework/local_rendezvous.cc:421] Local rendezvous recv item cancelled. Key hash: 13575759560040376041\n",
      "2023-10-28 09:39:04.170986: I tensorflow/core/framework/local_rendezvous.cc:421] Local rendezvous recv item cancelled. Key hash: 5238038941981132481\n",
      "2023-10-28 09:39:04.171048: I tensorflow/core/framework/local_rendezvous.cc:421] Local rendezvous recv item cancelled. Key hash: 4267430048598394971\n",
      "2023-10-28 09:39:04.171064: I tensorflow/core/framework/local_rendezvous.cc:421] Local rendezvous recv item cancelled. Key hash: 4257071442246996601\n",
      "2023-10-28 09:39:04.171081: I tensorflow/core/framework/local_rendezvous.cc:421] Local rendezvous recv item cancelled. Key hash: 16242452034889773751\n",
      "2023-10-28 09:39:04.171139: I tensorflow/core/framework/local_rendezvous.cc:421] Local rendezvous recv item cancelled. Key hash: 4643777056824219311\n",
      "2023-10-28 09:39:04.171158: I tensorflow/core/framework/local_rendezvous.cc:421] Local rendezvous recv item cancelled. Key hash: 5064767030322985871\n",
      "2023-10-28 09:39:04.171174: I tensorflow/core/framework/local_rendezvous.cc:421] Local rendezvous recv item cancelled. Key hash: 11746819172393103930\n",
      "2023-10-28 09:39:04.171197: I tensorflow/core/framework/local_rendezvous.cc:421] Local rendezvous recv item cancelled. Key hash: 2537249414296504310\n",
      "2023-10-28 09:39:04.171256: I tensorflow/core/framework/local_rendezvous.cc:421] Local rendezvous recv item cancelled. Key hash: 12225531120829548620\n",
      "2023-10-28 09:39:04.171309: I tensorflow/core/framework/local_rendezvous.cc:421] Local rendezvous recv item cancelled. Key hash: 1166766607281532390\n"
     ]
    },
    {
     "name": "stdout",
     "output_type": "stream",
     "text": [
      "\n",
      "Epoch 1: val_loss did not improve from 0.80000\n"
     ]
    },
    {
     "name": "stderr",
     "output_type": "stream",
     "text": [
      "\u001b[34m\u001b[1mwandb\u001b[0m: Adding directory to artifact (/home/broug/Mushroom-Classifier/models/swin_large_224/1028-0930)... Done. 0.0s\n"
     ]
    },
    {
     "name": "stdout",
     "output_type": "stream",
     "text": [
      "36/36 - 329s - loss: 6.0392 - sparse_categorical_accuracy: 0.0035 - sparse_top_3_categorical_accuracy: 0.0085 - val_loss: 5.9788 - val_sparse_categorical_accuracy: 0.0068 - val_sparse_top_3_categorical_accuracy: 0.0129 - 329s/epoch - 9s/step\n",
      "Epoch 2/30\n"
     ]
    },
    {
     "name": "stderr",
     "output_type": "stream",
     "text": [
      "2023-10-28 09:39:31.422539: E ./tensorflow/compiler/xla/stream_executor/stream_executor_internal.h:124] SetPriority unimplemented for this stream.\n",
      "2023-10-28 09:39:42.680534: E ./tensorflow/compiler/xla/stream_executor/stream_executor_internal.h:124] SetPriority unimplemented for this stream.\n",
      "2023-10-28 09:39:42.989824: E ./tensorflow/compiler/xla/stream_executor/stream_executor_internal.h:124] SetPriority unimplemented for this stream.\n"
     ]
    },
    {
     "name": "stdout",
     "output_type": "stream",
     "text": [
      "\n",
      "Epoch 2: val_loss did not improve from 0.80000\n"
     ]
    },
    {
     "name": "stderr",
     "output_type": "stream",
     "text": [
      "\u001b[34m\u001b[1mwandb\u001b[0m: Adding directory to artifact (/home/broug/Mushroom-Classifier/models/swin_large_224/1028-0930)... Done. 0.0s\n"
     ]
    },
    {
     "name": "stdout",
     "output_type": "stream",
     "text": [
      "36/36 - 44s - loss: 5.9582 - sparse_categorical_accuracy: 0.0046 - sparse_top_3_categorical_accuracy: 0.0122 - val_loss: 5.9498 - val_sparse_categorical_accuracy: 0.0050 - val_sparse_top_3_categorical_accuracy: 0.0152 - 44s/epoch - 1s/step\n",
      "Epoch 3/30\n"
     ]
    },
    {
     "name": "stderr",
     "output_type": "stream",
     "text": [
      "2023-10-28 09:39:51.916816: E ./tensorflow/compiler/xla/stream_executor/stream_executor_internal.h:124] SetPriority unimplemented for this stream.\n",
      "2023-10-28 09:40:11.850122: E ./tensorflow/compiler/xla/stream_executor/stream_executor_internal.h:124] SetPriority unimplemented for this stream.\n"
     ]
    },
    {
     "name": "stdout",
     "output_type": "stream",
     "text": [
      "\n",
      "Epoch 3: val_loss did not improve from 0.80000\n"
     ]
    },
    {
     "name": "stderr",
     "output_type": "stream",
     "text": [
      "\u001b[34m\u001b[1mwandb\u001b[0m: Adding directory to artifact (/home/broug/Mushroom-Classifier/models/swin_large_224/1028-0930)... Done. 0.0s\n"
     ]
    },
    {
     "name": "stdout",
     "output_type": "stream",
     "text": [
      "36/36 - 42s - loss: 5.9791 - sparse_categorical_accuracy: 0.0063 - sparse_top_3_categorical_accuracy: 0.0145 - val_loss: 5.9679 - val_sparse_categorical_accuracy: 0.0068 - val_sparse_top_3_categorical_accuracy: 0.0138 - 42s/epoch - 1s/step\n",
      "Epoch 4/30\n",
      "\n",
      "Epoch 4: val_loss did not improve from 0.80000\n"
     ]
    },
    {
     "name": "stderr",
     "output_type": "stream",
     "text": [
      "\u001b[34m\u001b[1mwandb\u001b[0m: Adding directory to artifact (/home/broug/Mushroom-Classifier/models/swin_large_224/1028-0930)... Done. 0.0s\n"
     ]
    },
    {
     "name": "stdout",
     "output_type": "stream",
     "text": [
      "36/36 - 44s - loss: 5.9544 - sparse_categorical_accuracy: 0.0037 - sparse_top_3_categorical_accuracy: 0.0119 - val_loss: 5.9466 - val_sparse_categorical_accuracy: 0.0068 - val_sparse_top_3_categorical_accuracy: 0.0150 - 44s/epoch - 1s/step\n",
      "Epoch 5/30\n"
     ]
    },
    {
     "name": "stderr",
     "output_type": "stream",
     "text": [
      "2023-10-28 09:41:35.779411: E ./tensorflow/compiler/xla/stream_executor/stream_executor_internal.h:124] SetPriority unimplemented for this stream.\n"
     ]
    },
    {
     "name": "stdout",
     "output_type": "stream",
     "text": [
      "\n",
      "Epoch 5: val_loss did not improve from 0.80000\n"
     ]
    },
    {
     "name": "stderr",
     "output_type": "stream",
     "text": [
      "\u001b[34m\u001b[1mwandb\u001b[0m: Adding directory to artifact (/home/broug/Mushroom-Classifier/models/swin_large_224/1028-0930)... Done. 0.0s\n"
     ]
    },
    {
     "name": "stdout",
     "output_type": "stream",
     "text": [
      "36/36 - 43s - loss: 5.9351 - sparse_categorical_accuracy: 0.0039 - sparse_top_3_categorical_accuracy: 0.0141 - val_loss: 5.9365 - val_sparse_categorical_accuracy: 0.0050 - val_sparse_top_3_categorical_accuracy: 0.0118 - 43s/epoch - 1s/step\n",
      "Epoch 6/30\n",
      "\n",
      "Epoch 6: val_loss did not improve from 0.80000\n"
     ]
    },
    {
     "name": "stderr",
     "output_type": "stream",
     "text": [
      "\u001b[34m\u001b[1mwandb\u001b[0m: Adding directory to artifact (/home/broug/Mushroom-Classifier/models/swin_large_224/1028-0930)... Done. 0.0s\n"
     ]
    },
    {
     "name": "stdout",
     "output_type": "stream",
     "text": [
      "36/36 - 44s - loss: 5.9401 - sparse_categorical_accuracy: 0.0074 - sparse_top_3_categorical_accuracy: 0.0178 - val_loss: 5.9320 - val_sparse_categorical_accuracy: 0.0050 - val_sparse_top_3_categorical_accuracy: 0.0152 - 44s/epoch - 1s/step\n",
      "Epoch 7/30\n",
      "\n",
      "Epoch 7: val_loss did not improve from 0.80000\n"
     ]
    },
    {
     "name": "stderr",
     "output_type": "stream",
     "text": [
      "\u001b[34m\u001b[1mwandb\u001b[0m: Adding directory to artifact (/home/broug/Mushroom-Classifier/models/swin_large_224/1028-0930)... Done. 0.0s\n"
     ]
    },
    {
     "name": "stdout",
     "output_type": "stream",
     "text": [
      "36/36 - 42s - loss: 6.0317 - sparse_categorical_accuracy: 0.0056 - sparse_top_3_categorical_accuracy: 0.0119 - val_loss: 5.9529 - val_sparse_categorical_accuracy: 0.0026 - val_sparse_top_3_categorical_accuracy: 0.0110 - 42s/epoch - 1s/step\n",
      "Epoch 8/30\n",
      "\n",
      "Epoch 8: val_loss did not improve from 0.80000\n"
     ]
    },
    {
     "name": "stderr",
     "output_type": "stream",
     "text": [
      "\u001b[34m\u001b[1mwandb\u001b[0m: Adding directory to artifact (/home/broug/Mushroom-Classifier/models/swin_large_224/1028-0930)... Done. 0.0s\n"
     ]
    },
    {
     "name": "stdout",
     "output_type": "stream",
     "text": [
      "36/36 - 42s - loss: 5.9556 - sparse_categorical_accuracy: 0.0052 - sparse_top_3_categorical_accuracy: 0.0126 - val_loss: 5.9545 - val_sparse_categorical_accuracy: 0.0068 - val_sparse_top_3_categorical_accuracy: 0.0123 - 42s/epoch - 1s/step\n",
      "Epoch 9/30\n",
      "\n",
      "Epoch 9: val_loss did not improve from 0.80000\n"
     ]
    },
    {
     "name": "stderr",
     "output_type": "stream",
     "text": [
      "\u001b[34m\u001b[1mwandb\u001b[0m: Adding directory to artifact (/home/broug/Mushroom-Classifier/models/swin_large_224/1028-0930)... Done. 0.0s\n"
     ]
    },
    {
     "name": "stdout",
     "output_type": "stream",
     "text": [
      "36/36 - 43s - loss: 5.9565 - sparse_categorical_accuracy: 0.0037 - sparse_top_3_categorical_accuracy: 0.0137 - val_loss: 5.9395 - val_sparse_categorical_accuracy: 0.0050 - val_sparse_top_3_categorical_accuracy: 0.0128 - 43s/epoch - 1s/step\n",
      "Epoch 10/30\n",
      "\n",
      "Epoch 10: val_loss did not improve from 0.80000\n"
     ]
    },
    {
     "name": "stderr",
     "output_type": "stream",
     "text": [
      "\u001b[34m\u001b[1mwandb\u001b[0m: Adding directory to artifact (/home/broug/Mushroom-Classifier/models/swin_large_224/1028-0930)... Done. 0.0s\n"
     ]
    },
    {
     "name": "stdout",
     "output_type": "stream",
     "text": [
      "36/36 - 42s - loss: 5.9400 - sparse_categorical_accuracy: 0.0069 - sparse_top_3_categorical_accuracy: 0.0154 - val_loss: 5.9393 - val_sparse_categorical_accuracy: 0.0068 - val_sparse_top_3_categorical_accuracy: 0.0148 - 42s/epoch - 1s/step\n",
      "Epoch 11/30\n",
      "\n",
      "Epoch 11: val_loss did not improve from 0.80000\n"
     ]
    },
    {
     "name": "stderr",
     "output_type": "stream",
     "text": [
      "\u001b[34m\u001b[1mwandb\u001b[0m: Adding directory to artifact (/home/broug/Mushroom-Classifier/models/swin_large_224/1028-0930)... Done. 0.0s\n"
     ]
    },
    {
     "name": "stdout",
     "output_type": "stream",
     "text": [
      "36/36 - 45s - loss: 5.9478 - sparse_categorical_accuracy: 0.0082 - sparse_top_3_categorical_accuracy: 0.0137 - val_loss: 5.9304 - val_sparse_categorical_accuracy: 0.0068 - val_sparse_top_3_categorical_accuracy: 0.0167 - 45s/epoch - 1s/step\n",
      "Epoch 12/30\n",
      "\n",
      "Epoch 12: val_loss did not improve from 0.80000\n"
     ]
    },
    {
     "name": "stderr",
     "output_type": "stream",
     "text": [
      "\u001b[34m\u001b[1mwandb\u001b[0m: Adding directory to artifact (/home/broug/Mushroom-Classifier/models/swin_large_224/1028-0930)... Done. 0.0s\n"
     ]
    },
    {
     "name": "stdout",
     "output_type": "stream",
     "text": [
      "36/36 - 44s - loss: 5.9268 - sparse_categorical_accuracy: 0.0052 - sparse_top_3_categorical_accuracy: 0.0161 - val_loss: 5.9258 - val_sparse_categorical_accuracy: 0.0068 - val_sparse_top_3_categorical_accuracy: 0.0167 - 44s/epoch - 1s/step\n",
      "Epoch 13/30\n",
      "\n",
      "Epoch 13: val_loss did not improve from 0.80000\n"
     ]
    },
    {
     "name": "stderr",
     "output_type": "stream",
     "text": [
      "\u001b[34m\u001b[1mwandb\u001b[0m: Adding directory to artifact (/home/broug/Mushroom-Classifier/models/swin_large_224/1028-0930)... Done. 0.0s\n"
     ]
    },
    {
     "name": "stdout",
     "output_type": "stream",
     "text": [
      "36/36 - 44s - loss: 5.9482 - sparse_categorical_accuracy: 0.0059 - sparse_top_3_categorical_accuracy: 0.0132 - val_loss: 5.9238 - val_sparse_categorical_accuracy: 0.0068 - val_sparse_top_3_categorical_accuracy: 0.0167 - 44s/epoch - 1s/step\n",
      "Epoch 14/30\n",
      "\n",
      "Epoch 14: val_loss did not improve from 0.80000\n"
     ]
    },
    {
     "name": "stderr",
     "output_type": "stream",
     "text": [
      "\u001b[34m\u001b[1mwandb\u001b[0m: Adding directory to artifact (/home/broug/Mushroom-Classifier/models/swin_large_224/1028-0930)... Done. 0.0s\n"
     ]
    },
    {
     "name": "stdout",
     "output_type": "stream",
     "text": [
      "36/36 - 44s - loss: 5.9382 - sparse_categorical_accuracy: 0.0065 - sparse_top_3_categorical_accuracy: 0.0167 - val_loss: 5.9229 - val_sparse_categorical_accuracy: 0.0068 - val_sparse_top_3_categorical_accuracy: 0.0167 - 44s/epoch - 1s/step\n",
      "Epoch 15/30\n",
      "\n",
      "Epoch 15: val_loss did not improve from 0.80000\n"
     ]
    },
    {
     "name": "stderr",
     "output_type": "stream",
     "text": [
      "\u001b[34m\u001b[1mwandb\u001b[0m: Adding directory to artifact (/home/broug/Mushroom-Classifier/models/swin_large_224/1028-0930)... Done. 0.0s\n"
     ]
    },
    {
     "name": "stdout",
     "output_type": "stream",
     "text": [
      "36/36 - 42s - loss: 5.9422 - sparse_categorical_accuracy: 0.0043 - sparse_top_3_categorical_accuracy: 0.0141 - val_loss: 5.9463 - val_sparse_categorical_accuracy: 0.0068 - val_sparse_top_3_categorical_accuracy: 0.0149 - 42s/epoch - 1s/step\n",
      "Epoch 16/30\n",
      "\n",
      "Epoch 16: val_loss did not improve from 0.80000\n"
     ]
    },
    {
     "name": "stderr",
     "output_type": "stream",
     "text": [
      "\u001b[34m\u001b[1mwandb\u001b[0m: Adding directory to artifact (/home/broug/Mushroom-Classifier/models/swin_large_224/1028-0930)... Done. 0.0s\n"
     ]
    },
    {
     "name": "stdout",
     "output_type": "stream",
     "text": [
      "36/36 - 43s - loss: 5.9530 - sparse_categorical_accuracy: 0.0063 - sparse_top_3_categorical_accuracy: 0.0132 - val_loss: 5.9450 - val_sparse_categorical_accuracy: 0.0068 - val_sparse_top_3_categorical_accuracy: 0.0157 - 43s/epoch - 1s/step\n",
      "Epoch 17/30\n",
      "WARNING:tensorflow:Your input ran out of data; interrupting training. Make sure that your dataset or generator can generate at least `steps_per_epoch * epochs` batches (in this case, 1080.0 batches). You may need to use the repeat() function when building your dataset.\n"
     ]
    },
    {
     "name": "stderr",
     "output_type": "stream",
     "text": [
      "2023-10-28 09:50:03.483665: I tensorflow/core/framework/local_rendezvous.cc:421] Local rendezvous recv item cancelled. Key hash: 5317757149409005582\n",
      "2023-10-28 09:50:03.483721: I tensorflow/core/framework/local_rendezvous.cc:421] Local rendezvous recv item cancelled. Key hash: 11245697772187935193\n",
      "2023-10-28 09:50:03.483755: I tensorflow/core/framework/local_rendezvous.cc:421] Local rendezvous recv item cancelled. Key hash: 13883331947871256807\n",
      "2023-10-28 09:50:03.483790: I tensorflow/core/framework/local_rendezvous.cc:421] Local rendezvous recv item cancelled. Key hash: 15150050127418225084\n",
      "2023-10-28 09:50:03.483826: I tensorflow/core/framework/local_rendezvous.cc:421] Local rendezvous recv item cancelled. Key hash: 3251553944753356915\n",
      "2023-10-28 09:50:03.483880: I tensorflow/core/framework/local_rendezvous.cc:421] Local rendezvous recv item cancelled. Key hash: 14250957387171225872\n",
      "2023-10-28 09:50:03.483897: I tensorflow/core/framework/local_rendezvous.cc:421] Local rendezvous recv item cancelled. Key hash: 14304523085057831743\n",
      "2023-10-28 09:50:03.483912: I tensorflow/core/framework/local_rendezvous.cc:421] Local rendezvous recv item cancelled. Key hash: 2580013656751170727\n",
      "2023-10-28 09:50:03.483927: I tensorflow/core/framework/local_rendezvous.cc:421] Local rendezvous recv item cancelled. Key hash: 15320843160114893534\n",
      "2023-10-28 09:50:03.483942: I tensorflow/core/framework/local_rendezvous.cc:421] Local rendezvous recv item cancelled. Key hash: 17455470145487619988\n",
      "2023-10-28 09:50:03.483977: I tensorflow/core/framework/local_rendezvous.cc:421] Local rendezvous recv item cancelled. Key hash: 4479937260846458835\n",
      "2023-10-28 09:50:03.483995: I tensorflow/core/framework/local_rendezvous.cc:421] Local rendezvous recv item cancelled. Key hash: 11684128485135581552\n",
      "2023-10-28 09:50:03.484010: I tensorflow/core/framework/local_rendezvous.cc:421] Local rendezvous recv item cancelled. Key hash: 15616840008086521203\n",
      "2023-10-28 09:50:03.484024: I tensorflow/core/framework/local_rendezvous.cc:421] Local rendezvous recv item cancelled. Key hash: 3399098862559995337\n",
      "2023-10-28 09:50:03.484038: I tensorflow/core/framework/local_rendezvous.cc:421] Local rendezvous recv item cancelled. Key hash: 9151810762472589954\n",
      "2023-10-28 09:50:03.484051: I tensorflow/core/framework/local_rendezvous.cc:421] Local rendezvous recv item cancelled. Key hash: 3405707014935201558\n",
      "2023-10-28 09:50:03.484068: I tensorflow/core/framework/local_rendezvous.cc:421] Local rendezvous recv item cancelled. Key hash: 2605070221078595615\n",
      "2023-10-28 09:50:03.484085: I tensorflow/core/framework/local_rendezvous.cc:421] Local rendezvous recv item cancelled. Key hash: 2680092476109435672\n",
      "2023-10-28 09:50:03.484100: I tensorflow/core/framework/local_rendezvous.cc:421] Local rendezvous recv item cancelled. Key hash: 1422231938852046343\n",
      "2023-10-28 09:50:03.484113: I tensorflow/core/framework/local_rendezvous.cc:421] Local rendezvous recv item cancelled. Key hash: 18314776697776350447\n",
      "2023-10-28 09:50:03.484126: I tensorflow/core/framework/local_rendezvous.cc:421] Local rendezvous recv item cancelled. Key hash: 17604802286507031584\n",
      "2023-10-28 09:50:03.484139: I tensorflow/core/framework/local_rendezvous.cc:421] Local rendezvous recv item cancelled. Key hash: 538129679385651848\n",
      "2023-10-28 09:50:03.484155: I tensorflow/core/framework/local_rendezvous.cc:421] Local rendezvous recv item cancelled. Key hash: 11877809096080403505\n",
      "2023-10-28 09:50:03.484172: I tensorflow/core/framework/local_rendezvous.cc:421] Local rendezvous recv item cancelled. Key hash: 1032960384568772002\n",
      "2023-10-28 09:50:03.484186: I tensorflow/core/framework/local_rendezvous.cc:421] Local rendezvous recv item cancelled. Key hash: 17749506895088294583\n",
      "2023-10-28 09:50:03.484197: I tensorflow/core/framework/local_rendezvous.cc:421] Local rendezvous recv item cancelled. Key hash: 281126620639901092\n",
      "2023-10-28 09:50:03.484210: I tensorflow/core/framework/local_rendezvous.cc:421] Local rendezvous recv item cancelled. Key hash: 715208271915404267\n",
      "2023-10-28 09:50:03.484224: I tensorflow/core/framework/local_rendezvous.cc:421] Local rendezvous recv item cancelled. Key hash: 11921722403594772549\n",
      "2023-10-28 09:50:03.484238: I tensorflow/core/framework/local_rendezvous.cc:421] Local rendezvous recv item cancelled. Key hash: 5665294087053749178\n",
      "2023-10-28 09:50:03.484256: I tensorflow/core/framework/local_rendezvous.cc:421] Local rendezvous recv item cancelled. Key hash: 6680688071272189545\n",
      "2023-10-28 09:50:03.484279: I tensorflow/core/framework/local_rendezvous.cc:421] Local rendezvous recv item cancelled. Key hash: 11302410107594424093\n",
      "2023-10-28 09:50:03.484308: I tensorflow/core/framework/local_rendezvous.cc:421] Local rendezvous recv item cancelled. Key hash: 3048743369422509802\n",
      "2023-10-28 09:50:03.484321: I tensorflow/core/framework/local_rendezvous.cc:421] Local rendezvous recv item cancelled. Key hash: 9845142447731920757\n",
      "2023-10-28 09:50:03.484335: I tensorflow/core/framework/local_rendezvous.cc:421] Local rendezvous recv item cancelled. Key hash: 18309918616257892679\n",
      "2023-10-28 09:50:03.484343: I tensorflow/core/framework/local_rendezvous.cc:421] Local rendezvous recv item cancelled. Key hash: 12925081941891307407\n",
      "2023-10-28 09:50:03.484352: I tensorflow/core/framework/local_rendezvous.cc:421] Local rendezvous recv item cancelled. Key hash: 16837685580777284089\n",
      "2023-10-28 09:50:03.484362: I tensorflow/core/framework/local_rendezvous.cc:421] Local rendezvous recv item cancelled. Key hash: 2201527700433566547\n",
      "2023-10-28 09:50:03.484373: I tensorflow/core/framework/local_rendezvous.cc:421] Local rendezvous recv item cancelled. Key hash: 5673221285516824849\n",
      "2023-10-28 09:50:03.484386: I tensorflow/core/framework/local_rendezvous.cc:421] Local rendezvous recv item cancelled. Key hash: 10068245645172686068\n",
      "2023-10-28 09:50:03.484402: I tensorflow/core/framework/local_rendezvous.cc:421] Local rendezvous recv item cancelled. Key hash: 4261982425260217025\n",
      "2023-10-28 09:50:03.484420: I tensorflow/core/framework/local_rendezvous.cc:421] Local rendezvous recv item cancelled. Key hash: 13882956212981406942\n",
      "2023-10-28 09:50:03.484435: I tensorflow/core/framework/local_rendezvous.cc:421] Local rendezvous recv item cancelled. Key hash: 1224457644877177101\n",
      "2023-10-28 09:50:03.484450: I tensorflow/core/framework/local_rendezvous.cc:421] Local rendezvous recv item cancelled. Key hash: 5052163539985415637\n",
      "2023-10-28 09:50:03.484460: I tensorflow/core/framework/local_rendezvous.cc:421] Local rendezvous recv item cancelled. Key hash: 13575759560040376041\n",
      "2023-10-28 09:50:03.484471: I tensorflow/core/framework/local_rendezvous.cc:421] Local rendezvous recv item cancelled. Key hash: 11998062590690082557\n",
      "2023-10-28 09:50:03.484484: I tensorflow/core/framework/local_rendezvous.cc:421] Local rendezvous recv item cancelled. Key hash: 17203427776154843079\n",
      "2023-10-28 09:50:03.484497: I tensorflow/core/framework/local_rendezvous.cc:421] Local rendezvous recv item cancelled. Key hash: 8168942315838209608\n",
      "2023-10-28 09:50:03.484506: I tensorflow/core/framework/local_rendezvous.cc:421] Local rendezvous recv item cancelled. Key hash: 8695909498269293059\n",
      "2023-10-28 09:50:03.484517: I tensorflow/core/framework/local_rendezvous.cc:421] Local rendezvous recv item cancelled. Key hash: 13518348814426258478\n",
      "2023-10-28 09:50:03.484532: I tensorflow/core/framework/local_rendezvous.cc:421] Local rendezvous recv item cancelled. Key hash: 6347597210772263815\n",
      "2023-10-28 09:50:03.484549: I tensorflow/core/framework/local_rendezvous.cc:421] Local rendezvous recv item cancelled. Key hash: 14829361763754536872\n",
      "2023-10-28 09:50:03.484565: I tensorflow/core/framework/local_rendezvous.cc:421] Local rendezvous recv item cancelled. Key hash: 4031592973871540501\n",
      "2023-10-28 09:50:03.484578: I tensorflow/core/framework/local_rendezvous.cc:421] Local rendezvous recv item cancelled. Key hash: 17862996617772613756\n",
      "2023-10-28 09:50:03.484591: I tensorflow/core/framework/local_rendezvous.cc:421] Local rendezvous recv item cancelled. Key hash: 10938107921865560519\n",
      "2023-10-28 09:50:03.484607: I tensorflow/core/framework/local_rendezvous.cc:421] Local rendezvous recv item cancelled. Key hash: 15350608720708540035\n",
      "2023-10-28 09:50:03.484624: I tensorflow/core/framework/local_rendezvous.cc:421] Local rendezvous recv item cancelled. Key hash: 1485305523985924100\n",
      "2023-10-28 09:50:03.484641: I tensorflow/core/framework/local_rendezvous.cc:421] Local rendezvous recv item cancelled. Key hash: 5285467089788160491\n",
      "2023-10-28 09:50:03.484655: I tensorflow/core/framework/local_rendezvous.cc:421] Local rendezvous recv item cancelled. Key hash: 4391792457160262656\n",
      "2023-10-28 09:50:03.484672: I tensorflow/core/framework/local_rendezvous.cc:421] Local rendezvous recv item cancelled. Key hash: 5795033185776662395\n",
      "2023-10-28 09:50:03.484688: I tensorflow/core/framework/local_rendezvous.cc:421] Local rendezvous recv item cancelled. Key hash: 7472707204154802560\n",
      "2023-10-28 09:50:03.484704: I tensorflow/core/framework/local_rendezvous.cc:421] Local rendezvous recv item cancelled. Key hash: 4257071442246996601\n",
      "2023-10-28 09:50:03.484717: I tensorflow/core/framework/local_rendezvous.cc:421] Local rendezvous recv item cancelled. Key hash: 7715918304874383266\n",
      "2023-10-28 09:50:03.484733: I tensorflow/core/framework/local_rendezvous.cc:421] Local rendezvous recv item cancelled. Key hash: 6761123913332104765\n",
      "2023-10-28 09:50:03.484749: I tensorflow/core/framework/local_rendezvous.cc:421] Local rendezvous recv item cancelled. Key hash: 17189208382159029340\n",
      "2023-10-28 09:50:03.484765: I tensorflow/core/framework/local_rendezvous.cc:421] Local rendezvous recv item cancelled. Key hash: 16242452034889773751\n",
      "2023-10-28 09:50:03.484778: I tensorflow/core/framework/local_rendezvous.cc:421] Local rendezvous recv item cancelled. Key hash: 11121860201739307256\n",
      "2023-10-28 09:50:03.484793: I tensorflow/core/framework/local_rendezvous.cc:421] Local rendezvous recv item cancelled. Key hash: 3202089046395707145\n",
      "2023-10-28 09:50:03.484812: I tensorflow/core/framework/local_rendezvous.cc:421] Local rendezvous recv item cancelled. Key hash: 3185684823606040311\n",
      "2023-10-28 09:50:03.484826: I tensorflow/core/framework/local_rendezvous.cc:421] Local rendezvous recv item cancelled. Key hash: 1892602418229898576\n",
      "2023-10-28 09:50:03.484845: I tensorflow/core/framework/local_rendezvous.cc:421] Local rendezvous recv item cancelled. Key hash: 12973176427717882306\n",
      "2023-10-28 09:50:03.484860: I tensorflow/core/framework/local_rendezvous.cc:421] Local rendezvous recv item cancelled. Key hash: 13414837458791568310\n",
      "2023-10-28 09:50:03.484876: I tensorflow/core/framework/local_rendezvous.cc:421] Local rendezvous recv item cancelled. Key hash: 11125653712688125366\n",
      "2023-10-28 09:50:03.484885: I tensorflow/core/framework/local_rendezvous.cc:421] Local rendezvous recv item cancelled. Key hash: 2537249414296504310\n",
      "2023-10-28 09:50:03.484934: I tensorflow/core/framework/local_rendezvous.cc:421] Local rendezvous recv item cancelled. Key hash: 17761577265507792661\n",
      "2023-10-28 09:50:03.484964: I tensorflow/core/framework/local_rendezvous.cc:421] Local rendezvous recv item cancelled. Key hash: 5064767030322985871\n",
      "2023-10-28 09:50:03.484979: I tensorflow/core/framework/local_rendezvous.cc:421] Local rendezvous recv item cancelled. Key hash: 4377143685971860281\n",
      "2023-10-28 09:50:03.485024: I tensorflow/core/framework/local_rendezvous.cc:421] Local rendezvous recv item cancelled. Key hash: 7967468057218160016\n",
      "2023-10-28 09:50:03.485040: I tensorflow/core/framework/local_rendezvous.cc:421] Local rendezvous recv item cancelled. Key hash: 6837547305516245130\n",
      "2023-10-28 09:50:03.485056: I tensorflow/core/framework/local_rendezvous.cc:421] Local rendezvous recv item cancelled. Key hash: 10094064513743943946\n",
      "2023-10-28 09:50:03.485068: I tensorflow/core/framework/local_rendezvous.cc:421] Local rendezvous recv item cancelled. Key hash: 2575612214707248551\n",
      "2023-10-28 09:50:03.485083: I tensorflow/core/framework/local_rendezvous.cc:421] Local rendezvous recv item cancelled. Key hash: 455021122209058630\n",
      "WARNING:tensorflow:Your input ran out of data; interrupting training. Make sure that your dataset or generator can generate at least `steps_per_epoch * epochs` batches (in this case, 1080.0 batches). You may need to use the repeat() function when building your dataset.\n"
     ]
    },
    {
     "name": "stdout",
     "output_type": "stream",
     "text": [
      "\n",
      "Epoch 17: val_loss did not improve from 0.80000\n"
     ]
    },
    {
     "name": "stderr",
     "output_type": "stream",
     "text": [
      "\u001b[34m\u001b[1mwandb\u001b[0m: Adding directory to artifact (/home/broug/Mushroom-Classifier/models/swin_large_224/1028-0930)... Done. 0.0s\n"
     ]
    },
    {
     "name": "stdout",
     "output_type": "stream",
     "text": [
      "36/36 - 33s - loss: 5.9448 - sparse_categorical_accuracy: 0.0030 - sparse_top_3_categorical_accuracy: 0.0101 - val_loss: 5.9466 - val_sparse_categorical_accuracy: 0.0026 - val_sparse_top_3_categorical_accuracy: 0.0126 - 33s/epoch - 907ms/step\n"
     ]
    },
    {
     "name": "stderr",
     "output_type": "stream",
     "text": [
      "\u001b[32m2023-10-28 09:50:28.751\u001b[0m | \u001b[1mINFO    \u001b[0m | \u001b[36m__main__\u001b[0m:\u001b[36m<module>\u001b[0m:\u001b[36m57\u001b[0m - \u001b[1mPredicting OOF with TTA...\u001b[0m\n"
     ]
    },
    {
     "ename": "NameError",
     "evalue": "name 'count_data_items' is not defined",
     "output_type": "error",
     "traceback": [
      "\u001b[0;31m---------------------------------------------------------------------------\u001b[0m",
      "\u001b[0;31mNameError\u001b[0m                                 Traceback (most recent call last)",
      "\u001b[1;32m/home/broug/Mushroom-Classifier/training/test.ipynb Cell 6\u001b[0m line \u001b[0;36m5\n\u001b[1;32m     <a href='vscode-notebook-cell://ssh-remote%2Bmy-tpu.us-central1-a.mush-classifier/home/broug/Mushroom-Classifier/training/test.ipynb#W5sdnNjb2RlLXJlbW90ZQ%3D%3D?line=56'>57</a>\u001b[0m logger\u001b[39m.\u001b[39minfo(\u001b[39m\"\u001b[39m\u001b[39mPredicting OOF with TTA...\u001b[39m\u001b[39m\"\u001b[39m)\n\u001b[1;32m     <a href='vscode-notebook-cell://ssh-remote%2Bmy-tpu.us-central1-a.mush-classifier/home/broug/Mushroom-Classifier/training/test.ipynb#W5sdnNjb2RlLXJlbW90ZQ%3D%3D?line=57'>58</a>\u001b[0m ds_valid \u001b[39m=\u001b[39m get_dataset(files_valid, CFG),\n\u001b[0;32m---> <a href='vscode-notebook-cell://ssh-remote%2Bmy-tpu.us-central1-a.mush-classifier/home/broug/Mushroom-Classifier/training/test.ipynb#W5sdnNjb2RlLXJlbW90ZQ%3D%3D?line=58'>59</a>\u001b[0m ct_valid \u001b[39m=\u001b[39m count_data_items(files_valid)\n\u001b[1;32m     <a href='vscode-notebook-cell://ssh-remote%2Bmy-tpu.us-central1-a.mush-classifier/home/broug/Mushroom-Classifier/training/test.ipynb#W5sdnNjb2RlLXJlbW90ZQ%3D%3D?line=59'>60</a>\u001b[0m STEPS \u001b[39m=\u001b[39m CFG\u001b[39m.\u001b[39mTTA \u001b[39m*\u001b[39m ct_valid \u001b[39m/\u001b[39m CFG\u001b[39m.\u001b[39mBATCH_SIZES \u001b[39m/\u001b[39m \u001b[39m4\u001b[39m \u001b[39m/\u001b[39m CFG\u001b[39m.\u001b[39mREPLICAS\n\u001b[1;32m     <a href='vscode-notebook-cell://ssh-remote%2Bmy-tpu.us-central1-a.mush-classifier/home/broug/Mushroom-Classifier/training/test.ipynb#W5sdnNjb2RlLXJlbW90ZQ%3D%3D?line=60'>61</a>\u001b[0m pred \u001b[39m=\u001b[39m model\u001b[39m.\u001b[39mpredict(ds_valid, steps\u001b[39m=\u001b[39mSTEPS, verbose\u001b[39m=\u001b[39mCFG\u001b[39m.\u001b[39mVERBOSE)[\n\u001b[1;32m     <a href='vscode-notebook-cell://ssh-remote%2Bmy-tpu.us-central1-a.mush-classifier/home/broug/Mushroom-Classifier/training/test.ipynb#W5sdnNjb2RlLXJlbW90ZQ%3D%3D?line=61'>62</a>\u001b[0m     : CFG\u001b[39m.\u001b[39mTTA \u001b[39m*\u001b[39m ct_valid,\n\u001b[1;32m     <a href='vscode-notebook-cell://ssh-remote%2Bmy-tpu.us-central1-a.mush-classifier/home/broug/Mushroom-Classifier/training/test.ipynb#W5sdnNjb2RlLXJlbW90ZQ%3D%3D?line=62'>63</a>\u001b[0m ]\n",
      "\u001b[0;31mNameError\u001b[0m: name 'count_data_items' is not defined"
     ]
    }
   ],
   "source": [
    "GCS_PATH = get_gcs_path(CFG2.IMAGE_SIZE[0])\n",
    "skf = KFold(n_splits=CFG2.FOLDS, shuffle=True, random_state=CFG2.SEED)\n",
    "oof_pred = []\n",
    "oof_tar = []\n",
    "oof_val = []\n",
    "oof_names = []\n",
    "oof_folds = []\n",
    "\n",
    "for fold, (idxT, idxV) in enumerate(skf.split(np.arange(107))):\n",
    "    # DISPLAY FOLD INFO\n",
    "    print(\"#\" * 25)\n",
    "    print(\"#### FOLD\", fold + 1)\n",
    "\n",
    "    files_train = tf.io.gfile.glob([f\"{GCS_PATH}/train{x:02d}*.tfrec\" for x in idxT])\n",
    "    files_valid = tf.io.gfile.glob(f\"{GCS_PATH}/train{x:02d}*.tfrec\" for x in idxV)\n",
    "    files_test = tf.io.gfile.glob(f\"{GCS_PATH}/val*.tfrec\")\n",
    "\n",
    "    CFG2.NUM_TRAINING_IMAGES = tr_fn.count_data_items(files_train)\n",
    "    CFG2.NUM_VALIDATION_IMAGES = tr_fn.count_data_items(files_valid)\n",
    "\n",
    "    CFG = CFG(REPLICAS=CFG2.REPLICAS, NUM_TRAINING_IMAGES=CFG2.NUM_TRAINING_IMAGES, NUM_VALIDATION_IMAGES=CFG2.NUM_VALIDATION_IMAGES)\n",
    "\n",
    "    logger.debug(\n",
    "        f\"Image Size {CFG.IMAGE_SIZE} with Model {CFG.MODEL} and batch_sz {CFG.BATCH_SIZE}\"  # {CFG2.BASE_BATCH_SIZE * CFG2.REPLICAS}\"\n",
    "    )\n",
    "\n",
    "    wandb.init(\n",
    "        project=\"Mushroom-Classifier\",\n",
    "        tags=[CFG.MODEL, CFG.OPT, CFG.LR_SCHED, str(CFG.IMAGE_SIZE[0])],\n",
    "        config=CFG,\n",
    "        dir=\"../\",\n",
    "        config_exclude_keys=[\n",
    "            \"DEBUG\", \"GCS_REPO\", \"TRAIN\", \"ROOT\", \"DATA\", \"VERBOSE\", \"DISPLAY_PLOT\", \n",
    "            \"BASE_BATCH_SIZE\", \"WGTS\", \"OPT\", \"LR_SCHED\", \"MODEL\"\n",
    "        ],\n",
    "        group=\"New dataset flow\",\n",
    "    )\n",
    "\n",
    "    logger.info(\"Build & Compile Model...\")\n",
    "    \n",
    "    K.clear_session()\n",
    "    with strategy.scope():\n",
    "        model = tr_fn.create_model(CFG, class_dict)\n",
    "        opt = tr_fn.create_optimizer(CFG)\n",
    "        loss = tf.keras.losses.SparseCategoricalCrossentropy()\n",
    "\n",
    "        top3_acc = tf.keras.metrics.SparseTopKCategoricalAccuracy(\n",
    "            k=3, name='sparse_top_3_categorical_accuracy'\n",
    "        )\n",
    "    model.compile(optimizer=opt, loss=loss, metrics=['sparse_categorical_accuracy', top3_acc])\n",
    "\n",
    "    logger.info(\"Training Model...\")\n",
    "    # TRAIN\n",
    "    history = get_history(model, fold, files_train, files_valid, CFG)\n",
    "\n",
    "    # PREDICT OOF USING TTA\n",
    "    logger.info(\"Predicting OOF with TTA...\")\n",
    "    ds_valid = get_dataset(files_valid, CFG),\n",
    "    ct_valid = count_data_items(files_valid)\n",
    "    STEPS = CFG.TTA * ct_valid / CFG.BATCH_SIZES / 4 / CFG.REPLICAS\n",
    "    pred = model.predict(ds_valid, steps=STEPS, verbose=CFG.VERBOSE)[\n",
    "        : CFG.TTA * ct_valid,\n",
    "    ]\n",
    "    oof_pred.append(np.mean(pred.reshape((ct_valid, CFG.TTA), order=\"F\"), axis=1))\n",
    "    # oof_pred.append(model.predict(get_dataset(files_valid,dim=CFG.IMG_SIZES),verbose=1))\n",
    "\n",
    "    # GET OOF TARGETS AND NAMES\n",
    "    oof_tar, oof_folds, oof_names = oof_targets_names_folds(files_valid, CFG, fold, oof_tar, oof_folds, oof_names)\n",
    "\n",
    "    # REPORT RESULTS\n",
    "    auc = roc_auc_score(oof_tar[-1], oof_pred[-1])\n",
    "    oof_val.append(np.max(history.history[\"val_auc\"]))\n",
    "    logger.info(\n",
    "        f\"#### FOLD {fold + 1} OOF AUC without TTA = {oof_val[-1]}, with TTA = {auc}\"\n",
    "    )\n",
    "    wandb.finish()"
   ]
  },
  {
   "cell_type": "code",
   "execution_count": null,
   "metadata": {},
   "outputs": [],
   "source": []
  }
 ],
 "metadata": {
  "kernelspec": {
   "display_name": "Python 3",
   "language": "python",
   "name": "python3"
  },
  "language_info": {
   "codemirror_mode": {
    "name": "ipython",
    "version": 3
   },
   "file_extension": ".py",
   "mimetype": "text/x-python",
   "name": "python",
   "nbconvert_exporter": "python",
   "pygments_lexer": "ipython3",
   "version": "3.11.5"
  }
 },
 "nbformat": 4,
 "nbformat_minor": 2
}
